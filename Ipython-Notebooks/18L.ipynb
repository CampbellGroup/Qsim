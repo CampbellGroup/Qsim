{
 "cells": [
  {
   "cell_type": "code",
   "execution_count": 1,
   "metadata": {
    "collapsed": false
   },
   "outputs": [
    {
     "name": "stderr",
     "output_type": "stream",
     "text": [
      "/home/qsimexpcontrol/.virtualenvs/labrad/local/lib/python2.7/site-packages/matplotlib/font_manager.py:273: UserWarning: Matplotlib is building the font cache using fc-list. This may take a moment.\n",
      "  warnings.warn('Matplotlib is building the font cache using fc-list. This may take a moment.')\n"
     ]
    }
   ],
   "source": [
    "import numpy as np\n",
    "import matplotlib.pyplot as plt\n",
    "%matplotlib inline"
   ]
  },
  {
   "cell_type": "code",
   "execution_count": 10,
   "metadata": {
    "collapsed": false
   },
   "outputs": [
    {
     "data": {
      "text/plain": [
       "(array([ 1.,  0.,  0.,  0.,  0.,  0.,  0.,  0.,  0.,  0.,  0.,  0.,  0.,\n",
       "         0.,  0.,  0.,  0.,  0.,  0.,  0.,  0.,  1.,  0.,  1.,  0.,  0.,\n",
       "         3.,  1.,  1.,  1.,  2.,  1.,  0.,  1.,  1.,  0.,  0.,  0.,  0.,  1.]),\n",
       " array([  2.78 ,   3.029,   3.278,   3.527,   3.776,   4.025,   4.274,\n",
       "          4.523,   4.772,   5.021,   5.27 ,   5.519,   5.768,   6.017,\n",
       "          6.266,   6.515,   6.764,   7.013,   7.262,   7.511,   7.76 ,\n",
       "          8.009,   8.258,   8.507,   8.756,   9.005,   9.254,   9.503,\n",
       "          9.752,  10.001,  10.25 ,  10.499,  10.748,  10.997,  11.246,\n",
       "         11.495,  11.744,  11.993,  12.242,  12.491,  12.74 ]),\n",
       " <a list of 40 Patch objects>)"
      ]
     },
     "execution_count": 10,
     "metadata": {},
     "output_type": "execute_result"
    },
    {
     "data": {
      "image/png": "[encoded data removed]",
      "text/plain": [
       "<matplotlib.figure.Figure at 0x7f725c799810>"
      ]
     },
     "metadata": {},
     "output_type": "display_data"
    }
   ],
   "source": [
    "totals = [2.78, 9.57, 10.04, 8.06, 9.34, 9.98, 8.59, 11.11, 11.49, 10.44, 10.61, 12.74, 10.41, 9.36, 9.47]\n",
    "plt.hist(totals, 40)"
   ]
  },
  {
   "cell_type": "code",
   "execution_count": 4,
   "metadata": {
    "collapsed": false
   },
   "outputs": [
    {
     "data": {
      "text/plain": [
       "32.590000000000003"
      ]
     },
     "execution_count": 4,
     "metadata": {},
     "output_type": "execute_result"
    },
    {
     "data": {
      "image/png": "[encoded data removed]",
      "text/plain": [
       "<matplotlib.figure.Figure at 0x7fbba0ece590>"
      ]
     },
     "metadata": {},
     "output_type": "display_data"
    }
   ],
   "source": [
    "TOTALS = [25.58, 31.43, 31.44, 31.57, 31.77, 31.78, 31.8, 31.86, 32.36, 34.03, 34.15, 34.34, 34.37, 34.69, 37.68]\n",
    "plt.hist(TOTALS, 20)\n",
    "np.mean(TOTALS)"
   ]
  },
  {
   "cell_type": "code",
   "execution_count": null,
   "metadata": {
    "collapsed": true
   },
   "outputs": [],
   "source": []
  }
 ],
 "metadata": {
  "kernelspec": {
   "display_name": "Python 2",
   "language": "python",
   "name": "python2"
  },
  "language_info": {
   "codemirror_mode": {
    "name": "ipython",
    "version": 2
   },
   "file_extension": ".py",
   "mimetype": "text/x-python",
   "name": "python",
   "nbconvert_exporter": "python",
   "pygments_lexer": "ipython2",
   "version": "2.7.6"
  }
 },
 "nbformat": 4,
 "nbformat_minor": 0
}
