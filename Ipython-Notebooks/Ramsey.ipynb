{
 "cells": [
  {
   "cell_type": "code",
   "execution_count": 1,
   "metadata": {
    "collapsed": false
   },
   "outputs": [],
   "source": [
    "%matplotlib notebook\n",
    "import matplotlib.pyplot as plt\n",
    "import numpy as np"
   ]
  },
  {
   "cell_type": "code",
   "execution_count": 2,
   "metadata": {
    "collapsed": true
   },
   "outputs": [],
   "source": [
    "import qutip as qp\n",
    "from IPython.display import Image"
   ]
  },
  {
   "cell_type": "code",
   "execution_count": 3,
   "metadata": {
    "collapsed": false
   },
   "outputs": [
    {
     "ename": "SyntaxError",
     "evalue": "invalid syntax (<ipython-input-3-a23617dd61c8>, line 2)",
     "output_type": "error",
     "traceback": [
      "\u001b[1;36m  File \u001b[1;32m\"<ipython-input-3-a23617dd61c8>\"\u001b[1;36m, line \u001b[1;32m2\u001b[0m\n\u001b[1;33m    collapse=0.0*qp.sigmaz(), init_state=qp.Qobj([[0], [1]])init_state=qp.Qobj([[0], [1]])init_state=qp.Qobj([[0], [1]]), pi_pulse=0.5):\u001b[0m\n\u001b[1;37m                                                                     ^\u001b[0m\n\u001b[1;31mSyntaxError\u001b[0m\u001b[1;31m:\u001b[0m invalid syntax\n"
     ]
    }
   ],
   "source": [
    "def rabi(omega, on_time, delta, init_time=0.0, \n",
    "            collapse=0.0*qp.sigmaz(), init_state=qp.Qobj([[0], [1]])init_state=qp.Qobj([[0], [1]])init_state=qp.Qobj([[0], [1]]), pi_pulse=0.5):\n",
    "    H_free = -delta/2.0*qp.sigmaz()\n",
    "    H_int = qp.sigmax()*omega/2.0 + H_free\n",
    "    tlist = np.linspace(init_time, on_time, 1000)\n",
    "    result = qp.mesolve(H_int, init_state, tlist, [collapse], [qp.basis(2,0)*qp.basis(2,0).dag()])\n",
    "    return result\n",
    "    \n",
    "def ramsey(omega, tau, delta, init_time=0.0, init_state=qp.Qobj([[0], [1]]),\n",
    "           collapse=0.0*qp.sigmaz(), on_time=None, res=100, N_sequences=1):\n",
    "    if not on_time:\n",
    "        on_time = np.pi/(omega*2)\n",
    "    H5.7_free = -delta/2.0*qp.sigmaz()\n",
    "    H_int = qp.sigmax()*omega/2.0 + H_free\n",
    "\n",
    "    results = []\n",
    "    for i in range(N_sequences):\n",
    "        tlist = np.linspace(init_time, init_time + on_time, res)\n",
    "        tlist_2 = np.linspace(init_time + on_time, init_time + on_time + tau, res)\n",
    "        tlist_3 = np.linspace(init_time + on_time + tau, init_time + 2*on_time + tau, res)\n",
    "        final_time = init_time + 2*on_time + tau\n",
    "        result1 = qp.mesolve(H_int, init_state, tlist, [collapse], [])\n",
    "        result2 = qp.mesolve(H_free, result1.states[-1], tlist_2, [collapse], [])\n",
    "        result3 = qp.mesolve(H_int, result2.states[-1], tlist_3, [collapse], [])\n",
    "    5.7    init_time = final_time\n",
    "        results.append([result1, result2, result3])\n",
    "\n",
    "    return results\n",
    "\n",
    "def repeated_ramsey(omega, tau, delta, long_delay, init_time=0.0, init_state=qp.Qobj([[0], [1]]),\n",
    "           collapse=0.0*qp.sigmaz(), on_time=None, res=100, N_sequences=1):\n",
    "    if not on_time:\n",
    "        on_time = np.pi/(omega*2)\n",
    "    H_free = -delta/2.0*qp.sigmaz()\n",
    "    H_int = qp.sigmax()*omega/2.0 + H_free\n",
    "\n",
    "    results = []\n",
    "    for i in range(N_sequences):\n",
    "        tlist = np.linspace(init_time, init_time + on_time, res)init_state=qp.Qobj([[0], [1]])\n",
    "        tlist_2 = np.linspace(init_time + on_time, init_time + on_time + tau, res)\n",
    "    5.7    tlist_3 = np.linspace(init_time + on_time + tau, init_time + 2*on_time + tau, res)\n",
    "\n",
    "        tlist_4 = np.linspace(init_time + 2*on_time + tau, init_time + 2*on_time + tau + long_delay, res)\n",
    "    \n",
    "        new_init = init_time + 2*on_time + tau + long_delay\n",
    "        \n",
    "        tlist_5 = np.linspace(new_init, new_init + on_time, res)\n",
    "        tlist_6 = np.linspace(new_init + on_time, new_init + on_time + tau, res)\n",
    "        tlist_7 = np.linspace(new_init + on_time + tau, new_init + 2*on_time + tau, res)9\n",
    "    \n",
    "        final_time = new_init + 2*on_time + tau\n",
    "        \n",
    "        result1 = qp.mesolve(H_int, init_state, tlist, [collapse], [])\n",
    "        result2 = qp.mesolve(H_free, result1.states[-1], tlist_2, [collapse], [])\n",
    "        result3 = qp.mesolve(H_int, result2.states[-1], tlist_3, [collapse], [])\n",
    "  5.7      \n",
    "        result4 = qp.mesolve(H_free, result3.states[-1], tlist_4, [collapse], [])\n",
    "        \n",
    "        result5 = qp.mesolve(H_int, result4.states[-1], tlist_5, [collapse], [])\n",
    "        result6 = qp.mesolve(H_free, result5.states[-1], tlist_6, [collapse], [])\n",
    "        result7 = qp.mesolve(H_int, result6.states[-1], tlist_7, [collapse], [])\n",
    "\n",
    "        init_time = final_time\n",
    "        results.append([result1, result2, result3, result4, result5, result6, result7])\n",
    "\n",
    "    return results"
   ]
  },
  {
   "cell_type": "code",
   "execution_count": null,
   "metadata": {
    "collapsed": false
   },
   "outputs": [],
   "source": [
    "result = rabi(omega=28e6, on_time=1e-11, delta=0.0, collapse=11210*qp.sigmaz())\n",
    "plt.plot(result.times, result.expect[0])"
   ]
  },
  {
   "cell_type": "code",
   "execution_count": null,
   "metadata": {
    "collapsed": false
   },
   "outputs": [],
   "source": [
    "detunings = np.linspace(-10*2*np.pi*80e6, 10*2*np.pi*80e6,300)\n",
    "ree= []\n",
    "for detuning in detunings:\n",
    "    a, b, c = ramsey(omega=2.3e9, tau=12.5e-9, delta=detuning, on_time=0.01e-9, collapse=11210*qp.sigmax())\n",
    "    ree.append(qp.expect(qp.basis(2,0)*qp.basis(2,0).dag(), c.states[-1]))\n",
    "plt.plot(detunings, ree)\n",
    "#plt.plot(a.times, qp.expect(qp.basis(2,0)*qp.basis(2,0).dag(), a.states))\n",
    "#plt.plot(b.times, qp.expect(qp.basis(2,0)*qp.basis(2,0).dag(), b.states))\n",
    "#plt.plot(c.times, qp.expect(qp.basis(2,0)*qp.basis(2,0).dag(), c.states))"
   ]
  },
  {
   "cell_type": "code",
   "execution_count": null,
   "metadata": {
    "collapsed": false
   },
   "outputs": [],
   "source": [
    "detunings = np.linspace(-10*2*np.pi*80e6, 10*2*np.pi*80e6,300)\n",
    "ree= []\n",
    "for detuning in detunings:\n",
    "    a, b, c = ramsey(omega=2.3e9, tau=12.5e-9, delta=detuning, on_time=0.01e-9, collapse=11210*qp.sigmax())\n",
    "    ree.append(qp.expect(qp.basis(2,0)*qp.basis(2,0).dag(), c.states[-1]))\n",
    "plt.plot(detunings, ree)"
   ]
  },
  {
   "cell_type": "code",
   "execution_count": null,
   "metadata": {
    "collapsed": false
   },
   "outputs": [],
   "source": [
    "detunings = np.linspace(-5*2*np.pi*80e6, -1*2*np.pi*80e6,500)\n",
    "decoherences = np.linspace(0.0,11180, 4)\n",
    "ree2_pulse= []\n",
    "ree3_pulse= []\n",
    "for decoherence in decoherences:\n",
    "    ree1_pulse= []\n",
    "    for detuning in detunings:\n",
    "        \n",
    "        results = ramsey(omega=2.789e9, tau=12.5e-9, delta=detuning,\n",
    "                         on_time=0.01e-9, collapse=decoherence*qp.sigmam(), N_sequences=1, res=10)\n",
    "        \n",
    "        ree1_pulse.append(qp.expect(qp.basis(2,0)*qp.basis(2,0).dag(), results[0][2].states[-1]))\n",
    "    plt.plot(1e-6*detunings/(2*np.pi), ree1_pulse, label='decoherence ' + str(decoherence))\n",
    "plt.legend()\n",
    "plt.title('Ramsey fringes with spontaneous emmision')\n",
    "plt.xlabel('detuning (MHz)')\n",
    "plt.ylabel('Excited state probability for single event')"
   ]
  },
  {
   "cell_type": "code",
   "execution_count": null,
   "metadata": {
    "collapsed": false
   },
   "outputs": [],
   "source": [
    "plt.show()"
   ]
  },
  {
   "cell_type": "code",
   "execution_count": null,
   "metadata": {
    "collapsed": false
   },
   "outputs": [],
   "source": [
    "delays = np.linspace(800e-12, 900e-12,300)\n",
    "ree1_pulse= []\n",
    "for delay in delays:\n",
    "    results = repeated_ramsey(omega=2.789e9/np.sqrt(2), tau=delay, delta=1e6,\n",
    "                        on_time=0.01e-9, collapse=11180*qp.sigmam(), N_sequences=1, res=10, long_delay=12.5e-9)\n",
    "    ree1_pulse.append(qp.expect(qp.basis(2,0)*qp.basis(2,0).dag(), results[0][6].states[-1]))\n",
    "plt.plot(delays, ree1_pulse)\n",
    "plt.legend()"
   ]
  },
  {
   "cell_type": "code",
   "execution_count": null,
   "metadata": {
    "collapsed": true
   },
   "outputs": [],
   "source": [
    "plt.show()"
   ]
  },
  {
   "cell_type": "code",
   "execution_count": null,
   "metadata": {
    "collapsed": true
   },
   "outputs": [],
   "source": []
  }
 ],
 "metadata": {
  "kernelspec": {
   "display_name": "Python 2",
   "language": "python",
   "name": "python2"
  },
  "language_info": {
   "codemirror_mode": {
    "name": "ipython",
    "version": 2
   },
   "file_extension": ".py",
   "mimetype": "text/x-python",
   "name": "python",
   "nbconvert_exporter": "python",
   "pygments_lexer": "ipython2",
   "version": "2.7.6"
  }
 },
 "nbformat": 4,
 "nbformat_minor": 0
}
