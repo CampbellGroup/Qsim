{
 "cells": [
  {
   "cell_type": "code",
   "execution_count": 1,
   "metadata": {
    "collapsed": false
   },
   "outputs": [
    {
     "name": "stderr",
     "output_type": "stream",
     "text": [
      "/home/qsimexpcontrol/.virtualenvs/labrad/local/lib/python2.7/site-packages/matplotlib/font_manager.py:273: UserWarning: Matplotlib is building the font cache using fc-list. This may take a moment.\n",
      "  warnings.warn('Matplotlib is building the font cache using fc-list. This may take a moment.')\n"
     ]
    }
   ],
   "source": [
    "%matplotlib notebook\n",
    "import matplotlib.pyplot as plt\n",
    "import numpy as np"
   ]
  },
  {
   "cell_type": "code",
   "execution_count": 2,
   "metadata": {
    "collapsed": true
   },
   "outputs": [],
   "source": [
    "import qutip as qp\n",
    "from IPython.display import Image"
   ]
  },
  {
   "cell_type": "code",
   "execution_count": 114,
   "metadata": {
    "collapsed": false
   },
   "outputs": [
    {
     "name": "stdout",
     "output_type": "stream",
     "text": [
      "Quantum object: dims = [[2, 2], [1, 1]], shape = [4, 1], type = ket\n",
      "Qobj data =\n",
      "[[ 0.5]\n",
      " [ 0.5]\n",
      " [ 0.5]\n",
      " [ 0.5]]\n",
      "Quantum object: dims = [[2, 2], [1, 1]], shape = [4, 1], type = ket\n",
      "Qobj data =\n",
      "[[ 0.70710678]\n",
      " [ 0.        ]\n",
      " [ 0.        ]\n",
      " [ 0.70710678]]\n",
      "Quantum object: dims = [[1, 1], [1, 1]], shape = [1, 1], type = oper, isherm = True\n",
      "Qobj data =\n",
      "[[ 0.]]\n",
      "Quantum object: dims = [[1, 1], [1, 1]], shape = [1, 1], type = oper, isherm = True\n",
      "Qobj data =\n",
      "[[ 1.25]]\n",
      "Quantum object: dims = [[1, 1], [1, 1]], shape = [1, 1], type = oper, isherm = True\n",
      "Qobj data =\n",
      "[[ 1.25]]\n",
      "----------------------------\n",
      "Quantum object: dims = [[1, 1], [1, 1]], shape = [1, 1], type = oper, isherm = True\n",
      "Qobj data =\n",
      "[[ 2.25]]\n",
      "Quantum object: dims = [[1, 1], [1, 1]], shape = [1, 1], type = oper, isherm = True\n",
      "Qobj data =\n",
      "[[ 0.25]]\n",
      "Quantum object: dims = [[1, 1], [1, 1]], shape = [1, 1], type = oper, isherm = True\n",
      "Qobj data =\n",
      "[[ 2.25]]\n"
     ]
    }
   ],
   "source": [
    "bell1 = 1/np.sqrt(2)*qp.Qobj([[1], [1]])\n",
    "bell2 = 1/np.sqrt(2)*qp.Qobj([[1], [1]])\n",
    "unentang = qp.tensor(bell1, bell2)\n",
    "entang = 1/np.sqrt(2)*(qp.tensor(qp.Qobj([[1],[0]]), qp.Qobj([[1],[0]])) + qp.tensor(qp.Qobj([[0],[1]]), qp.Qobj([[0],[1]])))\n",
    "\n",
    "print unentang\n",
    "\n",
    "print entang\n",
    "\n",
    "big_sigmax = 0.5*qp.tensor(qp.sigmax(), qp.identity(2)) + qp.tensor(qp.identity(2), qp.sigmax())\n",
    "big_sigmay = 0.5*qp.tensor(qp.sigmay(), qp.identity(2)) + qp.tensor(qp.identity(2), qp.sigmay())\n",
    "big_sigmaz = 0.5*qp.tensor(qp.sigmaz(), qp.identity(2)) + qp.tensor(qp.identity(2), qp.sigmaz())\n",
    "\n",
    "\n",
    "exp_S_x = unentang.dag()*big_sigmax*unentang\n",
    "exp_S_y = unentang.dag()*big_sigmay*unentang\n",
    "exp_S_z = unentang.dag()*big_sigmaz*unentang\n",
    "\n",
    "ent_exp_S_x = entang.dag()*big_sigmax*entang\n",
    "ent_exp_S_y = entang.dag()*big_sigmay*entang\n",
    "ent_exp_S_z = entang.dag()*big_sigmaz*entang\n",
    "\n",
    "exp_S_x2 = unentang.dag()*big_sigmax**2*unentang\n",
    "exp_S_y2 = unentang.dag()*big_sigmay**2*unentang\n",
    "exp_S_z2 = unentang.dag()*big_sigmaz**2*unentang\n",
    "\n",
    "ent_exp_S_x2 = entang.dag()*big_sigmax**2*entang\n",
    "ent_exp_S_y2 = entang.dag()*big_sigmay**2*entang\n",
    "ent_exp_S_z2 = entang.dag()*big_sigmaz**2*entang\n",
    "\n",
    "\n",
    "print exp_S_x2 - exp_S_x**2\n",
    "print exp_S_y2 - exp_S_y**2\n",
    "print exp_S_z2 - exp_S_z**2\n",
    "\n",
    "print '----------------------------'\n",
    "\n",
    "print ent_exp_S_x2 - ent_exp_S_x**2\n",
    "print ent_exp_S_y2 - ent_exp_S_y**2\n",
    "print ent_exp_S_z2 - ent_exp_S_z**2"
   ]
  },
  {
   "cell_type": "code",
   "execution_count": null,
   "metadata": {
    "collapsed": true
   },
   "outputs": [],
   "source": []
  }
 ],
 "metadata": {
  "kernelspec": {
   "display_name": "Python 2",
   "language": "python",
   "name": "python2"
  },
  "language_info": {
   "codemirror_mode": {
    "name": "ipython",
    "version": 2
   },
   "file_extension": ".py",
   "mimetype": "text/x-python",
   "name": "python",
   "nbconvert_exporter": "python",
   "pygments_lexer": "ipython2",
   "version": "2.7.6"
  }
 },
 "nbformat": 4,
 "nbformat_minor": 0
}
