{
 "cells": [
  {
   "cell_type": "markdown",
   "metadata": {},
   "source": [
    "\n",
    "[wavelength-frequency](#wavelength-frequency)\n",
    "\n",
    "[Power Broadening](#Power-Broadening)\n",
    "\n",
    "[Mean Free Path](#Mean-Free-Path)"
   ]
  },
  {
   "cell_type": "markdown",
   "metadata": {},
   "source": [
    "# wavelength-frequency"
   ]
  },
  {
   "cell_type": "code",
   "execution_count": 2,
   "metadata": {},
   "outputs": [
    {
     "name": "stdout",
     "output_type": "stream",
     "text": [
      "refractive index = 1\n",
      "171 Cooling 811.288994201 THz\n",
      "171 Repumping 320.569496735 THz\n",
      "172 Cooling 405.646418159 THz\n",
      "172 Neutral 751.527498013 THz\n",
      "172 Reumping 320.56940761 THz\n",
      "174 Cooling 811.291540971 THz\n",
      "174 Neutral 751.526913989 THz\n",
      "174 Repumping 320.572012807 THz\n",
      "176 Cooling 405.645149161 THz\n",
      "2 photon D5/2 405.815927119 THz\n",
      "F 11/2 406.101782666 THz\n",
      "Qubit Laser 422.242898592 THz\n",
      "cooling beam 739049926.433 nm\n",
      "repump 935179870.293 nm\n",
      "PI 398911020.033 nm\n"
     ]
    }
   ],
   "source": [
    "c = 2.99792458e8\n",
    "\n",
    "lam = {'171 Cooling':369.5261,'171 Repumping': 935.1871,'176 Cooling': 369.525506*2,'Qubit Laser': 355*2, '174 Neutral': 398.91114, '174 Cooling': 369.52494,'174 Repumping': 935.17976, '172 Neutral': 398.91083,\n",
    "       '172 Cooling': 369.52435*2, '172 Reumping':935.18736, '2 photon D5/2':369.37*2, 'F 11/2':369.11*2 } # in nm\n",
    "freq = {'cooling beam':405.645745, 'repump':320.571975, 'PI':751.527140} # in THz\n",
    "n = 1\n",
    "print \"refractive index = \" + str(n)\n",
    "lamlist = []\n",
    "for i in lam:\n",
    "    lamlist.append( i + ' ' + str(1e-3*c/(n*lam[i])) + \" THz\")\n",
    "lamlist.sort()    \n",
    "for i in lamlist: print i\n",
    "#for i, v in enumerate(lam):\n",
    "#    print str(v) + \" nm = \" + str(1e-3*c/(n*v)) + \" THz\"\n",
    "for i in freq:\n",
    "    print i + ' ' + str(c/(1e-3*n*freq[i])) + \" nm\"\n"
   ]
  },
  {
   "cell_type": "markdown",
   "metadata": {},
   "source": [
    "# Power Broadening"
   ]
  },
  {
   "cell_type": "code",
   "execution_count": 8,
   "metadata": {},
   "outputs": [
    {
     "name": "stdout",
     "output_type": "stream",
     "text": [
      "I = 318.309886184\n",
      "629.77190409\n",
      "399  Isat 629.77190409  I/Isat 0.505436784519  Saturation Power 1.97848678733e-05 W\n",
      "I = 127323.954474\n",
      "6.80821741117e-15\n",
      "467  Isat 6.80821741117e-15  I/Isat 1.8701511245e+19  Saturation Power 5.34716145074e-23 W\n",
      "I = 127323.954474\n",
      "4.85997681946e-05\n",
      "435.5  Isat 4.85997681946e-05  I/Isat 2619846949.96  Saturation Power 3.81701686816e-13 W\n",
      "I = 79727.9015489\n",
      "6.36224645451\n",
      "935  Isat 6.36224645451  I/Isat 12531.4072818  Saturation Power 4.22937335034e-08 W\n",
      "I = 353677.651315\n",
      "517.530830538\n",
      "369  Isat 517.530830538  I/Isat 683.394361159  Saturation Power 1.4632839497e-06 W\n"
     ]
    }
   ],
   "source": [
    "%matplotlib notebook\n",
    "import numpy as np\n",
    "import matplotlib.pyplot as plt\n",
    "c = 2.99792458e8\n",
    "h = 6.62606957e-34\n",
    "#Input laser parameters name: (wavelength, radius, power, natural lifetime)\n",
    "lasers = {'399':(399e-9, 100e-6, 10e-6, 5.2e-9),\n",
    "          '369':(369e-9, 30e-6, 1e-3, 8e-9),\n",
    "          '935':(935e-9, 46e-6,0.53e-3, 40e-9),\n",
    "         '435.5':(435e-9, 50e-6, 1e-3, 52e-3),\n",
    "          '467':(467e-9, 50e-6, 1e-3, 3e8)}\n",
    "lam = [399e-9, 369e-9, 935e-9]\n",
    "tau = [2e-9, 2e-9, 2e-9]\n",
    "r = [50e-6, 30e-6, 80e-6]\n",
    "power = [400e-6, 800e-6, 1200e-6]\n",
    "#fig, axs = plt.subplots(nrows=1, ncols=3, figsize = (30,10))\n",
    "for i, laser in enumerate(lasers):\n",
    "    lam = lasers[laser][0]\n",
    "    r = lasers[laser][1]\n",
    "    power = lasers[laser][2]\n",
    "    tau = lasers[laser][3]\n",
    "    A = np.pi*r**2\n",
    "    Gamma = 1/tau\n",
    "    omeganot = 2*np.pi*c/lam\n",
    "    I = power/A\n",
    "    print'I =', I\n",
    "    Isat = np.pi*h*c/(3*lam**3*tau)\n",
    "    print Isat\n",
    "    gammabroad = Gamma*(1 + (I/Isat))**(0.5)\n",
    "    points = 100\n",
    "    minrange = int(omeganot - 2*gammabroad)\n",
    "    maxrange = int(omeganot + 2*gammabroad)\n",
    "    #omega = np.array(range(minrange,maxrange, int(maxrange - minrange)/points))\n",
    "    intensity = Gamma/((omega-omeganot)**2 + Gamma**2/4)\n",
    "    intensitybroad = gammabroad/((omega-omeganot)**2 + gammabroad**2/4)\n",
    "    #axs[i].plot(omega,intensity, 'r--')\n",
    "    #axs[i].plot(omega, intensitybroad, 'b')\n",
    "    #axs[i].set_xlabel('frequency')\n",
    "    #axs[i].set_ylabel('intensity (A.U.)')\n",
    "    #axs[i].set_title(laser + ' Line Broadening')\n",
    "    print laser, ' Isat', Isat, ' I/Isat', I/Isat, ' Saturation Power', Isat*A, 'W'\n",
    "    i += 1\n",
    "#plt.show()"
   ]
  },
  {
   "cell_type": "markdown",
   "metadata": {},
   "source": [
    "# Mean Free Path"
   ]
  },
  {
   "cell_type": "code",
   "execution_count": 4,
   "metadata": {},
   "outputs": [
    {
     "name": "stdout",
     "output_type": "stream",
     "text": [
      "mean free path = 1035.70914086 km\n",
      "velocity = 116.122076339 m/s\n",
      "hours between collisions = 2.47753909199\n"
     ]
    }
   ],
   "source": [
    "import numpy as np\n",
    "k = 1.3806488e-23\n",
    "T = 293\n",
    "d = 1e-10\n",
    "p = 6.6e-11*1332.0\n",
    "m = 3e-25\n",
    "l = k*T/(np.sqrt(2)*np.pi*d**2*p)\n",
    "print \"mean free path = \" + str(l/1000.) + ' km'\n",
    "\n",
    "v = np.sqrt(k*T/m)\n",
    "print \"velocity = \" + str(v) + \" m/s\"\n",
    "print \"hours between collisions = \" + str(l/(v*3600))"
   ]
  },
  {
   "cell_type": "markdown",
   "metadata": {},
   "source": [
    "# Two ion axial trap frequencies"
   ]
  },
  {
   "cell_type": "code",
   "execution_count": 3,
   "metadata": {},
   "outputs": [
    {
     "name": "stdout",
     "output_type": "stream",
     "text": [
      "Mass ratio is:  0.988505747126\n",
      "Common mode frequency:  [  498548.65465565   498549.65175296   498550.64885027 ...,\n",
      "  2991288.93664197  2991289.93373928  2991290.93083659] Hz\n",
      "Breathing mode frequency:  [  863540.4521528    863542.1792337    863543.90631461 ...,\n",
      "  5181237.53167408  5181239.25875498  5181240.98583589] Hz\n",
      "Common mode frequency shift:  [ 1451.34534435  1451.34824704  1451.35114973 ...,  8708.06335803\n",
      "  8708.06626072  8708.06916341] Hz\n",
      "Breathing mode frequency shift:  [  2484.95163164   2484.95660154   2484.96157145 ...,  14909.69488013\n",
      "  14909.69985003  14909.70481994] Hz\n"
     ]
    },
    {
     "ename": "ValueError",
     "evalue": "Illegal format string \"rb\"; two color symbols",
     "output_type": "error",
     "traceback": [
      "\u001b[1;31m---------------------------------------------------------------------------\u001b[0m",
      "\u001b[1;31mValueError\u001b[0m                                Traceback (most recent call last)",
      "\u001b[1;32m<ipython-input-3-842e44b59457>\u001b[0m in \u001b[0;36m<module>\u001b[1;34m()\u001b[0m\n\u001b[0;32m     16\u001b[0m \u001b[1;32mprint\u001b[0m \u001b[1;34m\"Breathing mode frequency shift: \"\u001b[0m\u001b[1;33m,\u001b[0m \u001b[0mfreqshftbm\u001b[0m\u001b[1;33m,\u001b[0m \u001b[1;34m\"Hz\"\u001b[0m\u001b[1;33m\u001b[0m\u001b[0m\n\u001b[0;32m     17\u001b[0m \u001b[0mplt\u001b[0m\u001b[1;33m.\u001b[0m\u001b[0mfigure\u001b[0m\u001b[1;33m(\u001b[0m\u001b[1;33m)\u001b[0m\u001b[1;33m\u001b[0m\u001b[0m\n\u001b[1;32m---> 18\u001b[1;33m \u001b[0mplt\u001b[0m\u001b[1;33m.\u001b[0m\u001b[0mplot\u001b[0m\u001b[1;33m(\u001b[0m\u001b[0mw0\u001b[0m\u001b[1;33m,\u001b[0m\u001b[0mfreqshftbm\u001b[0m\u001b[1;33m,\u001b[0m \u001b[1;34m'r'\u001b[0m \u001b[1;33m+\u001b[0m \u001b[1;34m'b'\u001b[0m\u001b[1;33m)\u001b[0m\u001b[1;33m\u001b[0m\u001b[0m\n\u001b[0m\u001b[0;32m     19\u001b[0m \u001b[0mplt\u001b[0m\u001b[1;33m.\u001b[0m\u001b[0mplot\u001b[0m\u001b[1;33m(\u001b[0m\u001b[0mw0\u001b[0m\u001b[1;33m,\u001b[0m\u001b[0mfreqshftcm\u001b[0m\u001b[1;33m,\u001b[0m \u001b[1;34m'b'\u001b[0m\u001b[1;33m)\u001b[0m\u001b[1;33m\u001b[0m\u001b[0m\n\u001b[0;32m     20\u001b[0m \u001b[0mplt\u001b[0m\u001b[1;33m.\u001b[0m\u001b[0mxlabel\u001b[0m\u001b[1;33m(\u001b[0m\u001b[1;34m'Frequency of m1 = m2 ion (Hz)'\u001b[0m\u001b[1;33m)\u001b[0m\u001b[1;33m\u001b[0m\u001b[0m\n",
      "\u001b[1;32m/home/qsimexpcontrol/.virtualenvs/labrad/local/lib/python2.7/site-packages/matplotlib/pyplot.pyc\u001b[0m in \u001b[0;36mplot\u001b[1;34m(*args, **kwargs)\u001b[0m\n\u001b[0;32m   3152\u001b[0m         \u001b[0max\u001b[0m\u001b[1;33m.\u001b[0m\u001b[0mhold\u001b[0m\u001b[1;33m(\u001b[0m\u001b[0mhold\u001b[0m\u001b[1;33m)\u001b[0m\u001b[1;33m\u001b[0m\u001b[0m\n\u001b[0;32m   3153\u001b[0m     \u001b[1;32mtry\u001b[0m\u001b[1;33m:\u001b[0m\u001b[1;33m\u001b[0m\u001b[0m\n\u001b[1;32m-> 3154\u001b[1;33m         \u001b[0mret\u001b[0m \u001b[1;33m=\u001b[0m \u001b[0max\u001b[0m\u001b[1;33m.\u001b[0m\u001b[0mplot\u001b[0m\u001b[1;33m(\u001b[0m\u001b[1;33m*\u001b[0m\u001b[0margs\u001b[0m\u001b[1;33m,\u001b[0m \u001b[1;33m**\u001b[0m\u001b[0mkwargs\u001b[0m\u001b[1;33m)\u001b[0m\u001b[1;33m\u001b[0m\u001b[0m\n\u001b[0m\u001b[0;32m   3155\u001b[0m     \u001b[1;32mfinally\u001b[0m\u001b[1;33m:\u001b[0m\u001b[1;33m\u001b[0m\u001b[0m\n\u001b[0;32m   3156\u001b[0m         \u001b[0max\u001b[0m\u001b[1;33m.\u001b[0m\u001b[0mhold\u001b[0m\u001b[1;33m(\u001b[0m\u001b[0mwashold\u001b[0m\u001b[1;33m)\u001b[0m\u001b[1;33m\u001b[0m\u001b[0m\n",
      "\u001b[1;32m/home/qsimexpcontrol/.virtualenvs/labrad/local/lib/python2.7/site-packages/matplotlib/__init__.pyc\u001b[0m in \u001b[0;36minner\u001b[1;34m(ax, *args, **kwargs)\u001b[0m\n\u001b[0;32m   1810\u001b[0m                     warnings.warn(msg % (label_namer, func.__name__),\n\u001b[0;32m   1811\u001b[0m                                   RuntimeWarning, stacklevel=2)\n\u001b[1;32m-> 1812\u001b[1;33m             \u001b[1;32mreturn\u001b[0m \u001b[0mfunc\u001b[0m\u001b[1;33m(\u001b[0m\u001b[0max\u001b[0m\u001b[1;33m,\u001b[0m \u001b[1;33m*\u001b[0m\u001b[0margs\u001b[0m\u001b[1;33m,\u001b[0m \u001b[1;33m**\u001b[0m\u001b[0mkwargs\u001b[0m\u001b[1;33m)\u001b[0m\u001b[1;33m\u001b[0m\u001b[0m\n\u001b[0m\u001b[0;32m   1813\u001b[0m         \u001b[0mpre_doc\u001b[0m \u001b[1;33m=\u001b[0m \u001b[0minner\u001b[0m\u001b[1;33m.\u001b[0m\u001b[0m__doc__\u001b[0m\u001b[1;33m\u001b[0m\u001b[0m\n\u001b[0;32m   1814\u001b[0m         \u001b[1;32mif\u001b[0m \u001b[0mpre_doc\u001b[0m \u001b[1;32mis\u001b[0m \u001b[0mNone\u001b[0m\u001b[1;33m:\u001b[0m\u001b[1;33m\u001b[0m\u001b[0m\n",
      "\u001b[1;32m/home/qsimexpcontrol/.virtualenvs/labrad/local/lib/python2.7/site-packages/matplotlib/axes/_axes.pyc\u001b[0m in \u001b[0;36mplot\u001b[1;34m(self, *args, **kwargs)\u001b[0m\n\u001b[0;32m   1422\u001b[0m             \u001b[0mkwargs\u001b[0m\u001b[1;33m[\u001b[0m\u001b[1;34m'color'\u001b[0m\u001b[1;33m]\u001b[0m \u001b[1;33m=\u001b[0m \u001b[0mc\u001b[0m\u001b[1;33m\u001b[0m\u001b[0m\n\u001b[0;32m   1423\u001b[0m \u001b[1;33m\u001b[0m\u001b[0m\n\u001b[1;32m-> 1424\u001b[1;33m         \u001b[1;32mfor\u001b[0m \u001b[0mline\u001b[0m \u001b[1;32min\u001b[0m \u001b[0mself\u001b[0m\u001b[1;33m.\u001b[0m\u001b[0m_get_lines\u001b[0m\u001b[1;33m(\u001b[0m\u001b[1;33m*\u001b[0m\u001b[0margs\u001b[0m\u001b[1;33m,\u001b[0m \u001b[1;33m**\u001b[0m\u001b[0mkwargs\u001b[0m\u001b[1;33m)\u001b[0m\u001b[1;33m:\u001b[0m\u001b[1;33m\u001b[0m\u001b[0m\n\u001b[0m\u001b[0;32m   1425\u001b[0m             \u001b[0mself\u001b[0m\u001b[1;33m.\u001b[0m\u001b[0madd_line\u001b[0m\u001b[1;33m(\u001b[0m\u001b[0mline\u001b[0m\u001b[1;33m)\u001b[0m\u001b[1;33m\u001b[0m\u001b[0m\n\u001b[0;32m   1426\u001b[0m             \u001b[0mlines\u001b[0m\u001b[1;33m.\u001b[0m\u001b[0mappend\u001b[0m\u001b[1;33m(\u001b[0m\u001b[0mline\u001b[0m\u001b[1;33m)\u001b[0m\u001b[1;33m\u001b[0m\u001b[0m\n",
      "\u001b[1;32m/home/qsimexpcontrol/.virtualenvs/labrad/local/lib/python2.7/site-packages/matplotlib/axes/_base.pyc\u001b[0m in \u001b[0;36m_grab_next_args\u001b[1;34m(self, *args, **kwargs)\u001b[0m\n\u001b[0;32m    384\u001b[0m                 \u001b[1;32mreturn\u001b[0m\u001b[1;33m\u001b[0m\u001b[0m\n\u001b[0;32m    385\u001b[0m             \u001b[1;32mif\u001b[0m \u001b[0mlen\u001b[0m\u001b[1;33m(\u001b[0m\u001b[0mremaining\u001b[0m\u001b[1;33m)\u001b[0m \u001b[1;33m<=\u001b[0m \u001b[1;36m3\u001b[0m\u001b[1;33m:\u001b[0m\u001b[1;33m\u001b[0m\u001b[0m\n\u001b[1;32m--> 386\u001b[1;33m                 \u001b[1;32mfor\u001b[0m \u001b[0mseg\u001b[0m \u001b[1;32min\u001b[0m \u001b[0mself\u001b[0m\u001b[1;33m.\u001b[0m\u001b[0m_plot_args\u001b[0m\u001b[1;33m(\u001b[0m\u001b[0mremaining\u001b[0m\u001b[1;33m,\u001b[0m \u001b[0mkwargs\u001b[0m\u001b[1;33m)\u001b[0m\u001b[1;33m:\u001b[0m\u001b[1;33m\u001b[0m\u001b[0m\n\u001b[0m\u001b[0;32m    387\u001b[0m                     \u001b[1;32myield\u001b[0m \u001b[0mseg\u001b[0m\u001b[1;33m\u001b[0m\u001b[0m\n\u001b[0;32m    388\u001b[0m                 \u001b[1;32mreturn\u001b[0m\u001b[1;33m\u001b[0m\u001b[0m\n",
      "\u001b[1;32m/home/qsimexpcontrol/.virtualenvs/labrad/local/lib/python2.7/site-packages/matplotlib/axes/_base.pyc\u001b[0m in \u001b[0;36m_plot_args\u001b[1;34m(self, tup, kwargs)\u001b[0m\n\u001b[0;32m    334\u001b[0m         \u001b[0mret\u001b[0m \u001b[1;33m=\u001b[0m \u001b[1;33m[\u001b[0m\u001b[1;33m]\u001b[0m\u001b[1;33m\u001b[0m\u001b[0m\n\u001b[0;32m    335\u001b[0m         \u001b[1;32mif\u001b[0m \u001b[0mlen\u001b[0m\u001b[1;33m(\u001b[0m\u001b[0mtup\u001b[0m\u001b[1;33m)\u001b[0m \u001b[1;33m>\u001b[0m \u001b[1;36m1\u001b[0m \u001b[1;32mand\u001b[0m \u001b[0mis_string_like\u001b[0m\u001b[1;33m(\u001b[0m\u001b[0mtup\u001b[0m\u001b[1;33m[\u001b[0m\u001b[1;33m-\u001b[0m\u001b[1;36m1\u001b[0m\u001b[1;33m]\u001b[0m\u001b[1;33m)\u001b[0m\u001b[1;33m:\u001b[0m\u001b[1;33m\u001b[0m\u001b[0m\n\u001b[1;32m--> 336\u001b[1;33m             \u001b[0mlinestyle\u001b[0m\u001b[1;33m,\u001b[0m \u001b[0mmarker\u001b[0m\u001b[1;33m,\u001b[0m \u001b[0mcolor\u001b[0m \u001b[1;33m=\u001b[0m \u001b[0m_process_plot_format\u001b[0m\u001b[1;33m(\u001b[0m\u001b[0mtup\u001b[0m\u001b[1;33m[\u001b[0m\u001b[1;33m-\u001b[0m\u001b[1;36m1\u001b[0m\u001b[1;33m]\u001b[0m\u001b[1;33m)\u001b[0m\u001b[1;33m\u001b[0m\u001b[0m\n\u001b[0m\u001b[0;32m    337\u001b[0m             \u001b[0mtup\u001b[0m \u001b[1;33m=\u001b[0m \u001b[0mtup\u001b[0m\u001b[1;33m[\u001b[0m\u001b[1;33m:\u001b[0m\u001b[1;33m-\u001b[0m\u001b[1;36m1\u001b[0m\u001b[1;33m]\u001b[0m\u001b[1;33m\u001b[0m\u001b[0m\n\u001b[0;32m    338\u001b[0m         \u001b[1;32melif\u001b[0m \u001b[0mlen\u001b[0m\u001b[1;33m(\u001b[0m\u001b[0mtup\u001b[0m\u001b[1;33m)\u001b[0m \u001b[1;33m==\u001b[0m \u001b[1;36m3\u001b[0m\u001b[1;33m:\u001b[0m\u001b[1;33m\u001b[0m\u001b[0m\n",
      "\u001b[1;32m/home/qsimexpcontrol/.virtualenvs/labrad/local/lib/python2.7/site-packages/matplotlib/axes/_base.pyc\u001b[0m in \u001b[0;36m_process_plot_format\u001b[1;34m(fmt)\u001b[0m\n\u001b[0;32m    110\u001b[0m             \u001b[1;32mif\u001b[0m \u001b[0mcolor\u001b[0m \u001b[1;32mis\u001b[0m \u001b[1;32mnot\u001b[0m \u001b[0mNone\u001b[0m\u001b[1;33m:\u001b[0m\u001b[1;33m\u001b[0m\u001b[0m\n\u001b[0;32m    111\u001b[0m                 raise ValueError(\n\u001b[1;32m--> 112\u001b[1;33m                     'Illegal format string \"%s\"; two color symbols' % fmt)\n\u001b[0m\u001b[0;32m    113\u001b[0m             \u001b[0mcolor\u001b[0m \u001b[1;33m=\u001b[0m \u001b[0mc\u001b[0m\u001b[1;33m\u001b[0m\u001b[0m\n\u001b[0;32m    114\u001b[0m         \u001b[1;32melse\u001b[0m\u001b[1;33m:\u001b[0m\u001b[1;33m\u001b[0m\u001b[0m\n",
      "\u001b[1;31mValueError\u001b[0m: Illegal format string \"rb\"; two color symbols"
     ]
    },
    {
     "data": {
      "image/png": "[encoded data removed]",
      "text/plain": [
       "<matplotlib.figure.Figure at 0x7f539a702510>"
      ]
     },
     "metadata": {},
     "output_type": "display_data"
    }
   ],
   "source": [
    "%matplotlib inline\n",
    "import numpy as np\n",
    "import matplotlib.pyplot as plt\n",
    "m1 = 172.0\n",
    "m2 = 174.0\n",
    "w0 = np.arange(500000, 3000000, 1)\n",
    "u = m1/m2\n",
    "print \"Mass ratio is: \" , u\n",
    "cm = np.sqrt(((1+ u) - np.sqrt(1-u + u**2)))*w0\n",
    "print \"Common mode frequency: \", cm, \"Hz\"\n",
    "bm = np.sqrt(((1+ u) + np.sqrt(1-u + u**2)))*w0\n",
    "print \"Breathing mode frequency: \", bm, \"Hz\"\n",
    "freqshftcm = w0 - cm\n",
    "print \"Common mode frequency shift: \", freqshftcm, \"Hz\"\n",
    "freqshftbm = np.sqrt(3)*w0 - bm\n",
    "print \"Breathing mode frequency shift: \", freqshftbm, \"Hz\"\n",
    "plt.figure()\n",
    "plt.plot(w0,freqshftbm, 'r' + 'b')\n",
    "plt.plot(w0,freqshftcm, 'b')\n",
    "plt.xlabel('Frequency of m1 = m2 ion (Hz)')\n",
    "plt.ylabel('')\n",
    "plt.title(('Frequency shift of %s / %s tickle' % (m1, m2)))\n",
    "plt.show()"
   ]
  },
  {
   "cell_type": "code",
   "execution_count": 17,
   "metadata": {},
   "outputs": [
    {
     "name": "stdout",
     "output_type": "stream",
     "text": [
      "651.302254733\n"
     ]
    }
   ],
   "source": [
    "import numpy as np\n",
    "m1 = 172.0\n",
    "m2 = 174.0\n",
    "u = m1/m2\n",
    "w0 = 113000\n",
    "wshift = w0 - w0*np.sqrt(u)\n",
    "print wshift"
   ]
  },
  {
   "cell_type": "code",
   "execution_count": null,
   "metadata": {},
   "outputs": [],
   "source": []
  }
 ],
 "metadata": {
  "kernelspec": {
   "display_name": "Python 2",
   "language": "python",
   "name": "python2"
  },
  "language_info": {
   "codemirror_mode": {
    "name": "ipython",
    "version": 2
   },
   "file_extension": ".py",
   "mimetype": "text/x-python",
   "name": "python",
   "nbconvert_exporter": "python",
   "pygments_lexer": "ipython2",
   "version": "2.7.15rc1"
  }
 },
 "nbformat": 4,
 "nbformat_minor": 1
}
