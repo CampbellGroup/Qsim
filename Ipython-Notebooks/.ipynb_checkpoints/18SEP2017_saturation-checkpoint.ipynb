{
 "cells": [
  {
   "cell_type": "code",
   "execution_count": 31,
   "metadata": {
    "collapsed": true
   },
   "outputs": [],
   "source": [
    "widths_fixed = [52.28, 50.40, 50.925, 48.23, 43.21, 45.68, 40.41, 40.87, 34.75, 33.19, 29.90, 32.45, 32.46, 32.17, 30.72] #MHz\n",
    "widths_free = [52.11, 49.73, 51.19, 47.39, 43.34, 44.58, 38.68, 40.25, 34.46, 31.99, 29.95, 32.57, 29.46 , 30.93, 28.18] #MHz\n",
    "power = [28.9, 24.7, 20.5, 16.5, 13.4, 10.6, 8.3, 6.5, 5.1, 3.9, 3.1, 2.4, 1.8, 1.4, 1.1] #microW"
   ]
  },
  {
   "cell_type": "code",
   "execution_count": 32,
   "metadata": {},
   "outputs": [
    {
     "name": "stdout",
     "output_type": "stream",
     "text": [
      "15 15\n"
     ]
    }
   ],
   "source": [
    "print len(widths), len(power)"
   ]
  },
  {
   "cell_type": "code",
   "execution_count": 86,
   "metadata": {},
   "outputs": [
    {
     "name": "stdout",
     "output_type": "stream",
     "text": [
      "[  4.20760584e+08] [[ inf]]\n"
     ]
    }
   ],
   "source": [
    "import matplotlib.pyplot as plt\n",
    "from scipy.optimize import curve_fit\n",
    "import numpy as np\n",
    "%matplotlib inline\n",
    "\n",
    "def squareRoot( power, powerSat):\n",
    "    power = np.array(power)\n",
    "    return 19.7*pow(1 + power/powerSat, 1/2.) \n",
    "\n",
    "opt, cov = curve_fit(squareRoot, power, 2.5)\n",
    "print opt, cov"
   ]
  },
  {
   "cell_type": "code",
   "execution_count": 88,
   "metadata": {},
   "outputs": [
    {
     "data": {
      "text/plain": [
       "[<matplotlib.lines.Line2D at 0x7f11d079b690>]"
      ]
     },
     "execution_count": 88,
     "metadata": {},
     "output_type": "execute_result"
    },
    {
     "data": {
      "image/png": "[encoded data removed]",
      "text/plain": [
       "<matplotlib.figure.Figure at 0x7f11d079b650>"
      ]
     },
     "metadata": {},
     "output_type": "display_data"
    }
   ],
   "source": [
    "#plt.plot(power, widths_fixed)\n",
    "plt.scatter(power, widths_free)\n",
    "#plt.plot(power, squareRoot(power,opt[0]))\n",
    "plt.plot(power, squareRoot(power, 3.5))\n",
    "#plt.ylim(0)"
   ]
  },
  {
   "cell_type": "code",
   "execution_count": 47,
   "metadata": {},
   "outputs": [
    {
     "name": "stdout",
     "output_type": "stream",
     "text": [
      "[ 28.58216685  10.52941216]\n"
     ]
    }
   ],
   "source": [
    "print opt"
   ]
  },
  {
   "cell_type": "code",
   "execution_count": null,
   "metadata": {
    "collapsed": true
   },
   "outputs": [],
   "source": []
  }
 ],
 "metadata": {
  "kernelspec": {
   "display_name": "Python 2",
   "language": "python",
   "name": "python2"
  },
  "language_info": {
   "codemirror_mode": {
    "name": "ipython",
    "version": 2
   },
   "file_extension": ".py",
   "mimetype": "text/x-python",
   "name": "python",
   "nbconvert_exporter": "python",
   "pygments_lexer": "ipython2",
   "version": "2.7.15rc1"
  }
 },
 "nbformat": 4,
 "nbformat_minor": 1
}
