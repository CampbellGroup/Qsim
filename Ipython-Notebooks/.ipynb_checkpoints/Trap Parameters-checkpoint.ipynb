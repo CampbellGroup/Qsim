{
 "cells": [
  {
   "cell_type": "markdown",
   "metadata": {},
   "source": [
    "# Trap Parameters"
   ]
  },
  {
   "cell_type": "code",
   "execution_count": 52,
   "metadata": {},
   "outputs": [
    {
     "name": "stdout",
     "output_type": "stream",
     "text": [
      "qx, qy =  0.0801208934361\n",
      "qz =  -0.160241786872\n",
      "ax, ay =  -0.000188519749261\n",
      "az =  0.000377039498523\n",
      "trap freq =  2719393.29904\n"
     ]
    }
   ],
   "source": [
    "import numpy as np\n",
    "\n",
    "U = -1\n",
    "V = 850\n",
    "Q = 1.6217657e-19\n",
    "r = 512e-6\n",
    "rf = 2*3.14*48e6\n",
    "m = 2.889213e-25\n",
    "q = 4*Q*V/(m*r**2*rf**2)\n",
    "a = 8*Q*U/(m*r**2*rf**2)\n",
    "print 'qx, qy = ', q\n",
    "print 'qz = ', -2*q \n",
    "\n",
    "print 'ax, ay = ', a\n",
    "print 'az = ', -2*a \n",
    "\n",
    "trapfreq = np.sqrt(2)*Q*V/(m*rf*r**2)\n",
    "print 'trap freq = ', 2 * trapfreq/(2*3.14)"
   ]
  },
  {
   "cell_type": "code",
   "execution_count": 2,
   "metadata": {},
   "outputs": [
    {
     "name": "stdout",
     "output_type": "stream",
     "text": [
      "Trap frequencies = [ 364000.  432000.   57000.]\n",
      "a = [ -1.20972729e-03  -1.20972729e-03  -2.00000000e+00]\n",
      "q = [ 0.05454389  0.05454389 -0.10908777]\n",
      "voltage = [ -90.17550834  -90.17550834  180.35101667]\n",
      "Depth = [ 0.46487655  0.65479049  0.3908997 ]\n"
     ]
    }
   ],
   "source": [
    "import numpy as np\n",
    "from matplotlib import pylab\n",
    "U = -1\n",
    "Q = -1.6217657e-19\n",
    "rnot = 222e-6\n",
    "znot = 1.11e-3\n",
    "omegaRF = 2*np.pi*43.679e6\n",
    "omegatrap = np.array([2*np.pi*364e3,2*np.pi*432e3,2*np.pi*57e3])\n",
    "print \"Trap frequencies = \" + str(omegatrap/(2*np.pi))\n",
    "m = 2.889213e-25\n",
    "r = np.sqrt(rnot**2 + 2*znot**2)\n",
    "r = 222e-6\n",
    "#print \"r = \" + str(r*1e3) \n",
    "\n",
    "a = np.array([0.,0.,0.])\n",
    "ax = -8*Q*U/(m*r**2*omegaRF**2)\n",
    "a[0] = ax\n",
    "a[1] = a[0]\n",
    "a[2] = -2\n",
    "#a[2] = -2*a[0]\n",
    "\n",
    "print \"a = \" + str(a)\n",
    "\n",
    "beta = 2*omegatrap/omegaRF\n",
    "\n",
    "q = np.array([0.,0.,0.])\n",
    "q[0] = np.sqrt(2*(beta[0]**2 - a[0]))\n",
    "q[1] = q[0]\n",
    "q[2] = -2*q[0]\n",
    "\n",
    "print \"q = \" + str(q)\n",
    "\n",
    "V = q*m*r**2*omegaRF**2/(4*Q)\n",
    "print \"voltage = \" + str(V)\n",
    "\n",
    "R = np.array([222e-6, 222e-6, 1.3e-3])\n",
    "D = m*omegatrap**2*R**2\n",
    "\n",
    "print \"Depth = \" + str(D*6.24150934e18) "
   ]
  }
 ],
 "metadata": {
  "kernelspec": {
   "display_name": "Python 2",
   "language": "python",
   "name": "python2"
  },
  "language_info": {
   "codemirror_mode": {
    "name": "ipython",
    "version": 2
   },
   "file_extension": ".py",
   "mimetype": "text/x-python",
   "name": "python",
   "nbconvert_exporter": "python",
   "pygments_lexer": "ipython2",
   "version": "2.7.15rc1"
  }
 },
 "nbformat": 4,
 "nbformat_minor": 1
}
