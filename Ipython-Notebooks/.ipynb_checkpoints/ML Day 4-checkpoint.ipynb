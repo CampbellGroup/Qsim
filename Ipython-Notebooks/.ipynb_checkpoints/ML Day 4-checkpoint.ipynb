{
 "cells": [
  {
   "cell_type": "code",
   "execution_count": 1,
   "metadata": {
    "collapsed": false
   },
   "outputs": [],
   "source": [
    "import matplotlib.pyplot as plt\n",
    "import numpy as np\n",
    "%matplotlib notebook"
   ]
  },
  {
   "cell_type": "code",
   "execution_count": 2,
   "metadata": {
    "collapsed": false
   },
   "outputs": [],
   "source": [
    "MLpiezo74 = np.loadtxt('/home/qsimexpcontrol/LabRAD/data/MLpiezoscan.dir/00074 - MLpiezoscan.csv',delimiter=',')\n",
    "MLpiezo75 = np.loadtxt('/home/qsimexpcontrol/LabRAD/data/MLpiezoscan.dir/00075 - MLpiezoscan.csv',delimiter=',')"
   ]
  },
  {
   "cell_type": "code",
   "execution_count": 3,
   "metadata": {
    "collapsed": false,
    "scrolled": false
   },
   "outputs": [
    {
     "ename": "SyntaxError",
     "evalue": "invalid syntax (<ipython-input-3-f63455d3922e>, line 5)",
     "output_type": "error",
     "traceback": [
      "\u001b[1;36m  File \u001b[1;32m\"<ipython-input-3-f63455d3922e>\"\u001b[1;36m, line \u001b[1;32m5\u001b[0m\n\u001b[1;33m    plt.xlabel('Delay stage piezo (volts)')0\u001b[0m\n\u001b[1;37m                                           ^\u001b[0m\n\u001b[1;31mSyntaxError\u001b[0m\u001b[1;31m:\u001b[0m invalid syntax\n"
     ]
    }
   ],
   "source": [
    "volts = MLpiezo74[:,0]\n",
    "volts = 106.7*volts + 1.05\n",
    "vals74 = MLpiezo74[:,1]\n",
    "vals75 = MLpiezo75[:,1]\n",
    "plt.xlabel('Delay stage piezo (volts)')\n",
    "plt.ylabel('Intensity (kcounts/sec)')\n",
    "plt.plot(volts, vals74, volts,vals75)"
   ]
  },
  {
   "cell_type": "code",
   "execution_count": null,
   "metadata": {
    "collapsed": false
   },
   "outputs": [],
   "source": [
    "meanvals = (vals74 + vals75)/2\n",
    "plt.title('Delay stage scan with cooling light')\n",
    "plt.xlabel('Delay stage piezo (volts)')\n",
    "plt.ylabel('Intensity (kcounts/sec)')\n",
    "plt.plot(volts, meanvals, color='mediumslateblue', linewidth=2)\n",
    "#plt.savefig('/home/qsimexpcontrol/plots/ML_Laser/24JAN2017delay_ramsey.png')"
   ]
  },
  {
   "cell_type": "code",
   "execution_count": null,
   "metadata": {
    "collapsed": true
   },
   "outputs": [],
   "source": []
  }
 ],
 "metadata": {
  "kernelspec": {
   "display_name": "Python 2",
   "language": "python",
   "name": "python2"
  },
  "language_info": {
   "codemirror_mode": {
    "name": "ipython",
    "version": 2
   },
   "file_extension": ".py",
   "mimetype": "text/x-python",
   "name": "python",
   "nbconvert_exporter": "python",
   "pygments_lexer": "ipython2",
   "version": "2.7.6"
  }
 },
 "nbformat": 4,
 "nbformat_minor": 0
}
