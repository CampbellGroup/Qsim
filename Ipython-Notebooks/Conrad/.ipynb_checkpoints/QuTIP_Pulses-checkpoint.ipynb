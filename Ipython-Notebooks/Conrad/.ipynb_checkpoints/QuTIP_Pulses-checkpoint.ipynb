{
 "cells": [
  {
   "cell_type": "code",
   "execution_count": 1,
   "metadata": {},
   "outputs": [],
   "source": [
    "import numpy as np\n",
    "import matplotlib.pyplot as plt\n",
    "from qutip import *"
   ]
  },
  {
   "cell_type": "code",
   "execution_count": 14,
   "metadata": {},
   "outputs": [],
   "source": [
    "# Define parameters here\n",
    "gamma = 2*np.pi*20e6 #linewidth in cyclical units\n",
    "omega_0 = 2*np.pi*20e6\n",
    "args = {'theta':np.pi, 'tau':10e-11}\n",
    "N_pairs = 3\n",
    "\n",
    "#time steps over which to solve the system dynamics\n",
    "t = np.linspace(0, 500e-11, 1000)\n"
   ]
  },
  {
   "cell_type": "code",
   "execution_count": 15,
   "metadata": {},
   "outputs": [],
   "source": [
    "#define any necessary functions here\n",
    "def pulse1(t, args):\n",
    "    return args['theta']/args['tau']/np.cosh(np.pi*(t - args['rep_period'])/args['tau']) \n",
    "\n",
    "def pulse2(t, args):\n",
    "        return args['theta']/args['tau']/np.cosh(np.pi*(t - args['pulse_sep'] - args['rep_period'])/args['tau']) \n"
   ]
  },
  {
   "cell_type": "code",
   "execution_count": 16,
   "metadata": {},
   "outputs": [],
   "source": [
    "#Hamiltonian and basis states\n",
    "H_atom = -omega_0*sigmaz()/2.\n",
    "H_int = -sigmax()/2.\n",
    "H = [H_atom,[H_int,pulse1],[H_int,pulse2]]\n",
    "\n",
    "#define operators\n",
    "\n",
    "P_up = Qobj(np.array([[1,0],[0,0]]))\n",
    "P_down = Qobj(np.array([[0,0],[0,1]]))\n",
    "\n",
    "#collapse operators\n",
    "decay = np.sqrt(gamma)*sigmam() #i think this acts like spontaneous decay of the excited state. \n",
    "\n",
    "c_ops = [decay]"
   ]
  },
  {
   "cell_type": "code",
   "execution_count": 20,
   "metadata": {},
   "outputs": [
    {
     "data": {
      "text/latex": [
       "Quantum object: dims = [[2], [1]], shape = (2, 1), type = ket\\begin{equation*}\\left(\\begin{array}{*{11}c}0.0\\\\1.0\\\\\\end{array}\\right)\\end{equation*}"
      ],
      "text/plain": [
       "Quantum object: dims = [[2], [1]], shape = (2, 1), type = ket\n",
       "Qobj data =\n",
       "[[0.]\n",
       " [1.]]"
      ]
     },
     "execution_count": 20,
     "metadata": {},
     "output_type": "execute_result"
    }
   ],
   "source": [
    "ket = states.basis(2,1)\n",
    "operators."
   ]
  },
  {
   "cell_type": "code",
   "execution_count": 30,
   "metadata": {},
   "outputs": [],
   "source": [
    "output = mesolve(H, ket, t, c_ops,[P_up, P_down], args = {'theta':np.pi*0.5, 'tau':10e-11, 'pulse_sep':500e-12, 'rep_period':0.0})\n"
   ]
  },
  {
   "cell_type": "code",
   "execution_count": 31,
   "metadata": {},
   "outputs": [
    {
     "data": {
      "text/plain": [
       "<matplotlib.legend.Legend at 0x7f6cf2c79350>"
      ]
     },
     "execution_count": 31,
     "metadata": {},
     "output_type": "execute_result"
    },
    {
     "data": {
      "image/png": "[encoded data removed]",
      "text/plain": [
       "<Figure size 432x288 with 1 Axes>"
      ]
     },
     "metadata": {},
     "output_type": "display_data"
    }
   ],
   "source": [
    "plt.plot(output.times, output.expect[0], label = 'Excited State Prob')\n",
    "plt.plot(output.times, output.expect[1], label = 'Ground State Prob')\n",
    "plt.legend(loc=0)\n"
   ]
  },
  {
   "cell_type": "code",
   "execution_count": 298,
   "metadata": {},
   "outputs": [
    {
     "name": "stdout",
     "output_type": "stream",
     "text": [
      "10.0%. Run time:   2.04s. Est. time left: 00:00:00:18\n",
      "20.0%. Run time:   3.79s. Est. time left: 00:00:00:15\n",
      "30.0%. Run time:   5.60s. Est. time left: 00:00:00:13\n",
      "40.0%. Run time:   7.31s. Est. time left: 00:00:00:10\n",
      "50.0%. Run time:   9.12s. Est. time left: 00:00:00:09\n",
      "60.0%. Run time:  10.87s. Est. time left: 00:00:00:07\n",
      "70.0%. Run time:  12.61s. Est. time left: 00:00:00:05\n",
      "80.0%. Run time:  14.36s. Est. time left: 00:00:00:03\n",
      "90.0%. Run time:  16.09s. Est. time left: 00:00:00:01\n",
      "100.0%. Run time:  17.93s. Est. time left: 00:00:00:00\n",
      "Total run time:  17.99s\n",
      "10.0%. Run time:   1.84s. Est. time left: 00:00:00:16\n",
      "20.0%. Run time:   3.54s. Est. time left: 00:00:00:14\n",
      "30.0%. Run time:   5.33s. Est. time left: 00:00:00:12\n",
      "40.0%. Run time:   7.06s. Est. time left: 00:00:00:10\n",
      "50.0%. Run time:   8.92s. Est. time left: 00:00:00:08\n",
      "60.0%. Run time:  10.82s. Est. time left: 00:00:00:07\n",
      "70.0%. Run time:  12.63s. Est. time left: 00:00:00:05\n",
      "80.0%. Run time:  14.45s. Est. time left: 00:00:00:03\n",
      "90.0%. Run time:  16.21s. Est. time left: 00:00:00:01\n",
      "100.0%. Run time:  18.00s. Est. time left: 00:00:00:00\n",
      "Total run time:  18.07s\n",
      "10.0%. Run time:   1.94s. Est. time left: 00:00:00:17\n",
      "20.0%. Run time:   3.71s. Est. time left: 00:00:00:14\n",
      "30.0%. Run time:   5.49s. Est. time left: 00:00:00:12\n",
      "40.0%. Run time:   7.20s. Est. time left: 00:00:00:10\n",
      "50.0%. Run time:   8.98s. Est. time left: 00:00:00:08\n",
      "60.0%. Run time:  10.69s. Est. time left: 00:00:00:07\n",
      "70.0%. Run time:  12.48s. Est. time left: 00:00:00:05\n",
      "80.0%. Run time:  14.29s. Est. time left: 00:00:00:03\n",
      "90.0%. Run time:  16.17s. Est. time left: 00:00:00:01\n",
      "100.0%. Run time:  17.90s. Est. time left: 00:00:00:00\n",
      "Total run time:  17.97s\n"
     ]
    }
   ],
   "source": [
    "i = 0\n",
    "opts = Options(rhs_reuse=True)\n",
    "args = {'theta':np.pi, 'tau':10e-11, 'pulse_sep':237e-12, 'rep_period':0.0}\n",
    "while i < N_pairs:\n",
    "    output = mcsolve(H, ket, t, c_ops, [P_up, P_down], args = args, options = opts)\n",
    "    i += 1"
   ]
  },
  {
   "cell_type": "code",
   "execution_count": 301,
   "metadata": {},
   "outputs": [
    {
     "data": {
      "text/plain": [
       "1000"
      ]
     },
     "execution_count": 301,
     "metadata": {},
     "output_type": "execute_result"
    },
    {
     "data": {
      "image/png": "[encoded data removed]",
      "text/plain": [
       "<Figure size 432x288 with 1 Axes>"
      ]
     },
     "metadata": {},
     "output_type": "display_data"
    }
   ],
   "source": [
    "plt.plot(output.times, output.expect[0], label = 'Excited State Prob')\n",
    "plt.plot(output.times, output.expect[1], label = 'Ground State Prob')\n",
    "plt.legend(loc=0)\n",
    "len(output.expect[0])"
   ]
  },
  {
   "cell_type": "code",
   "execution_count": null,
   "metadata": {},
   "outputs": [],
   "source": []
  }
 ],
 "metadata": {
  "kernelspec": {
   "display_name": "Python 2",
   "language": "python",
   "name": "python2"
  },
  "language_info": {
   "codemirror_mode": {
    "name": "ipython",
    "version": 2
   },
   "file_extension": ".py",
   "mimetype": "text/x-python",
   "name": "python",
   "nbconvert_exporter": "python",
   "pygments_lexer": "ipython2",
   "version": "2.7.15rc1"
  }
 },
 "nbformat": 4,
 "nbformat_minor": 2
}
