{
 "metadata": {
  "kernelspec": {
   "display_name": "Python 2",
   "language": "python",
   "name": "python2"
  },
  "language_info": {
   "codemirror_mode": {
    "name": "ipython",
    "version": 2
   },
   "file_extension": ".py",
   "mimetype": "text/x-python",
   "name": "python",
   "nbconvert_exporter": "python",
   "pygments_lexer": "ipython2",
   "version": "2.7.6"
  },
  "name": "",
  "signature": "sha256:78c1ae5a519d5a4d6d9061bfbfd16c4cdd33e6d6df55cb43a62c972101ea5640"
 },
 "nbformat": 3,
 "nbformat_minor": 0,
 "worksheets": [
  {
   "cells": [
    {
     "cell_type": "code",
     "collapsed": false,
     "input": [
      "%matplotlib inline\n",
      "import numpy as np\n",
      "import matplotlib.pyplot as plt\n",
      "import time"
     ],
     "language": "python",
     "metadata": {},
     "outputs": [
      {
       "output_type": "stream",
       "stream": "stderr",
       "text": [
        "/usr/lib/pymodules/python2.7/matplotlib/__init__.py:907: UserWarning: Duplicate key in file \"/etc/matplotlibrc\", line #469\n",
        "  (fname, cnt))\n"
       ]
      }
     ],
     "prompt_number": 1
    },
    {
     "cell_type": "heading",
     "level": 1,
     "metadata": {},
     "source": [
      "$U(x_1, x_2, x_3) = \\frac{q V^2}{m \\Omega_{RF}^2 r_0^4}(x_1^2 + x_2^2 + 4 x_3^2)$"
     ]
    },
    {
     "cell_type": "code",
     "collapsed": false,
     "input": [
      "q = 1.6e-19\n",
      "V = 300\n",
      "m = 2.89e-25\n",
      "omegaRF = 2*np.pi*40e6\n",
      "rnot = 512e-6\n",
      "A = q**2 * V**2/(m * omegaRF**2 * rnot**4)\n",
      "wsec = np.sqrt(2*A/m)\n",
      "print 'Secular freq = ', wsec/2/np.pi"
     ],
     "language": "python",
     "metadata": {},
     "outputs": [
      {
       "output_type": "stream",
       "stream": "stdout",
       "text": [
        "Secular freq =  567412.295474\n"
       ]
      }
     ],
     "prompt_number": 2
    },
    {
     "cell_type": "code",
     "collapsed": false,
     "input": [
      "x = np.linspace(-100e-6,100e-6,100)\n",
      "y = np.linspace(100e-6,-100e-6,100)\n",
      "xx, yy = np.meshgrid(x,y)\n",
      "phi = A*(xx**2 + yy**2)\n",
      "plt.plot(x*1e6, A/q*x**2)\n",
      "plt.ylabel('Pseudopotential (Volts)')\n",
      "plt.xlabel('Displacement(microns)')\n",
      "plt.show()\n"
     ],
     "language": "python",
     "metadata": {},
     "outputs": [
      {
       "metadata": {},
       "output_type": "display_data",
       "png": "[encoded data removed]",
       "text": [
        "<matplotlib.figure.Figure at 0x7f90df651990>"
       ]
      }
     ],
     "prompt_number": 3
    },
    {
     "cell_type": "code",
     "collapsed": true,
     "input": [
      "def ion_distance(ion1, ion2):\n",
      "    d = np.sqrt((ion1.x - ion2.x)**2 + (ion1.y - ion2.y)**2)\n",
      "    return d\n",
      "\n",
      "def plot_ions(ions, colors = None):\n",
      "    x = []\n",
      "    y = []\n",
      "    for i, particle in enumerate(ions):\n",
      "        x.append(particle.x)\n",
      "        y.append(particle.y)\n",
      "    #plt.xlim(-25e-6,25e-6)\n",
      "    #plt.ylim(-25e-6,25e-6)\n",
      "    plt.axes().set_aspect('equal', 'datalim')\n",
      "    if colors:\n",
      "        plt.scatter(np.array(x)*1e6,np.array(y)*1e6, c = colors) # in microns\n",
      "    else: \n",
      "        plt.scatter(x,y)\n",
      "    \n",
      "class ion():\n",
      "    def __init__(self, x0 = 0, y0= 0, vx0=0,vy0 =0, ax0=0,ay0=0):\n",
      "        self.x0= x0\n",
      "        self.x = self.x0\n",
      "        self.y0 = y0\n",
      "        self.y = self.y0\n",
      "        self.vx0 = vx0\n",
      "        self.vx = self.vx0\n",
      "        self.vy0 = vy0\n",
      "        self.vy = self.vy0\n",
      "        self.speed = np.sqrt(self.vx**2 + self.vy**2)\n",
      "        self.ax0 = ax0\n",
      "        self.ax = self.ax0\n",
      "        self.ay0 = ay0\n",
      "        self.ay = self.ay0"
     ],
     "language": "python",
     "metadata": {},
     "outputs": [],
     "prompt_number": 4
    },
    {
     "cell_type": "heading",
     "level": 1,
     "metadata": {},
     "source": [
      "$$\\ddot{\\vec{x}}_{ij} = \\frac{-2qA}{m}x_{ij} -\\Gamma\\dot{\\vec{x}}_{ij} - \\frac{q^2}{4 \\pi \\epsilon_0}\\sum_{k\\neq j}^{N} \\frac{\\hat{x}_{ij}\\cdot \\hat{r}}{|\\vec{x}_k-\\vec{x}_j|^2}$$"
     ]
    },
    {
     "cell_type": "code",
     "collapsed": false,
     "input": [
      "N = 5\n",
      "gamma = 9e6\n",
      "pos_spread = 300e-6\n",
      "E_spread = 0.5 # in eV\n",
      "number_iters = 500\n",
      "dt = 50e-9\n",
      "vkick = 0\n",
      "\n",
      "epsilon = 8.8e-12\n",
      "k = 1/(m * 4*np.pi*epsilon) * q**2 \n",
      "\n",
      "ions = []\n",
      "for i in range(N):\n",
      "    x0 = (np.random.rand() - 0.5)*pos_spread\n",
      "    y0 = (np.random.rand() - 0.5)*pos_spread\n",
      "    theta = np.pi/2 * np.random.rand()\n",
      "    E0 = np.random.rand()*E_spread # in eV\n",
      "    E0 = E0 * q\n",
      "    v0 = np.sqrt(2*E0/m)\n",
      "    vx0 = np.cos(theta)*v0\n",
      "    vy0 = np.sin(theta)*v0\n",
      "    ax0 = -2.0*A/m * x0 - gamma*vx0\n",
      "    ay0 = -2.0*A/m * y0 - gamma*vy0\n",
      "    ions.append(ion(x0,y0,vx0,vy0,ax0,ay0))\n",
      "\n",
      "iter = 0\n",
      "posx = []\n",
      "posy = []\n",
      "for i in range(N):\n",
      "    posx.append([])\n",
      "    posy.append([])\n",
      "\n",
      "for j in range(number_iters):\n",
      "    iter +=1\n",
      "    for i, particle in enumerate(ions):\n",
      "        otherions = ions[:i] + ions[i+1 :]\n",
      "        xseperations = []\n",
      "        yseperations = []\n",
      "        angles = []\n",
      "        for otherion in otherions:\n",
      "            xseperation = otherion.x - particle.x\n",
      "            yseperation = otherion.y - particle.y\n",
      "            xseperations.append(xseperation)\n",
      "            yseperations.append(yseperation)\n",
      "            angle = np.arctan(np.abs(yseperation/xseperation))\n",
      "            angles.append(angle)\n",
      "        xseperations = np.array(xseperations)\n",
      "        yseperations = np.array(yseperations)\n",
      "        posx[i].append(particle.x)\n",
      "        posy[i].append(particle.y)\n",
      "        particle.x = particle.vx * dt + particle.x\n",
      "        particle.y = particle.vy * dt + particle.y\n",
      "        particle.vx = particle.ax * dt + particle.vx + (np.random.rand() - 0.5)*vkick\n",
      "        particle.vy = particle.ay * dt + particle.vy + (np.random.rand() - 0.5)*vkick\n",
      "        a_othersx = 0\n",
      "        a_othersy = 0\n",
      "        for v, xseperation in enumerate(xseperations):\n",
      "            a_othersx += -np.sign(xseperation) * np.abs(np.cos(angles[v])) * k * 1/(xseperation**2 + yseperation**2)\n",
      "        for w, yseperation in enumerate(yseperations):    \n",
      "            a_othersy += -np.sign(yseperation) * np.abs(np.sin(angles[w])) * k  * 1/(xseperation**2 + yseperation**2)\n",
      "        particle.ax = -2.0*A/m * particle.x - gamma*particle.vx + a_othersx\n",
      "        particle.ay = -2.0*A/m * particle.y - gamma*particle.vy + a_othersy\n",
      "        \n",
      "print iter\n",
      "for k, particle in enumerate(ions):\n",
      "    print \"ion: \", k\n",
      "    print \"Starting position:\",str((particle.x0*1e6, particle.y0*1e6)), 'microns'\n",
      "    print \"Final Pos\", str((particle.x*1e6, particle.y*1e6)), 'microns'\n",
      "    print \"Starting Velocity\", str((particle.vx0,particle.vy0))\n",
      "    print \"Stopping Velocity\", str((particle.vx,particle.vy))\n",
      "\n",
      "times = np.linspace(0, dt*len(x),len(x))*1e6\n",
      "r = np.transpose(np.sqrt(np.array(posx)**2 + np.array(posy)**2))\n",
      "r = r*1e6 # in microns\n",
      "plt.plot(r)\n",
      "plt.show()\n",
      "plt.plot(r, '--')\n",
      "plt.xlim([iter - 50,iter])\n",
      "plt.ylim([0.5*np.min(r[iter-50:iter]), 2*np.max(r[iter-50:iter])])\n",
      "plt.show()\n",
      "plot_ions(ions, ['blue','green', 'red', 'cyan'])\n",
      "plt.show()"
     ],
     "language": "python",
     "metadata": {},
     "outputs": [
      {
       "output_type": "stream",
       "stream": "stdout",
       "text": [
        "500\n",
        "ion:  0\n",
        "Starting position: (67.38708337291871, 49.30933317359047) microns\n",
        "Final Pos (0.97639528418244337, 3.8381074668936686) microns\n",
        "Starting Velocity (97.181332139411225, 188.00132631159317)\n",
        "Stopping Velocity (6.0055099656157559e-08, 8.8691606077941918e-08)\n",
        "ion:  1\n",
        "Starting position: (109.63973425855006, -94.680895582818) microns\n",
        "Final Pos (0.97639544772315356, -3.838107709695926) microns\n",
        "Starting Velocity (481.13707319400834, 458.88509534688018)\n",
        "Stopping Velocity (-5.8819843058918195e-08, 8.780227205985716e-08)\n",
        "ion:  2\n",
        "Starting position: (0.06828252186737992, -110.06682673988534) microns\n",
        "Final Pos (-2.7983870716875097, -2.0817998576597176e-07) microns\n",
        "Starting Velocity (145.30330526322965, 72.648194636978204)\n",
        "Stopping Velocity (4.1277865985741677e-09, 1.5132480182727713e-07)\n",
        "ion:  3\n",
        "Starting position: (-90.10998449798765, 43.35789583408001) microns\n",
        "Final Pos (-6.6360850388130874, 7.6097932363280271e-08) microns\n",
        "Starting Velocity (446.79364392126507, 423.83297943363755)\n",
        "Stopping Velocity (-1.8281855540454621e-09, -5.5315409783661659e-08)\n",
        "ion:  4\n",
        "Starting position: (92.88799799522286, 43.43911548227451) microns\n",
        "Final Pos (5.6894946873001686, 4.9191798691142241e-08) microns\n",
        "Starting Velocity (487.82769147439888, 520.08103099087054)\n",
        "Stopping Velocity (2.7012677951031441e-10, -3.5758244605865382e-08)\n"
       ]
      },
      {
       "metadata": {},
       "output_type": "display_data",
       "png": "[encoded data removed]",
       "text": [
        "<matplotlib.figure.Figure at 0x7f91030fe710>"
       ]
      },
      {
       "metadata": {},
       "output_type": "display_data",
       "png": "[encoded data removed]",
       "text": [
        "<matplotlib.figure.Figure at 0x7f90df62dc10>"
       ]
      },
      {
       "metadata": {},
       "output_type": "display_data",
       "png": "[encoded data removed]",
       "text": [
        "<matplotlib.figure.Figure at 0x7f90df61c890>"
       ]
      }
     ],
     "prompt_number": 6
    },
    {
     "cell_type": "code",
     "collapsed": false,
     "input": [],
     "language": "python",
     "metadata": {},
     "outputs": [],
     "prompt_number": 5
    }
   ],
   "metadata": {}
  }
 ]
}