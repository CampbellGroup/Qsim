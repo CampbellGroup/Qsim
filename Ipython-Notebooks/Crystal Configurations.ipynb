{
 "metadata": {
  "kernelspec": {
   "display_name": "Python 2",
   "language": "python",
   "name": "python2"
  },
  "language_info": {
   "codemirror_mode": {
    "name": "ipython",
    "version": 2
   },
   "file_extension": ".py",
   "mimetype": "text/x-python",
   "name": "python",
   "nbconvert_exporter": "python",
   "pygments_lexer": "ipython2",
   "version": "2.7.6"
  },
  "name": "",
  "signature": "sha256:3c0e7d1871d888518a08827ca43199503eaf45771a47583815e2b66082b8a961"
 },
 "nbformat": 3,
 "nbformat_minor": 0,
 "worksheets": [
  {
   "cells": [
    {
     "cell_type": "code",
     "collapsed": false,
     "input": [
      "%matplotlib inline\n",
      "import numpy as np\n",
      "import matplotlib.pyplot as plt\n",
      "import time"
     ],
     "language": "python",
     "metadata": {},
     "outputs": [
      {
       "output_type": "stream",
       "stream": "stderr",
       "text": [
        "/usr/lib/pymodules/python2.7/matplotlib/__init__.py:907: UserWarning: Duplicate key in file \"/etc/matplotlibrc\", line #469\n",
        "  (fname, cnt))\n"
       ]
      }
     ],
     "prompt_number": 1
    },
    {
     "cell_type": "heading",
     "level": 1,
     "metadata": {},
     "source": [
      "$U(x_1, x_2, x_3) = \\frac{q V^2}{m \\Omega_{RF}^2 r_0^4}(x_1^2 + x_2^2 + 4 x_3^2)$"
     ]
    },
    {
     "cell_type": "code",
     "collapsed": false,
     "input": [
      "q = 1.6e-19\n",
      "V = 300\n",
      "m = 2.89e-25\n",
      "omegaRF = 2*np.pi*40e6\n",
      "rnot = 512e-6\n",
      "A = q**2 * V**2/(m * omegaRF**2 * rnot**4)\n",
      "wsec = np.sqrt(2*A/m)\n",
      "print 'Secular freq = ', wsec/2/np.pi"
     ],
     "language": "python",
     "metadata": {},
     "outputs": [
      {
       "output_type": "stream",
       "stream": "stdout",
       "text": [
        "Secular freq =  567412.295474\n"
       ]
      }
     ],
     "prompt_number": 2
    },
    {
     "cell_type": "code",
     "collapsed": false,
     "input": [
      "x = np.linspace(-100e-6,100e-6,100)\n",
      "y = np.linspace(100e-6,-100e-6,100)\n",
      "xx, yy = np.meshgrid(x,y)\n",
      "phi = A*(xx**2 + yy**2)\n",
      "plt.plot(x*1e6, A/q*x**2)\n",
      "plt.ylabel('Pseudopotential (Volts)')\n",
      "plt.xlabel('Displacement(microns)')\n",
      "plt.show()\n"
     ],
     "language": "python",
     "metadata": {},
     "outputs": [
      {
       "metadata": {},
       "output_type": "display_data",
       "png": "[encoded data removed]",
       "text": [
        "<matplotlib.figure.Figure at 0x7f90df651990>"
       ]
      }
     ],
     "prompt_number": 3
    },
    {
     "cell_type": "code",
     "collapsed": true,
     "input": [
      "def ion_distance(ion1, ion2):\n",
      "    d = np.sqrt((ion1.x - ion2.x)**2 + (ion1.y - ion2.y)**2)\n",
      "    return d\n",
      "\n",
      "def plot_ions(ions, colors = None):\n",
      "    x = []\n",
      "    y = []\n",
      "    for i, particle in enumerate(ions):\n",
      "        x.append(particle.x)\n",
      "        y.append(particle.y)\n",
      "    #plt.xlim(-25e-6,25e-6)\n",
      "    #plt.ylim(-25e-6,25e-6)\n",
      "    plt.axes().set_aspect('equal', 'datalim')\n",
      "    if colors:\n",
      "        plt.scatter(np.array(x)*1e6,np.array(y)*1e6, c = colors) # in microns\n",
      "    else: \n",
      "        plt.scatter(x,y)\n",
      "    \n",
      "class ion():\n",
      "    def __init__(self, x0 = 0, y0= 0, vx0=0,vy0 =0, ax0=0,ay0=0):\n",
      "        self.x0= x0\n",
      "        self.x = self.x0\n",
      "        self.y0 = y0\n",
      "        self.y = self.y0\n",
      "        self.vx0 = vx0\n",
      "        self.vx = self.vx0\n",
      "        self.vy0 = vy0\n",
      "        self.vy = self.vy0\n",
      "        self.speed = np.sqrt(self.vx**2 + self.vy**2)\n",
      "        self.ax0 = ax0\n",
      "        self.ax = self.ax0\n",
      "        self.ay0 = ay0\n",
      "        self.ay = self.ay0"
     ],
     "language": "python",
     "metadata": {},
     "outputs": [],
     "prompt_number": 4
    },
    {
     "cell_type": "heading",
     "level": 1,
     "metadata": {},
     "source": [
      "$$\\ddot{\\vec{x}}_{ij} = \\frac{-2qA}{m}x_{ij} -\\Gamma\\dot{\\vec{x}}_{ij} - \\frac{q^2}{4 \\pi \\epsilon_0}\\sum_{k\\neq j}^{N} \\frac{\\hat{x}_{ij}\\cdot \\hat{r}}{|\\vec{x}_k-\\vec{x}_j|^2}$$"
     ]
    },
    {
     "cell_type": "code",
     "collapsed": false,
     "input": [
      "N = 5\n",
      "gamma = 9e6\n",
      "pos_spread = 300e-6\n",
      "E_spread = 0.5 # in eV\n",
      "number_iters = 500\n",
      "dt = 50e-9\n",
      "vkick_spread = 2\n",
      "\n",
      "epsilon = 8.8e-12\n",
      "k = 1/(m * 4*np.pi*epsilon) * q**2 \n",
      "\n",
      "ions = []\n",
      "for i in range(N):\n",
      "    x0 = (np.random.rand() - 0.5)*pos_spread\n",
      "    y0 = (np.random.rand() - 0.5)*pos_spread\n",
      "    theta = np.pi/2 * np.random.rand()\n",
      "    E0 = np.random.rand()*E_spread # in eV\n",
      "    E0 = E0 * q\n",
      "    v0 = np.sqrt(2*E0/m)\n",
      "    vx0 = np.cos(theta)*v0\n",
      "    vy0 = np.sin(theta)*v0\n",
      "    ax0 = -2.0*A/m * x0 - gamma*vx0\n",
      "    ay0 = -2.0*A/m * y0 - gamma*vy0\n",
      "    ions.append(ion(x0,y0,vx0,vy0,ax0,ay0))\n",
      "\n",
      "iter = 0\n",
      "posx = []\n",
      "posy = []\n",
      "for i in range(N):\n",
      "    posx.append([])\n",
      "    posy.append([])\n",
      "\n",
      "for j in range(number_iters):\n",
      "    iter +=1\n",
      "    for i, particle in enumerate(ions):\n",
      "        otherions = ions[:i] + ions[i+1 :]\n",
      "        xseperations = []\n",
      "        yseperations = []\n",
      "        angles = []\n",
      "        for otherion in otherions:\n",
      "            xseperation = otherion.x - particle.x\n",
      "            yseperation = otherion.y - particle.y\n",
      "            xseperations.append(xseperation)\n",
      "            yseperations.append(yseperation)\n",
      "            angle = np.arctan(np.abs(yseperation/xseperation))\n",
      "            angles.append(angle)\n",
      "        xseperations = np.array(xseperations)\n",
      "        yseperations = np.array(yseperations)\n",
      "        posx[i].append(particle.x)\n",
      "        posy[i].append(particle.y)\n",
      "        particle.x = particle.vx * dt + particle.x\n",
      "        particle.y = particle.vy * dt + particle.y\n",
      "        particle.vx = particle.ax * dt + particle.vx + (np.random.rand() - 0.5)*vkick_spread\n",
      "        particle.vy = particle.ay * dt + particle.vy + (np.random.rand() - 0.5)*vkick_spread\n",
      "        a_othersx = 0\n",
      "        a_othersy = 0\n",
      "        for v, xseperation in enumerate(xseperations):\n",
      "            a_othersx += -np.sign(xseperation) * np.abs(np.cos(angles[v])) * k * 1/(xseperation**2 + yseperation**2)\n",
      "        for w, yseperation in enumerate(yseperations):    \n",
      "            a_othersy += -np.sign(yseperation) * np.abs(np.sin(angles[w])) * k  * 1/(xseperation**2 + yseperation**2)\n",
      "        particle.ax = -2.0*A/m * particle.x - gamma*particle.vx + a_othersx\n",
      "        particle.ay = -2.0*A/m * particle.y - gamma*particle.vy + a_othersy\n",
      "        \n",
      "print iter\n",
      "for k, particle in enumerate(ions):\n",
      "    print \"ion: \", k\n",
      "    print \"Starting position:\",str((particle.x0*1e6, particle.y0*1e6)), 'microns'\n",
      "    print \"Final Pos\", str((particle.x*1e6, particle.y*1e6)), 'microns'\n",
      "    print \"Starting Velocity\", str((particle.vx0,particle.vy0))\n",
      "    print \"Stopping Velocity\", str((particle.vx,particle.vy))\n",
      "\n",
      "times = np.linspace(0, dt*len(x),len(x))*1e6\n",
      "r = np.transpose(np.sqrt(np.array(posx)**2 + np.array(posy)**2))\n",
      "r = r*1e6 # in microns\n",
      "plt.plot(r)\n",
      "plt.show()\n",
      "plt.plot(r, '--')\n",
      "plt.xlim([iter - 50,iter])\n",
      "plt.ylim([0.5*np.min(r[iter-50:iter]), 2*np.max(r[iter-50:iter])])\n",
      "plt.show()\n",
      "plot_ions(ions, ['blue','green', 'red', 'cyan'])\n",
      "plt.show()"
     ],
     "language": "python",
     "metadata": {},
     "outputs": [
      {
       "output_type": "stream",
       "stream": "stdout",
       "text": [
        "500\n",
        "ion:  0\n",
        "Starting position: (-10.61218292549979, -139.28976662562198) microns\n",
        "Final Pos (2.7730472755114732, 0.3003810664247184) microns\n",
        "Starting Velocity (4.4163256535550595, 111.81194166226904)\n",
        "Stopping Velocity (-0.71478531155068725, 0.076170139981643348)\n",
        "ion:  1\n",
        "Starting position: (-111.86351621006061, -129.42200433545517) microns\n",
        "Final Pos (-1.064950274609421, -3.7694444285861435) microns\n",
        "Starting Velocity (519.69948797889242, 426.22686194451438)\n",
        "Stopping Velocity (1.0573168076286796, -0.31701568411247727)\n",
        "ion:  2\n",
        "Starting position: (-112.56978656104614, 142.91100864201255) microns\n",
        "Final Pos (-0.89574833037956603, 4.0341833659670909) microns\n",
        "Starting Velocity (75.860078245479841, 586.99076508851749)\n",
        "Stopping Velocity (0.41138593159657133, 0.78990598075255214)\n",
        "ion:  3\n",
        "Starting position: (55.83865275920785, 61.89528158838191) microns\n",
        "Final Pos (6.6590702758568519, -0.0045234699193706009) microns\n",
        "Starting Velocity (112.84183577223487, 294.34905191439037)\n",
        "Stopping Velocity (1.2145083907133707, 0.28649378578293261)\n",
        "ion:  4\n",
        "Starting position: (-107.09087721569396, -18.5469971197844) microns\n",
        "Final Pos (-5.6372672901852932, 0.30931289741181284) microns\n",
        "Starting Velocity (96.265577189896888, 595.42414946169731)\n",
        "Stopping Velocity (0.35640783787166391, 0.31825202872900532)\n"
       ]
      },
      {
       "metadata": {},
       "output_type": "display_data",
       "png": "[encoded data removed]",
       "text": [
        "<matplotlib.figure.Figure at 0x7f90df42cc50>"
       ]
      },
      {
       "metadata": {},
       "output_type": "display_data",
       "png": "[encoded data removed]",
       "text": [
        "<matplotlib.figure.Figure at 0x7f90df342690>"
       ]
      },
      {
       "metadata": {},
       "output_type": "display_data",
       "png": "[encoded data removed]",
       "text": [
        "<matplotlib.figure.Figure at 0x7f90df5ba950>"
       ]
      }
     ],
     "prompt_number": 25
    },
    {
     "cell_type": "code",
     "collapsed": false,
     "input": [],
     "language": "python",
     "metadata": {},
     "outputs": [],
     "prompt_number": 5
    }
   ],
   "metadata": {}
  }
 ]
}