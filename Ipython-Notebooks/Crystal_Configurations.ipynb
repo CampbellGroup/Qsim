{
 "cells": [
  {
   "cell_type": "code",
   "execution_count": 1,
   "metadata": {
    "collapsed": false
   },
   "outputs": [
    {
     "name": "stderr",
     "output_type": "stream",
     "text": [
      "/usr/lib/pymodules/python2.7/matplotlib/__init__.py:907: UserWarning: Duplicate key in file \"/etc/matplotlibrc\", line #469\n",
      "  (fname, cnt))\n"
     ]
    }
   ],
   "source": [
    "%matplotlib inline\n",
    "import numpy as np\n",
    "import matplotlib.pyplot as plt\n",
    "import time"
   ]
  },
  {
   "cell_type": "markdown",
   "metadata": {},
   "source": [
    "# $U(x_1, x_2, x_3) = \\frac{q^2 V^2}{m \\Omega_{RF}^2 r_0^4}(x_1^2 + x_2^2 + 4 x_3^2)$"
   ]
  },
  {
   "cell_type": "code",
   "execution_count": 88,
   "metadata": {
    "collapsed": false
   },
   "outputs": [
    {
     "name": "stdout",
     "output_type": "stream",
     "text": [
      "Secular freq =  378274.863649\n"
     ]
    }
   ],
   "source": [
    "q = 1.6e-19\n",
    "V = 200\n",
    "m = 2.89e-25\n",
    "omegaRF = 2*np.pi*40e6\n",
    "rnot = 512e-6\n",
    "A = q**2 * V**2/(m * omegaRF**2 * rnot**4)\n",
    "wsec = np.sqrt(2*A/m)\n",
    "print 'Secular freq = ', wsec/2/np.pi"
   ]
  },
  {
   "cell_type": "code",
   "execution_count": 89,
   "metadata": {
    "collapsed": false
   },
   "outputs": [
    {
     "data": {
      "image/png": "[encoded data removed]",
      "text/plain": [
       "<matplotlib.figure.Figure at 0x7faf1abd62d0>"
      ]
     },
     "metadata": {},
     "output_type": "display_data"
    }
   ],
   "source": [
    "x = np.linspace(-100e-6,100e-6,100)\n",
    "y = np.linspace(100e-6,-100e-6,100)\n",
    "xx, yy = np.meshgrid(x,y)\n",
    "phi = A*(xx**2 + 1 * yy**2)\n",
    "plt.plot(x, A/q*x**2)\n",
    "#plt.plot(y, A/q*x**2)\n",
    "plt.ylabel('Pseudopotential (Volts)')\n",
    "plt.xlabel('Displacement(microns)')\n",
    "plt.show()\n"
   ]
  },
  {
   "cell_type": "code",
   "execution_count": 120,
   "metadata": {
    "collapsed": false
   },
   "outputs": [],
   "source": [
    "epsilon = 8.85e-12\n",
    "\n",
    "def ion_distance(ion1, ion2):\n",
    "    d = np.sqrt((ion1.x - ion2.x)**2 + (ion1.y - ion2.y)**2)\n",
    "    return d\n",
    "\n",
    "def interaction_energy(particle, otherions):\n",
    "    Eint = 0\n",
    "    for otherion in otherions:\n",
    "        x_sep = otherion.x - particle.x\n",
    "        y_sep = otherion.y - particle.y\n",
    "        d = np.sqrt(x_sep**2 + y_sep**2)\n",
    "        Eint += q**2/(4 * np.pi * epsilon * d)\n",
    "    return 0.5 * Eint\n",
    "\n",
    "def pos_energy(particle, assy = 1):\n",
    "    pos_E = A * (assy * particle.x**2 + particle.y**2/assy ) \n",
    "    return pos_E\n",
    "\n",
    "def total_energy(ions, assy):\n",
    "    E_tot = 0\n",
    "    for i, particle in enumerate(ions):\n",
    "        otherions = ions[:i] + ions[i+1 :]\n",
    "        E_tot += interaction_energy(particle, otherions)\n",
    "        E_tot += pos_energy(particle, assy)\n",
    "    return E_tot\n",
    "    \n",
    "\n",
    "def plot_ions(ions, colors = None, initial = False):\n",
    "    x = []\n",
    "    y = []\n",
    "    if initial:\n",
    "        for i, particle in enumerate(ions):\n",
    "            x.append(particle.x0 * 1e6)\n",
    "            y.append(particle.y0 * 1e6)        \n",
    "    else:\n",
    "        for i, particle in enumerate(ions):\n",
    "            x.append(particle.x * 1e6)\n",
    "            y.append(particle.y * 1e6)\n",
    "    plt.axis('equal')\n",
    "    #plt.axis([-25e-6, 25e-6, -25e-6, 25e-6])\n",
    "    if colors:\n",
    "        plt.scatter(x,y, c = colors) # in microns\n",
    "    else: \n",
    "        plt.scatter(x,y)\n",
    "    \n",
    "class ion():\n",
    "    def __init__(self, x0 = 0, y0= 0, ax0=0,ay0=0, constant = False):\n",
    "        self.x0= x0\n",
    "        self.x = self.x0\n",
    "        self.y0 = y0\n",
    "        self.y = self.y0\n",
    "        self.constant = constant"
   ]
  },
  {
   "cell_type": "markdown",
   "metadata": {},
   "source": [
    "# $$\\ddot{\\vec{x}}_{ij} = \\frac{-2qA}{m}x_{ij} - \\frac{q^2}{4 \\pi \\epsilon_0}\\sum_{k\\neq j}^{N} \\frac{\\hat{x}_{ij}\\cdot \\hat{r}}{|\\vec{x}_k-\\vec{x}_j|^2}$$"
   ]
  },
  {
   "cell_type": "code",
   "execution_count": 123,
   "metadata": {
    "collapsed": false
   },
   "outputs": [],
   "source": [
    "def make_crystal(N_ions = 6, pos_spread = 160e-6, iterations = 800, \n",
    "                 step_size = 1e-6, starting_ions = None, assy = 1):\n",
    "    '''\n",
    "    This function iterates random steps in postion and recalculates the energy of the configuration of N ions,\n",
    "    if the energy is decreased it accepts the move and repeats\n",
    "    '''\n",
    "\n",
    "    N = N_ions\n",
    "    ions = []\n",
    "    if starting_ions == None:\n",
    "        for i in range(N):\n",
    "            x0 = (np.random.rand() - 0.5)*pos_spread # initiate ions in random position\n",
    "            y0 = (np.random.rand() - 0.5)*pos_spread\n",
    "            ions.append(ion(x0,y0))\n",
    "    else:\n",
    "        for i, starting_ion in enumerate(starting_ions): # initiate ions in specified starting positions\n",
    "            ions.append(ion(starting_ion.x,starting_ion.y))\n",
    "    E0 = total_energy(ions, assy)\n",
    "    \n",
    "    iters = 0\n",
    "    E = [E0]\n",
    "    last_E = E0\n",
    "\n",
    "    while iters < iterations:\n",
    "        iters +=1\n",
    "        for i, particle in enumerate(ions):\n",
    "            if particle.constant == False: # Checks if ion is movable\n",
    "                particle.lastx = particle.x\n",
    "                particle.x = particle.x + (np.random.rand() - 0.5)*step_size\n",
    "                particle.lasty = particle.y\n",
    "                particle.y = particle.y + (np.random.rand() - 0.5)*step_size\n",
    "                tot_E = total_energy(ions, assy)\n",
    "                if tot_E < last_E: # Check to take the position step or not\n",
    "                    E.append(tot_E)\n",
    "                    last_E = tot_E\n",
    "                else:\n",
    "                    particle.x = particle.lastx\n",
    "                    particle.y = particle.lasty\n",
    "                    \n",
    "    return E[-1], ions\n"
   ]
  },
  {
   "cell_type": "code",
   "execution_count": 189,
   "metadata": {
    "collapsed": false
   },
   "outputs": [
    {
     "data": {
      "image/png": "[encoded data removed]",
      "text/plain": [
       "<matplotlib.figure.Figure at 0x7faf1ab596d0>"
      ]
     },
     "metadata": {},
     "output_type": "display_data"
    }
   ],
   "source": [
    "E, ions = make_crystal(N_ions = 6, assy = 2, iterations = 1000)\n",
    "plot_ions(ions)"
   ]
  },
  {
   "cell_type": "code",
   "execution_count": 82,
   "metadata": {
    "collapsed": false
   },
   "outputs": [
    {
     "name": "stdout",
     "output_type": "stream",
     "text": [
      "6.64e-06\n",
      "5.97198336386e-22\n"
     ]
    },
    {
     "data": {
      "image/png": "[encoded data removed]",
      "text/plain": [
       "<matplotlib.figure.Figure at 0x7faf1a757090>"
      ]
     },
     "metadata": {},
     "output_type": "display_data"
    },
    {
     "name": "stdout",
     "output_type": "stream",
     "text": [
      "6.5736e-06\n",
      "6.5072e-06\n",
      "6.4408e-06\n",
      "6.3744e-06\n",
      "6.308e-06\n",
      "6.2416e-06\n",
      "6.1752e-06\n",
      "6.1088e-06\n",
      "6.0424e-06\n",
      "5.976e-06\n",
      "5.97193137098e-22\n"
     ]
    },
    {
     "data": {
      "image/png": "[encoded data removed]",
      "text/plain": [
       "<matplotlib.figure.Figure at 0x7faf40137c10>"
      ]
     },
     "metadata": {},
     "output_type": "display_data"
    },
    {
     "name": "stdout",
     "output_type": "stream",
     "text": [
      "5.9096e-06\n",
      "5.8432e-06\n",
      "5.7768e-06\n",
      "5.7104e-06\n",
      "5.644e-06\n",
      "5.5776e-06\n",
      "5.5112e-06\n",
      "5.4448e-06\n",
      "5.3784e-06\n",
      "5.312e-06\n",
      "5.97307727703e-22\n"
     ]
    },
    {
     "data": {
      "image/png": "[encoded data removed]",
      "text/plain": [
       "<matplotlib.figure.Figure at 0x7faf1a6e0990>"
      ]
     },
     "metadata": {},
     "output_type": "display_data"
    },
    {
     "name": "stdout",
     "output_type": "stream",
     "text": [
      "5.2456e-06\n",
      "5.1792e-06\n",
      "5.1128e-06\n",
      "5.0464e-06\n",
      "4.98e-06\n",
      "4.9136e-06\n",
      "4.8472e-06\n",
      "4.7808e-06\n",
      "4.7144e-06\n",
      "4.648e-06\n",
      "5.97522677548e-22\n"
     ]
    },
    {
     "data": {
      "image/png": "[encoded data removed]",
      "text/plain": [
       "<matplotlib.figure.Figure at 0x7faf1ac0a050>"
      ]
     },
     "metadata": {},
     "output_type": "display_data"
    },
    {
     "name": "stdout",
     "output_type": "stream",
     "text": [
      "4.5816e-06\n",
      "4.5152e-06\n",
      "4.4488e-06\n",
      "4.3824e-06\n",
      "4.316e-06\n",
      "4.2496e-06\n",
      "4.1832e-06\n",
      "4.1168e-06\n",
      "4.0504e-06\n",
      "3.984e-06\n",
      "5.97640606437e-22\n"
     ]
    },
    {
     "data": {
      "image/png": "[encoded data removed]",
      "text/plain": [
       "<matplotlib.figure.Figure at 0x7faf1a73d910>"
      ]
     },
     "metadata": {},
     "output_type": "display_data"
    },
    {
     "name": "stdout",
     "output_type": "stream",
     "text": [
      "3.9176e-06\n",
      "3.8512e-06\n",
      "3.7848e-06\n",
      "3.7184e-06\n",
      "3.652e-06\n",
      "3.5856e-06\n",
      "3.5192e-06\n",
      "3.4528e-06\n",
      "3.3864e-06\n",
      "3.32e-06\n",
      "5.97399239789e-22\n"
     ]
    },
    {
     "data": {
      "image/png": "[encoded data removed]",
      "text/plain": [
       "<matplotlib.figure.Figure at 0x7faf1a6f6f50>"
      ]
     },
     "metadata": {},
     "output_type": "display_data"
    },
    {
     "name": "stdout",
     "output_type": "stream",
     "text": [
      "3.2536e-06\n",
      "3.1872e-06\n",
      "3.1208e-06\n",
      "3.0544e-06\n",
      "2.988e-06\n",
      "2.9216e-06\n",
      "2.8552e-06\n",
      "2.7888e-06\n",
      "2.7224e-06\n",
      "2.656e-06\n",
      "5.96631039822e-22\n"
     ]
    },
    {
     "data": {
      "image/png": "[encoded data removed]",
      "text/plain": [
       "<matplotlib.figure.Figure at 0x7faf1aa53490>"
      ]
     },
     "metadata": {},
     "output_type": "display_data"
    },
    {
     "name": "stdout",
     "output_type": "stream",
     "text": [
      "2.5896e-06\n",
      "2.5232e-06\n",
      "2.4568e-06\n",
      "2.3904e-06\n",
      "2.324e-06\n",
      "2.2576e-06\n",
      "2.1912e-06\n",
      "2.1248e-06\n",
      "2.0584e-06\n",
      "1.992e-06\n",
      "5.95402483408e-22\n"
     ]
    },
    {
     "data": {
      "image/png": "[encoded data removed]",
      "text/plain": [
       "<matplotlib.figure.Figure at 0x7faf1cccae10>"
      ]
     },
     "metadata": {},
     "output_type": "display_data"
    },
    {
     "name": "stdout",
     "output_type": "stream",
     "text": [
      "1.9256e-06\n",
      "1.8592e-06\n",
      "1.7928e-06\n",
      "1.7264e-06\n",
      "1.66e-06\n",
      "1.5936e-06\n",
      "1.5272e-06\n",
      "1.4608e-06\n",
      "1.3944e-06\n",
      "1.328e-06\n",
      "5.94139563897e-22\n"
     ]
    },
    {
     "data": {
      "image/png": "[encoded data removed]",
      "text/plain": [
       "<matplotlib.figure.Figure at 0x7faf1a7b88d0>"
      ]
     },
     "metadata": {},
     "output_type": "display_data"
    },
    {
     "name": "stdout",
     "output_type": "stream",
     "text": [
      "1.2616e-06\n",
      "1.1952e-06\n",
      "1.1288e-06\n",
      "1.0624e-06\n",
      "9.96e-07\n",
      "9.296e-07\n",
      "8.632e-07\n",
      "7.968e-07\n",
      "7.304e-07\n",
      "6.64e-07\n",
      "5.93236478216e-22\n"
     ]
    },
    {
     "data": {
      "image/png": "[encoded data removed]",
      "text/plain": [
       "<matplotlib.figure.Figure at 0x7faf1cc8e9d0>"
      ]
     },
     "metadata": {},
     "output_type": "display_data"
    },
    {
     "name": "stdout",
     "output_type": "stream",
     "text": [
      "5.976e-07\n",
      "5.312e-07\n",
      "4.648e-07\n",
      "3.984e-07\n",
      "3.32e-07\n",
      "2.656e-07\n",
      "1.992e-07\n",
      "1.328e-07\n",
      "6.64e-08\n"
     ]
    }
   ],
   "source": [
    "Eprofile = []\n",
    "Ydistance = []\n",
    "for i in range(100):\n",
    "    starting_ions = symmetric_6(6.64e-6)\n",
    "    starting_ions[0].y = starting_ions[0].y - starting_ions[0].y * 0.01 * i\n",
    "    print starting_ions[0].y\n",
    "    Ydistance.append(starting_ions[0].y)\n",
    "    ions[0].constant = True\n",
    "    E, ions = make_crystal(6, starting_ions = starting_ions, iterations = 2000, pos_spread = 20e-6)\n",
    "    Eprofile.append(E)\n",
    "    if i % 10 == 0:\n",
    "        print E\n",
    "        plt.show()\n",
    "        plot_ions(ions)\n",
    "        plt.savefig('simulated_%s_ion_.pdf' % str(len(ions)))\n",
    "        plt.show() "
   ]
  },
  {
   "cell_type": "code",
   "execution_count": 21,
   "metadata": {
    "collapsed": false
   },
   "outputs": [
    {
     "name": "stdout",
     "output_type": "stream",
     "text": [
      "-2.87685327176e-06\n",
      "-6.72685286004e-06\n",
      "3.22463895913e-06\n",
      "-3.12705444104e-06\n",
      "3.49729993079e-06\n",
      "6.00549318529e-06\n"
     ]
    }
   ],
   "source": [
    "for particle in ions:\n",
    "    print particle.x"
   ]
  },
  {
   "cell_type": "code",
   "execution_count": 22,
   "metadata": {
    "collapsed": false
   },
   "outputs": [],
   "source": [
    "meta_6_ions = ions"
   ]
  },
  {
   "cell_type": "code",
   "execution_count": 72,
   "metadata": {
    "collapsed": false
   },
   "outputs": [
    {
     "name": "stdout",
     "output_type": "stream",
     "text": [
      "5.92922348689e-22\n"
     ]
    }
   ],
   "source": [
    "print Eprofile[-1]"
   ]
  },
  {
   "cell_type": "code",
   "execution_count": 31,
   "metadata": {
    "collapsed": true
   },
   "outputs": [],
   "source": [
    "def symmetric_6(radius):\n",
    "    ions = []\n",
    "    ions.append(ion(0,radius))\n",
    "    ions.append(ion(0,-radius))\n",
    "    x = radius * np.cos(np.pi/6)\n",
    "    y = radius * np.sin(np.pi/6)freq = (Eprofile - np.min(Eprofile))/6.6e-34\n",
    "    ions.append(ion(x,y))\n",
    "    ions.append(ion(-x,-y))\n",
    "    ions.append(ion(-x,y))\n",
    "    ions.append(ion(x,-y))\n",
    "    return ions"
   ]
  },
  {
   "cell_type": "code",
   "execution_count": 27,
   "metadata": {
    "collapsed": false
   },
   "outputs": [
    {
     "name": "stdout",
     "output_type": "stream",
     "text": [
      "6.64039147359e-06\n"
     ]
    }
   ],
   "source": [
    "print np.sqrt(ions[0].x**2  + ions[0].y**2)"
   ]
  },
  {
   "cell_type": "code",
   "execution_count": 83,
   "metadata": {
    "collapsed": false
   },
   "outputs": [],
   "source": [
    "Eprofile = np.array(Eprofile)\n",
    "Ydistance = np.array(Ydistance)"
   ]
  },
  {
   "cell_type": "code",
   "execution_count": 62,
   "metadata": {
    "collapsed": false
   },
   "outputs": [
    {
     "name": "stdout",
     "output_type": "stream",
     "text": [
      "5.92998764894e-22\n",
      "[  6.35645416e+09   6.66570421e+09   4.29811012e+09   2.64665671e+09\n",
      "   1.72757523e+09   1.18576774e+09   8.50226815e+08   6.25886950e+08\n",
      "   4.71589244e+08   3.60217580e+08   2.77527006e+08   2.14107359e+08\n",
      "   1.65392142e+08   1.25056058e+08   9.45092040e+07   6.78234726e+07\n",
      "   4.61400013e+07   2.75948246e+07   1.27215071e+07   0.00000000e+00]\n"
     ]
    }
   ],
   "source": [
    "print np.min(Eprofile)\n",
    "freq = (Eprofile - np.min(Eprofile))/6.6e-34\n",
    "print freq"
   ]
  },
  {
   "cell_type": "code",
   "execution_count": 71,
   "metadata": {
    "collapsed": false
   },
   "outputs": [
    {
     "data": {
      "image/png": "[encoded data removed]",
      "text/plain": [
       "<matplotlib.figure.Figure at 0x7faf1ab58390>"
      ]
     },
     "metadata": {},
     "output_type": "display_data"
    }
   ],
   "source": [
    "Eprofile = np.array(Eprofile)\n",
    "Ydistance = np.array(Ydistance)\n",
    "freq = (Eprofile - np.min(Eprofile))/6.6e-34\n",
    "plt.plot(Ydistance * 1e6, freq/1e9)\n",
    "plt.title('N=6 ions from ring to 5-1 configuration')\n",
    "plt.xlabel('pinned ion distance from center (um)')\n",
    "plt.ylabel('Energy (GHz)')\n",
    "plt.savefig('6ring-5_1_transition.pdf')"
   ]
  },
  {
   "cell_type": "code",
   "execution_count": 84,
   "metadata": {
    "collapsed": false
   },
   "outputs": [
    {
     "data": {
      "image/png": "[encoded data removed]",
      "text/plain": [
       "<matplotlib.figure.Figure at 0x7faf1a7c7050>"
      ]
     },
     "metadata": {},
     "output_type": "display_data"
    }
   ],
   "source": [
    "Eprofile = np.array(Eprofile)\n",
    "Ydistance = np.array(Ydistance)10\n",
    "freq = (Eprofile - np.min(Eprofile))/6.6e-34\n",
    "plt.plot(Ydistance * 1e6, freq/1e9)\n",
    "plt.title('N=6 ions from ring to 5-1 configuration')\n",
    "plt.xlabel('pinned ion distance from center (um)')\n",
    "plt.ylabel('Energy (GHz)')\n",
    "plt.savefig('6ring-5_1_transition.pdf')"
   ]
  },
  {
   "cell_type": "code",
   "execution_count": null,
   "metadata": {
    "collapsed": true
   },
   "outputs": [],
   "source": [
    "Eprofile = np.array(Eprofile)\n",
    "Ydistance = np.array(Ydistance)\n",
    "freq = (Eprofile - np.min(Eprofile))/6.6e-34\n",
    "plt.plot(Ydistance * 1e6, freq/1e9)\n",
    "plt.title('N=6 ions from ring to 5-1 configuration')\n",
    "plt.xlabel('pinned ion distance from center (um)')\n",
    "plt.ylabel('Energy (GHz)')\n",
    "plt.savefig('6ring-5_1_transition.pdf')"
   ]
  }
 ],
 "metadata": {
  "kernelspec": {
   "display_name": "Python 2",
   "language": "python",
   "name": "python2"
  },
  "language_info": {
   "codemirror_mode": {
    "name": "ipython",
    "version": 2
   },
   "file_extension": ".py",
   "mimetype": "text/x-python",
   "name": "python",
   "nbconvert_exporter": "python",
   "pygments_lexer": "ipython2",
   "version": "2.7.6"
  }
 },
 "nbformat": 4,
 "nbformat_minor": 0
}
