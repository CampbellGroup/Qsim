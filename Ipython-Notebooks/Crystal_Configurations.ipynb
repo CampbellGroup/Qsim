{
 "cells": [
  {
   "cell_type": "code",
   "execution_count": 3,
   "metadata": {
    "collapsed": false
   },
   "outputs": [],
   "source": [
    "%matplotlib inline\n",
    "import numpy as np\n",
    "import matplotlib.pyplot as plt\n",
    "import time"
   ]
  },
  {
   "cell_type": "markdown",
   "metadata": {},
   "source": [
    "# $U(x_1, x_2, x_3) = \\frac{q V^2}{m \\Omega_{RF}^2 r_0^4}(x_1^2 + x_2^2 + 4 x_3^2)$"
   ]
  },
  {
   "cell_type": "code",
   "execution_count": 4,
   "metadata": {
    "collapsed": false
   },
   "outputs": [
    {
     "name": "stdout",
     "output_type": "stream",
     "text": [
      "Secular freq =  7.11762543417\n"
     ]
    }
   ],
   "source": [
    "q = 1 #1.6e-19\n",
    "V = 300\n",
    "m = 1 #2.89e-25\n",
    "omegaRF = 2*np.pi*40e6\n",
    "rnot = 512e-6\n",
    "A = 1e3 # q**2 * V**2/(m * omegaRF**2 * rnot**4)\n",
    "wsec = np.sqrt(2*A/m)\n",
    "print 'Secular freq = ', wsec/2/np.pi"
   ]
  },
  {
   "cell_type": "code",
   "execution_count": 5,
   "metadata": {
    "collapsed": false
   },
   "outputs": [
    {
     "data": {
      "image/png": "[encoded data removed]",
      "text/plain": [
       "<matplotlib.figure.Figure at 0x7fa5567aedd0>"
      ]
     },
     "metadata": {},
     "output_type": "display_data"
    }
   ],
   "source": [
    "x = np.linspace(-10,10,100)\n",
    "y = np.linspace(10,-10,100)\n",
    "xx, yy = np.meshgrid(x,y)\n",
    "phi = A*(xx**2 + yy**2)\n",
    "plt.plot(x, A/q*x**2)\n",
    "plt.ylabel('Pseudopotential (Volts)')\n",
    "plt.xlabel('Displacement(microns)')\n",
    "plt.show()\n"
   ]
  },
  {
   "cell_type": "code",
   "execution_count": 36,
   "metadata": {
    "collapsed": false
   },
   "outputs": [],
   "source": [
    " def ion_distance(ion1, ion2):\n",
    "    d = np.sqrt((ion1.x - ion2.x)**2 + (ion1.y - ion2.y)**2)\n",
    "    return d\n",
    "\n",
    "def interaction_energy(particle, otherions):\n",
    "    Eint = 0\n",
    "    for otherion in otherions:\n",
    "        x_sep = otherion.x - particle.x\n",
    "        y_sep = otherion.y - particle.y\n",
    "        d = np.sqrt(x_sep**2 + y_sep**2)\n",
    "        Eint += 1/d\n",
    "    return Eint\n",
    "\n",
    "def pos_energy(particle):\n",
    "    pos_E = A * (particle.x**2 + particle.y**2 )\n",
    "    return pos_E\n",
    "\n",
    "def total_energy(ions):\n",
    "    E_tot = 0\n",
    "    for i, particle in enumerate(ions):\n",
    "        otherions = ions[:i] + ions[i+1 :]\n",
    "        E_tot += interaction_energy(particle, otherions)\n",
    "        E_tot += pos_energy(particle)\n",
    "    return E_tot\n",
    "    \n",
    "\n",
    "def plot_ions(ions, colors = None):\n",
    "    x = []\n",
    "    y = []\n",
    "    for i, particle in enumerate(ions):\n",
    "        x.append(particle.x)\n",
    "        y.append(particle.y)\n",
    "    plt.axes().set_aspect('equal', 'datalim')\n",
    "    if colors:\n",
    "        plt.scatter(np.array(x),np.array(y), c = colors) # in microns\n",
    "    else: \n",
    "        plt.scatter(x,y)\n",
    "    \n",
    "class ion():\n",
    "    def __init__(self, x0 = 0, y0= 0, ax0=0,ay0=0):\n",
    "        self.x0= x0\n",
    "        self.x = self.x0\n",
    "        self.y0 = y0\n",
    "        self.y = self.y0"
   ]
  },
  {
   "cell_type": "markdown",
   "metadata": {},
   "source": [
    "# $$\\ddot{\\vec{x}}_{ij} = \\frac{-2qA}{m}x_{ij} - \\frac{q^2}{4 \\pi \\epsilon_0}\\sum_{k\\neq j}^{N} \\frac{\\hat{x}_{ij}\\cdot \\hat{r}}{|\\vec{x}_k-\\vec{x}_j|^2}$$"
   ]
  },
  {
   "cell_type": "code",
   "execution_count": 100,
   "metadata": {
    "collapsed": false
   },
   "outputs": [
    {
     "name": "stdout",
     "output_type": "stream",
     "text": [
      "2048.6450031\n",
      "<built-in function iter>\n",
      "ion:  0\n",
      "Starting position: (0.04575040964941268, 0.2104558898932558)\n",
      "Final Pos (-0.06343789688513057, 0.18310307936469625)\n",
      "ion:  1\n",
      "Starting position: (0.08599236476877836, -0.27036862820733654)\n",
      "Final Pos (-0.004915665455531799, -0.17536891868715337)\n",
      "ion:  2\n",
      "Starting position: (0.20556348023979654, -0.18456375237038358)\n",
      "Final Pos (0.15425220387580588, 0.08342237918762484)\n",
      "ion:  3\n",
      "Starting position: (0.27849295138445274, 0.18569663840531803)\n",
      "Final Pos (0.07370145753842448, 0.1794471504577559)\n",
      "ion:  4\n",
      "Starting position: (0.04472830514744819, -0.03474816550081217)\n",
      "Final Pos (0.05969308233512027, -0.03729678168299177)\n",
      "ion:  5\n",
      "Starting position: (-0.04272353170406329, 0.15025740855769976)\n",
      "Final Pos (0.0023043666560177323, 0.07047855508043172)\n",
      "ion:  6\n",
      "Starting position: (-0.17065944609406547, -0.2445227337144512)\n",
      "Final Pos (-0.06224229467764315, -0.033153295882559934)\n",
      "ion:  7\n",
      "Starting position: (0.3479605038310907, -0.49451579995102257)\n",
      "Final Pos (0.11857811153277553, -0.1534777986491066)\n",
      "ion:  8\n",
      "Starting position: (-0.4164582856424929, -0.014567331145679652)\n",
      "Final Pos (-0.19228455030046035, -0.02589387821653115)\n",
      "ion:  9\n",
      "Starting position: (0.4915454348195646, -0.1417119904490789)\n",
      "Final Pos (0.19017012732534033, -0.03647651490849483)\n",
      "ion:  10\n",
      "Starting position: (-0.46197185002638497, -0.3542462568898014)\n",
      "Final Pos (-0.12680935860118686, -0.14651026066834627)\n",
      "ion:  11\n",
      "Starting position: (-0.36523621845487886, 0.10793370115789302)\n",
      "Final Pos (-0.14934926346324215, 0.09194807404448883)\n"
     ]
    },
    {
     "data": {
      "image/png": "[encoded data removed]",
      "text/plain": [
       "<matplotlib.figure.Figure at 0x7f0d22cf4a50>"
      ]
     },
     "metadata": {},
     "output_type": "display_data"
    }
   ],
   "source": [
    "N = 12\n",
    "pos_spread = 1\n",
    "number_iters = 20000\n",
    "step_size = pos_spread*.008\n",
    "\n",
    "epsilon = 8.8e-12\n",
    "k = 1 #1/(m * 4*np.pi*epsilon) Superior highly composite number* q**2 \n",
    "\n",
    "ions = []\n",
    "for i in range(N):\n",
    "    x0 = (np.random.rand() - 0.5)*pos_spread\n",
    "    y0 = (np.random.rand() - 0.5)*pos_spread\n",
    "    ions.append(ion(x0,y0))\n",
    "\n",
    "E0 = total_energy(ions)\n",
    "print E0\n",
    "    \n",
    "iters = 0\n",
    "E = [E0]\n",
    "last_E = E0\n",
    "\n",
    "while iters < number_iters:\n",
    "    iters +=1\n",
    "    for i, particle in enumerate(ions):\n",
    "        particle.lastx = particle.x\n",
    "        particle.x = particle.x + (np.random.rand() - 0.5)*step_size\n",
    "        particle.lasty = particle.y\n",
    "        particle.y = particle.y + (np.random.rand() - 0.5)*step_size\n",
    "        tot_E = total_energy(ions)\n",
    "        if tot_E < last_E:\n",
    "            E.append(tot_E)\n",
    "            last_E = tot_E\n",
    "        else:\n",
    "            particle.x = particle.lastx\n",
    "            particle.y = particle.lasty\n",
    "        \n",
    "print iter\n",
    "for k, particle in enumerate(ions):\n",
    "    print \"ion: \", k\n",
    "    print \"Starting position:\",str((particle.x0, particle.y0))\n",
    "    print \"Final Pos\", str((particle.x, particle.y))\n",
    "#r = np.transpose(np.sqrt(np.array(posx)**2 + np.array(posy)**2))\n",
    "#print \n",
    "#plt.plot(E)\n",
    "\n",
    "#print 'iterations = ',len(E)\n",
    "#print 'Final Energy = ', E[-1]\n",
    "#plt.show() \n",
    "#plt.plot(r, '--')\n",
    "#plt.xlim([iter - 50,iter])\n",
    "#plt.ylim([0.5*np.min(r[iter-50:iter]), 2*np.max(r[iter-50:iter])])\n",
    "#plt.show()rate(ions)\n",
    "plot_ions(ions)\n",
    "plt.savefig('simulated_%s_ion_.pdf' % str(N))\n",
    "plt.show() "
   ]
  },
  {
   "cell_type": "code",
   "execution_count": 96,
   "metadata": {
    "collapsed": false
   },
   "outputs": [
    {
     "data": {
      "text/plain": [
       "998.54789390852216"
      ]
     },
     "execution_count": 96,
     "metadata": {},
     "output_type": "execute_result"
    }
   ],
   "source": [
    "E[-1]"
   ]
  },
  {
   "cell_type": "code",
   "execution_count": 92,
   "metadata": {
    "collapsed": false
   },
   "outputs": [
    {
     "data": {
      "text/plain": [
       "997.95550906683468"
      ]
     },
     "execution_count": 92,
     "metadata": {},
     "output_type": "execute_result"
    }
   ],
   "source": [
    "E[-1]"
   ]
  },
  {
   "cell_type": "code",
   "execution_count": 94,
   "metadata": {
    "collapsed": false
   },
   "outputs": [
    {
     "data": {
      "text/plain": [
       "998.54918983127823"
      ]
     },
     "execution_count": 94,
     "metadata": {},
     "output_type": "execute_result"
    }
   ],
   "source": [
    "E[-1]"
   ]
  },
  {
   "cell_type": "code",
   "execution_count": null,
   "metadata": {
    "collapsed": true
   },
   "outputs": [],
   "source": []
  }
 ],
 "metadata": {
  "kernelspec": {
   "display_name": "Python 2",
   "language": "python",
   "name": "python2"
  },
  "language_info": {
   "codemirror_mode": {
    "name": "ipython",
    "version": 2
   },
   "file_extension": ".py",
   "mimetype": "text/x-python",
   "name": "python",
   "nbconvert_exporter": "python",
   "pygments_lexer": "ipython2",
   "version": "2.7.6"
  }
 },
 "nbformat": 4,
 "nbformat_minor": 0
}
