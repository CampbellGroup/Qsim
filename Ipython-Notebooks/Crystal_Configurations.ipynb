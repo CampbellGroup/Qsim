{
 "cells": [
  {
   "cell_type": "code",
   "execution_count": 1,
   "metadata": {
    "collapsed": false
   },
   "outputs": [
    {
     "name": "stderr",
     "output_type": "stream",
     "text": [
      "/usr/lib/pymodules/python2.7/matplotlib/__init__.py:907: UserWarning: Duplicate key in file \"/etc/matplotlibrc\", line #469\n",
      "  (fname, cnt))\n"
     ]
    }
   ],
   "source": [
    "%matplotlib inline\n",
    "import numpy as np\n",
    "import matplotlib.pyplot as plt\n",
    "import time"
   ]
  },
  {
   "cell_type": "markdown",
   "metadata": {},
   "source": [
    "# $U(x_1, x_2, x_3) = \\frac{q V^2}{m \\Omega_{RF}^2 r_0^4}(x_1^2 + x_2^2 + 4 x_3^2)$"
   ]
  },
  {
   "cell_type": "code",
   "execution_count": 2,
   "metadata": {
    "collapsed": false
   },
   "outputs": [
    {
     "name": "stdout",
     "output_type": "stream",
     "text": [
      "Secular freq =  378274.863649\n"
     ]
    }
   ],
   "source": [
    "q = 1.6e-19\n",
    "V = 200\n",
    "m = 2.89e-25\n",
    "omegaRF = 2*np.pi*40e6\n",
    "rnot = 512e-6\n",
    "A = q**2 * V**2/(m * omegaRF**2 * rnot**4)\n",
    "wsec = np.sqrt(2*A/m)\n",
    "print 'Secular freq = ', wsec/2/np.pi"
   ]
  },
  {
   "cell_type": "code",
   "execution_count": 3,
   "metadata": {
    "collapsed": false
   },
   "outputs": [
    {
     "data": {
      "image/png": "[encoded data removed]",
      "text/plain": [
       "<matplotlib.figure.Figure at 0x7f633f586d90>"
      ]
     },
     "metadata": {},
     "output_type": "display_data"
    }
   ],
   "source": [
    "x = np.linspace(-100e-6,100e-6,100)\n",
    "y = np.linspace(100e-6,-100e-6,100)\n",
    "xx, yy = np.meshgrid(x,y)\n",
    "phi = A*(xx**2 + yy**2)\n",
    "plt.plot(x, A/q*x**2)\n",
    "plt.ylabel('Pseudopotential (Volts)')\n",
    "plt.xlabel('Displacement(microns)')\n",
    "plt.show()\n"
   ]
  },
  {
   "cell_type": "code",
   "execution_count": 4,
   "metadata": {
    "collapsed": false
   },
   "outputs": [],
   "source": [
    "epsilon = 8.8e-12\n",
    "\n",
    "def ion_distance(ion1, ion2):\n",
    "    d = np.sqrt((ion1.x - ion2.x)**2 + (ion1.y - ion2.y)**2)\n",
    "    return d\n",
    "\n",
    "def interaction_energy(particle, otherions):\n",
    "    Eint = 0\n",
    "    for otherion in otherions:\n",
    "        x_sep = otherion.x - particle.x\n",
    "        y_sep = otherion.y - particle.y\n",
    "        d = np.sqrt(x_sep**2 + y_sep**2)\n",
    "        Eint += q**2/(4 * np.pi * epsilon * d)\n",
    "    return 0.5 * Eint\n",
    "\n",
    "def pos_energy(particle):\n",
    "    pos_E = A * (particle.x**2 + particle.y**2 )\n",
    "    return pos_E\n",
    "\n",
    "def total_energy(ions):\n",
    "    E_tot = 0\n",
    "    for i, particle in enumerate(ions):\n",
    "        otherions = ions[:i] + ions[i+1 :]\n",
    "        E_tot += interaction_energy(particle, otherions)\n",
    "        E_tot += pos_energy(particle)\n",
    "    return E_tot\n",
    "    \n",
    "\n",
    "def plot_ions(ions, colors = None):\n",
    "    x = []\n",
    "    y = []\n",
    "    for i, particle in enumerate(ions):\n",
    "        x.append(particle.x * 1e6)\n",
    "        y.append(particle.y * 1e6)\n",
    "    plt.axis('equal')\n",
    "    #plt.axis([-25e-6, 25e-6, -25e-6, 25e-6])\n",
    "    if colors:\n",
    "        plt.scatter(x,y, c = colors) # in microns\n",
    "    else: \n",
    "        plt.scatter(x,y)\n",
    "    \n",
    "class ion():\n",
    "    def __init__(self, x0 = 0, y0= 0, ax0=0,ay0=0, constant = False):\n",
    "        self.x0= x0\n",
    "        self.x = self.x0\n",
    "        self.y0 = y0\n",
    "        self.y = self.y0\n",
    "        self.constant = constant"
   ]
  },
  {
   "cell_type": "markdown",
   "metadata": {},
   "source": [
    "# $$\\ddot{\\vec{x}}_{ij} = \\frac{-2qA}{m}x_{ij} - \\frac{q^2}{4 \\pi \\epsilon_0}\\sum_{k\\neq j}^{N} \\frac{\\hat{x}_{ij}\\cdot \\hat{r}}{|\\vec{x}_k-\\vec{x}_j|^2}$$"
   ]
  },
  {
   "cell_type": "code",
   "execution_count": 5,
   "metadata": {
    "collapsed": false
   },
   "outputs": [
    {
     "name": "stdout",
     "output_type": "stream",
     "text": [
      "<built-in function iter>\n",
      "ion:  0\n",
      "Starting position: (-3.8460771938319724e-05, 1.5846820347250772e-05)\n",
      "Final Pos (-4.434888418116222e-06, 1.530909326714452e-07)\n",
      "ion:  1\n",
      "Starting position: (-4.631797561862735e-05, -4.707329928541967e-05)\n",
      "Final Pos (-5.1413542241628205e-06, -8.592304667405243e-06)\n",
      "ion:  2\n",
      "Starting position: (-6.768048926982722e-05, 2.540204885603048e-05)\n",
      "Final Pos (-8.577553120129691e-06, 5.222441402504719e-06)\n",
      "ion:  3\n",
      "Starting position: (7.652856787947994e-05, 3.185227193173369e-05)\n",
      "Final Pos (9.973599486490386e-06, 2.799606882718363e-06)\n",
      "ion:  4\n",
      "Starting position: (6.740600383953164e-05, 4.155858743893161e-05)\n",
      "Final Pos (5.201792799368177e-06, 8.532255381090413e-06)\n",
      "ion:  5\n",
      "Starting position: (-6.912004859507307e-06, 7.043621622109143e-05)\n",
      "Final Pos (-2.7442537193601204e-06, 9.947129034188524e-06)\n",
      "ion:  6\n",
      "Starting position: (5.0999691931259526e-05, 2.8017066045268958e-05)\n",
      "Final Pos (4.417760992800987e-06, -9.736640954727184e-08)\n",
      "ion:  7\n",
      "Starting position: (3.3002754240113304e-05, -2.0321559039224815e-05)\n",
      "Final Pos (8.559680216454891e-06, -5.215317289366174e-06)\n",
      "ion:  8\n",
      "Starting position: (2.0334906442055535e-05, -6.091666968810582e-05)\n",
      "Final Pos (2.785819580300811e-06, -9.906992140429431e-06)\n",
      "ion:  9\n",
      "Starting position: (-3.953396103393916e-05, -3.549677076055936e-05)\n",
      "Final Pos (-9.930582836273478e-06, -2.887812248502168e-06)\n",
      "ion:  10\n",
      "Starting position: (-4.358457538074259e-06, 2.9831469036064996e-06)\n",
      "Final Pos (-1.2184812612939453e-07, -4.303542576929859e-06)\n",
      "ion:  11\n",
      "Starting position: (-1.736191065210111e-05, 3.2451428423702945e-05)\n",
      "Final Pos (8.460995496732414e-08, 4.351084142477449e-06)\n"
     ]
    },
    {
     "data": {
      "image/png": "[encoded data removed]",
      "text/plain": [
       "<matplotlib.figure.Figure at 0x7f633d4d8190>"
      ]
     },
     "metadata": {},
     "output_type": "display_data"
    }
   ],
   "source": [
    "N = 12\n",
    "pos_spread = 160e-6\n",
    "number_iters = 5000\n",
    "step_size = pos_spread*.008\n",
    "\n",
    "ions = []\n",
    "for i in range(N):\n",
    "    x0 = (np.random.rand() - 0.5)*pos_spread\n",
    "    y0 = (np.random.rand() - 0.5)*pos_spread\n",
    "    ions.append(ion(x0,y0))\n",
    "\n",
    "E0 = total_energy(ions)\n",
    "    \n",
    "iters = 0\n",
    "E = [E0]\n",
    "last_E = E0\n",
    "\n",
    "while iters < number_iters:\n",
    "    iters +=1\n",
    "    for i, particle in enumerate(ions):\n",
    "        if particle.constant == False:\n",
    "            particle.lastx = particle.x\n",
    "            particle.x = particle.x + (np.random.rand() - 0.5)*step_size\n",
    "            particle.lasty = particle.y\n",
    "            particle.y = particle.y + (np.random.rand() - 0.5)*step_size\n",
    "            tot_E = total_energy(ions)\n",
    "            if tot_E < last_E:\n",
    "                E.append(tot_E)\n",
    "                last_E = tot_E\n",
    "            else:\n",
    "                particle.x = particle.lastx\n",
    "                particle.y = particle.lasty\n",
    "        \n",
    "print iter\n",
    "for k, particle in enumerate(ions):\n",
    "    print \"ion: \", k\n",
    "    print \"Starting position:\",str((particle.x0, particle.y0))\n",
    "    print \"Final Pos\", str((particle.x, particle.y))\n",
    "#r = np.transpose(np.sqrt(np.array(posx)**2 + np.array(posy)**2))\n",
    "#print \n",
    "#plt.plot(E)\n",
    "\n",
    "#print 'iterations = ',len(E)\n",
    "#print 'Final Energy = ', E[-1]\n",
    "#plt.show() \n",
    "#plt.plot(r, '--')\n",
    "#plt.xlim([iter - 50,iter])\n",
    "#plt.ylim([0.5*np.min(r[iter-50:iter]), 2*np.max(r[iter-50:iter])])\n",
    "#plt.show()rate(ions)\n",
    "plot_ions(ions)\n",
    "plt.savefig('simulated_%s_ion_.pdf' % str(N))\n",
    "plt.show() "
   ]
  },
  {
   "cell_type": "code",
   "execution_count": 6,
   "metadata": {
    "collapsed": false
   },
   "outputs": [
    {
     "data": {
      "text/plain": [
       "2.2164860996050594e-21"
      ]
     },
     "execution_count": 6,
     "metadata": {},
     "output_type": "execute_result"
    }
   ],
   "source": [
    "E[-1]"
   ]
  },
  {
   "cell_type": "code",
   "execution_count": 7,
   "metadata": {
    "collapsed": false
   },
   "outputs": [
    {
     "data": {
      "text/plain": [
       "2.2164860996050594e-21"
      ]
     },
     "execution_count": 7,
     "metadata": {},
     "output_type": "execute_result"
    }
   ],
   "source": [
    "E[-1]"
   ]
  },
  {
   "cell_type": "code",
   "execution_count": 8,
   "metadata": {
    "collapsed": false
   },
   "outputs": [
    {
     "data": {
      "text/plain": [
       "2.2164860996050594e-21"
      ]
     },
     "execution_count": 8,
     "metadata": {},
     "output_type": "execute_result"
    }
   ],
   "source": [
    "E[-1]"
   ]
  },
  {
   "cell_type": "code",
   "execution_count": 9,
   "metadata": {
    "collapsed": false
   },
   "outputs": [
    {
     "data": {
      "text/plain": [
       "2.2164860996050594e-21"
      ]
     },
     "execution_count": 9,
     "metadata": {},
     "output_type": "execute_result"
    }
   ],
   "source": [
    "E[-1]"
   ]
  },
  {
   "cell_type": "code",
   "execution_count": 10,
   "metadata": {
    "collapsed": false
   },
   "outputs": [],
   "source": [
    "energys = np.array([5.929195, 5.955422, 5.97648, 5.9719]) * 1e-22 - 5.929195 * 1e-22"
   ]
  },
  {
   "cell_type": "code",
   "execution_count": 11,
   "metadata": {
    "collapsed": false
   },
   "outputs": [
    {
     "name": "stdout",
     "output_type": "stream",
     "text": [
      "[  0.00000000e+00   3.97378788e+09   7.16439394e+09   6.47045455e+09]\n"
     ]
    }
   ],
   "source": [
    "freq = energys/6.6e-34\n",
    "print freq"
   ]
  },
  {
   "cell_type": "code",
   "execution_count": 12,
   "metadata": {
    "collapsed": false
   },
   "outputs": [
    {
     "name": "stdout",
     "output_type": "stream",
     "text": [
      "693939393.939\n"
     ]
    }
   ],
   "source": [
    "distance = [2,4,5,7]\n",
    "print freq[-2] - freq[-1]"
   ]
  },
  {
   "cell_type": "code",
   "execution_count": 13,
   "metadata": {
    "collapsed": false
   },
   "outputs": [
    {
     "data": {
      "text/plain": [
       "[<matplotlib.lines.Line2D at 0x7f633f526cd0>]"
      ]
     },
     "execution_count": 13,
     "metadata": {},
     "output_type": "execute_result"
    },
    {
     "data": {
      "image/png": "[encoded data removed]",
      "text/plain": [
       "<matplotlib.figure.Figure at 0x7f636409e150>"
      ]
     },
     "metadata": {},
     "output_type": "display_data"
    }
   ],
   "source": [
    "plt.plot(distance, freq)"
   ]
  },
  {
   "cell_type": "code",
   "execution_count": null,
   "metadata": {
    "collapsed": false
   },
   "outputs": [],
   "source": []
  }
 ],
 "metadata": {
  "kernelspec": {
   "display_name": "Python 2",
   "language": "python",
   "name": "python2"
  },
  "language_info": {
   "codemirror_mode": {
    "name": "ipython",
    "version": 2
   },
   "file_extension": ".py",
   "mimetype": "text/x-python",
   "name": "python",
   "nbconvert_exporter": "python",
   "pygments_lexer": "ipython2",
   "version": "2.7.6"
  }
 },
 "nbformat": 4,
 "nbformat_minor": 0
}
