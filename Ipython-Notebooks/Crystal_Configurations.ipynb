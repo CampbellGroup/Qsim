{
 "metadata": {
  "kernelspec": {
   "display_name": "Python 2",
   "language": "python",
   "name": "python2"
  },
  "language_info": {
   "codemirror_mode": {
    "name": "ipython",
    "version": 2
   },
   "file_extension": ".py",
   "mimetype": "text/x-python",
   "name": "python",
   "nbconvert_exporter": "python",
   "pygments_lexer": "ipython2",
   "version": "2.7.6"
  },
  "name": "",
  "signature": "sha256:179f9cae240d8cfc3ae108d8fd83b7a58111efe27bb0ce790e4a4320995a160a"
 },
 "nbformat": 3,
 "nbformat_minor": 0,
 "worksheets": [
  {
   "cells": [
    {
     "cell_type": "code",
     "collapsed": false,
     "input": [
      "%matplotlib inline\n",
      "import numpy as np\n",
      "import matplotlib.pyplot as plt\n",
      "import matplotlib.animation as animation\n",
      "from IPython import display\n",
      "import time\n",
      "import datetime\n",
      "import timeit\n",
      "import sys, os"
     ],
     "language": "python",
     "metadata": {},
     "outputs": [],
     "prompt_number": 18
    },
    {
     "cell_type": "code",
     "collapsed": false,
     "input": [
      "class ProgressBar:\n",
      "    def __init__(self, iterations):\n",
      "        self.iterations = iterations\n",
      "        self.prog_bar = '[]'\n",
      "        self.fill_char = '*'\n",
      "        self.width = 40\n",
      "        self.__update_amount(0)\n",
      "        self.animate = self.animate_ipython\n",
      "\n",
      "    def animate_ipython(self, iter):\n",
      "        try:\n",
      "            clear_output()\n",
      "        except Exception:\n",
      "            # terminal IPython has no clear_output\n",
      "            pass\n",
      "        print '\\r', self,\n",
      "        sys.stdout.flush()\n",
      "        self.update_iteration(iter + 1)\n",
      "\n",
      "    def update_iteration(self, elapsed_iter):\n",
      "        self.__update_amount((elapsed_iter / float(self.iterations)) * 100.0)\n",
      "        self.prog_bar += '  %d of %s complete' % (elapsed_iter, self.iterations)\n",
      "\n",
      "    def __update_amount(self, new_amount):\n",
      "        percent_done = int(round((new_amount / 100.0) * 100.0))\n",
      "        all_full = self.width - 2\n",
      "        num_hashes = int(round((percent_done / 100.0) * all_full))\n",
      "        self.prog_bar = '[' + self.fill_char * num_hashes + ' ' * (all_full - num_hashes) + ']'\n",
      "        pct_place = (len(self.prog_bar) / 2) - len(str(percent_done))\n",
      "        pct_string = '%d%%' % percent_done\n",
      "        self.prog_bar = self.prog_bar[0:pct_place] + \\\n",
      "            (pct_string + self.prog_bar[pct_place + len(pct_string):])\n",
      "\n",
      "    def __str__(self):\n",
      "        return str(self.prog_bar)"
     ],
     "language": "python",
     "metadata": {},
     "outputs": [],
     "prompt_number": 2
    },
    {
     "cell_type": "heading",
     "level": 1,
     "metadata": {},
     "source": [
      "$U(x_1, x_2, x_3) = \\frac{q^2 V^2}{m \\Omega_{RF}^2 r_0^4}(x_1^2 + x_2^2 + 4 x_3^2)$"
     ]
    },
    {
     "cell_type": "code",
     "collapsed": false,
     "input": [
      "q = 1.6e-19\n",
      "epsilon = 8.85e-12\n",
      "rnot = 512e-6       \n",
      "V = 200\n",
      "m = 2.89e-25\n",
      "omegaRF = 2*np.pi*40e6\n",
      "A = get_potential_coefficient(m)"
     ],
     "language": "python",
     "metadata": {},
     "outputs": [],
     "prompt_number": 15
    },
    {
     "cell_type": "code",
     "collapsed": false,
     "input": [
      "def get_potential_coefficient(mass=m):\n",
      "    A = q**2 * V**2/(mass * omegaRF**2 * rnot**4)\n",
      "    return A\n",
      "        \n",
      "def get_secular_freq_Hz(self, mass = m):\n",
      "    A = get_potential_coefficient(mass=mass)\n",
      "    wsec = np.sqrt(2*A/mass)\n",
      "    f = wsec/(2 * np.pi)\n",
      "    return f\n",
      "    \n",
      "def ion_distance(ion1, ion2):\n",
      "    d = np.sqrt((ion1.x - ion2.x)**2 + (ion1.y - ion2.y)**2)\n",
      "    return d\n",
      "\n",
      "def interaction_energy(particle, otherions):\n",
      "    Eint = 0\n",
      "    for otherion in otherions:\n",
      "        x_sep = otherion.x - particle.x\n",
      "        y_sep = otherion.y - particle.y\n",
      "        d = np.sqrt(x_sep**2 + y_sep**2)\n",
      "        Eint += q**2/(4 * np.pi * epsilon * d)\n",
      "    return  Eint\n",
      "\n",
      "def pos_energy(particle, assy = 1):\n",
      "    pos_E =  A * (assy * particle.x**2 + particle.y**2/assy ) \n",
      "    return pos_E\n",
      "\n",
      "def total_energy(ions, assy):\n",
      "    E_tot = 0\n",
      "    for i, particle in enumerate(ions):\n",
      "        otherions =  ions[i+1 :] #ions[:i] + ions[i+1 :] for half the interaction energy\n",
      "        E_tot += interaction_energy(particle, otherions)\n",
      "        E_tot += pos_energy(particle, assy)\n",
      "    return E_tot\n",
      "\n",
      "def plot_ions(ions, colors = None, initial = False):\n",
      "    fig = plt.figure()\n",
      "    ax = fig.add_subplot(111)\n",
      "    x = []\n",
      "    y = []\n",
      "\n",
      "    if initial:\n",
      "        for i, particle in enumerate(ions):\n",
      "            x.append(particle.x0 * 1e6)\n",
      "            y.append(particle.y0 * 1e6)        \n",
      "    else:\n",
      "        for i, particle in enumerate(ions):\n",
      "            x.append(particle.x * 1e6)\n",
      "            y.append(particle.y * 1e6)\n",
      "    ax.axis('equal')\n",
      "    if colors:\n",
      "        ax.scatter(x,y, c = colors) # in microns\n",
      "    else: \n",
      "        ax.scatter(x,y)  \n",
      "        \n",
      "    return fig\n",
      "        \n",
      "    \n",
      "def fit_frequency(disty, prof):\n",
      "    newx = (disty[0] - disty[0][np.argmin(prof)])\n",
      "    newy = prof - np.min(prof)\n",
      "    a = np.polyfit(newx,newy,2)\n",
      "    plt.plot(newx,newy, newx, a[0]*newx**2)\n",
      "    f = np.sqrt(2*a[0]/(3*constants.m))/2/np.pi\n",
      "    return f\n",
      "    \n",
      "class ion():\n",
      "    def __init__(self, x0 = 0, y0= 0, ax0=0,ay0=0, constant = False):\n",
      "        self.x0= x0\n",
      "        self.x = self.x0\n",
      "        self.y0 = y0\n",
      "        self.y = self.y0\n",
      "        self.constant = constant\n",
      "        "
     ],
     "language": "python",
     "metadata": {},
     "outputs": [],
     "prompt_number": 14
    },
    {
     "cell_type": "code",
     "collapsed": false,
     "input": [
      "def make_crystal(N_ions = 6, pos_spread = 160e-6, iterations = 800, \n",
      "                 step_size = 0.5e-6, starting_ions = None, assy = 1, constant_ion = None, progress = True):\n",
      "    '''\n",
      "    This function iterates random steps in postion and recalculates the energy of the configuration of N ions,\n",
      "    if the energy is decreased it accepts the move and repeats\n",
      "    '''\n",
      "    if progress == True:\n",
      "        p = ProgressBar(iterations)\n",
      "    N = N_ions\n",
      "    ions = []\n",
      "    if starting_ions == None:\n",
      "        for i in range(N):\n",
      "            x0 = (np.random.rand() - 0.5)*pos_spread # initiate ions in random position\n",
      "            y0 = (np.random.rand() - 0.5)*pos_spread\n",
      "            ions.append(ion(x0,y0))\n",
      "    else:\n",
      "        for i, starting_ion in enumerate(starting_ions): # initiate ions in specified starting positions\n",
      "            ions.append(ion(starting_ion.x,starting_ion.y))\n",
      "    E0 = total_energy(ions, assy)\n",
      "    \n",
      "    iters = 0\n",
      "    E = [E0]\n",
      "    last_E = E0\n",
      "    if constant_ion is not None:\n",
      "        for fixed in constant_ion:\n",
      "            ions[fixed].constant = True\n",
      "    while iters < iterations:\n",
      "        if progress == True:\n",
      "            p.animate(iters)\n",
      "        iters +=1\n",
      "        iters/iterations\n",
      "        for i, particle in enumerate(ions):\n",
      "            if particle.constant == False: # Checks if ion is movable\n",
      "                particle.lastx = particle.x\n",
      "                particle.x = particle.x + (np.random.rand() - 0.5)*step_size\n",
      "                particle.lasty = particle.y\n",
      "                particle.y = particle.y + (np.random.rand() - 0.5)*step_size\n",
      "                tot_E = total_energy(ions, assy)\n",
      "                if tot_E < last_E: # Check to take the position step or not\n",
      "                    E.append(tot_E)\n",
      "                    last_E = tot_E\n",
      "                else:\n",
      "                    particle.x = particle.lastx\n",
      "                    particle.y = particle.lasty          \n",
      "    return E[-1], ions\n"
     ],
     "language": "python",
     "metadata": {},
     "outputs": [],
     "prompt_number": 78
    },
    {
     "cell_type": "code",
     "collapsed": false,
     "input": [
      "squeeze_crystal(N_ions = 12, max_assy = 1.8)"
     ],
     "language": "python",
     "metadata": {},
     "outputs": [
      {
       "metadata": {},
       "output_type": "display_data",
       "png": "[encoded data removed]",
       "text": [
        "<matplotlib.figure.Figure at 0x7f89e6b4ba10>"
       ]
      },
      {
       "ename": "KeyboardInterrupt",
       "evalue": "",
       "output_type": "pyerr",
       "traceback": [
        "\u001b[1;31m---------------------------------------------------------------------------\u001b[0m\n\u001b[1;31mKeyboardInterrupt\u001b[0m                         Traceback (most recent call last)",
        "\u001b[1;32m<ipython-input-28-0a43cf7b0df4>\u001b[0m in \u001b[0;36m<module>\u001b[1;34m()\u001b[0m\n\u001b[1;32m----> 1\u001b[1;33m \u001b[0msqueeze_crystal\u001b[0m\u001b[1;33m(\u001b[0m\u001b[0mN_ions\u001b[0m \u001b[1;33m=\u001b[0m \u001b[1;36m12\u001b[0m\u001b[1;33m,\u001b[0m \u001b[0mmax_assy\u001b[0m \u001b[1;33m=\u001b[0m \u001b[1;36m1.8\u001b[0m\u001b[1;33m)\u001b[0m\u001b[1;33m\u001b[0m\u001b[0m\n\u001b[0m",
        "\u001b[1;32m<ipython-input-12-4912ab656718>\u001b[0m in \u001b[0;36msqueeze_crystal\u001b[1;34m(max_assy, N_ions, starting_ions)\u001b[0m\n\u001b[0;32m     18\u001b[0m         \u001b[0massymetry\u001b[0m \u001b[1;33m=\u001b[0m \u001b[1;36m1\u001b[0m \u001b[1;33m+\u001b[0m \u001b[0mi\u001b[0m\u001b[1;33m*\u001b[0m\u001b[0massy_step\u001b[0m\u001b[1;33m\u001b[0m\u001b[0m\n\u001b[0;32m     19\u001b[0m         E, ions = make_crystal(N_ions = N_ions, starting_ions = prev_ions,assy = assymetry,\n\u001b[1;32m---> 20\u001b[1;33m                                iterations = 200, progress = False)\n\u001b[0m\u001b[0;32m     21\u001b[0m         \u001b[0mprev_ions\u001b[0m \u001b[1;33m=\u001b[0m \u001b[0mions\u001b[0m\u001b[1;33m\u001b[0m\u001b[0m\n\u001b[0;32m     22\u001b[0m         \u001b[0mx\u001b[0m\u001b[1;33m=\u001b[0m\u001b[1;33m[\u001b[0m\u001b[1;33m]\u001b[0m\u001b[1;33m\u001b[0m\u001b[0m\n",
        "\u001b[1;32m<ipython-input-16-6a959c96c040>\u001b[0m in \u001b[0;36mmake_crystal\u001b[1;34m(N_ions, pos_spread, iterations, step_size, starting_ions, assy, constant_ion, progress)\u001b[0m\n\u001b[0;32m     36\u001b[0m                 \u001b[0mparticle\u001b[0m\u001b[1;33m.\u001b[0m\u001b[0mlasty\u001b[0m \u001b[1;33m=\u001b[0m \u001b[0mparticle\u001b[0m\u001b[1;33m.\u001b[0m\u001b[0my\u001b[0m\u001b[1;33m\u001b[0m\u001b[0m\n\u001b[0;32m     37\u001b[0m                 \u001b[0mparticle\u001b[0m\u001b[1;33m.\u001b[0m\u001b[0my\u001b[0m \u001b[1;33m=\u001b[0m \u001b[0mparticle\u001b[0m\u001b[1;33m.\u001b[0m\u001b[0my\u001b[0m \u001b[1;33m+\u001b[0m \u001b[1;33m(\u001b[0m\u001b[0mnp\u001b[0m\u001b[1;33m.\u001b[0m\u001b[0mrandom\u001b[0m\u001b[1;33m.\u001b[0m\u001b[0mrand\u001b[0m\u001b[1;33m(\u001b[0m\u001b[1;33m)\u001b[0m \u001b[1;33m-\u001b[0m \u001b[1;36m0.5\u001b[0m\u001b[1;33m)\u001b[0m\u001b[1;33m*\u001b[0m\u001b[0mstep_size\u001b[0m\u001b[1;33m\u001b[0m\u001b[0m\n\u001b[1;32m---> 38\u001b[1;33m                 \u001b[0mtot_E\u001b[0m \u001b[1;33m=\u001b[0m \u001b[0mtotal_energy\u001b[0m\u001b[1;33m(\u001b[0m\u001b[0mions\u001b[0m\u001b[1;33m,\u001b[0m \u001b[0massy\u001b[0m\u001b[1;33m)\u001b[0m\u001b[1;33m\u001b[0m\u001b[0m\n\u001b[0m\u001b[0;32m     39\u001b[0m                 \u001b[1;32mif\u001b[0m \u001b[0mtot_E\u001b[0m \u001b[1;33m<\u001b[0m \u001b[0mlast_E\u001b[0m\u001b[1;33m:\u001b[0m \u001b[1;31m# Check to take the position step or not\u001b[0m\u001b[1;33m\u001b[0m\u001b[0m\n\u001b[0;32m     40\u001b[0m                     \u001b[0mE\u001b[0m\u001b[1;33m.\u001b[0m\u001b[0mappend\u001b[0m\u001b[1;33m(\u001b[0m\u001b[0mtot_E\u001b[0m\u001b[1;33m)\u001b[0m\u001b[1;33m\u001b[0m\u001b[0m\n",
        "\u001b[1;32m<ipython-input-14-07f74cb85443>\u001b[0m in \u001b[0;36mtotal_energy\u001b[1;34m(ions, assy)\u001b[0m\n\u001b[0;32m     30\u001b[0m     \u001b[1;32mfor\u001b[0m \u001b[0mi\u001b[0m\u001b[1;33m,\u001b[0m \u001b[0mparticle\u001b[0m \u001b[1;32min\u001b[0m \u001b[0menumerate\u001b[0m\u001b[1;33m(\u001b[0m\u001b[0mions\u001b[0m\u001b[1;33m)\u001b[0m\u001b[1;33m:\u001b[0m\u001b[1;33m\u001b[0m\u001b[0m\n\u001b[0;32m     31\u001b[0m         \u001b[0motherions\u001b[0m \u001b[1;33m=\u001b[0m  \u001b[0mions\u001b[0m\u001b[1;33m[\u001b[0m\u001b[0mi\u001b[0m\u001b[1;33m+\u001b[0m\u001b[1;36m1\u001b[0m \u001b[1;33m:\u001b[0m\u001b[1;33m]\u001b[0m \u001b[1;31m#ions[:i] + ions[i+1 :] for half the interaction energy\u001b[0m\u001b[1;33m\u001b[0m\u001b[0m\n\u001b[1;32m---> 32\u001b[1;33m         \u001b[0mE_tot\u001b[0m \u001b[1;33m+=\u001b[0m \u001b[0minteraction_energy\u001b[0m\u001b[1;33m(\u001b[0m\u001b[0mparticle\u001b[0m\u001b[1;33m,\u001b[0m \u001b[0motherions\u001b[0m\u001b[1;33m)\u001b[0m\u001b[1;33m\u001b[0m\u001b[0m\n\u001b[0m\u001b[0;32m     33\u001b[0m         \u001b[0mE_tot\u001b[0m \u001b[1;33m+=\u001b[0m \u001b[0mpos_energy\u001b[0m\u001b[1;33m(\u001b[0m\u001b[0mparticle\u001b[0m\u001b[1;33m,\u001b[0m \u001b[0massy\u001b[0m\u001b[1;33m)\u001b[0m\u001b[1;33m\u001b[0m\u001b[0m\n\u001b[0;32m     34\u001b[0m     \u001b[1;32mreturn\u001b[0m \u001b[0mE_tot\u001b[0m\u001b[1;33m\u001b[0m\u001b[0m\n",
        "\u001b[1;32m<ipython-input-14-07f74cb85443>\u001b[0m in \u001b[0;36minteraction_energy\u001b[1;34m(particle, otherions)\u001b[0m\n\u001b[0;32m     19\u001b[0m         \u001b[0my_sep\u001b[0m \u001b[1;33m=\u001b[0m \u001b[0motherion\u001b[0m\u001b[1;33m.\u001b[0m\u001b[0my\u001b[0m \u001b[1;33m-\u001b[0m \u001b[0mparticle\u001b[0m\u001b[1;33m.\u001b[0m\u001b[0my\u001b[0m\u001b[1;33m\u001b[0m\u001b[0m\n\u001b[0;32m     20\u001b[0m         \u001b[0md\u001b[0m \u001b[1;33m=\u001b[0m \u001b[0mnp\u001b[0m\u001b[1;33m.\u001b[0m\u001b[0msqrt\u001b[0m\u001b[1;33m(\u001b[0m\u001b[0mx_sep\u001b[0m\u001b[1;33m**\u001b[0m\u001b[1;36m2\u001b[0m \u001b[1;33m+\u001b[0m \u001b[0my_sep\u001b[0m\u001b[1;33m**\u001b[0m\u001b[1;36m2\u001b[0m\u001b[1;33m)\u001b[0m\u001b[1;33m\u001b[0m\u001b[0m\n\u001b[1;32m---> 21\u001b[1;33m         \u001b[0mEint\u001b[0m \u001b[1;33m+=\u001b[0m \u001b[0mq\u001b[0m\u001b[1;33m**\u001b[0m\u001b[1;36m2\u001b[0m\u001b[1;33m/\u001b[0m\u001b[1;33m(\u001b[0m\u001b[1;36m4\u001b[0m \u001b[1;33m*\u001b[0m \u001b[0mnp\u001b[0m\u001b[1;33m.\u001b[0m\u001b[0mpi\u001b[0m \u001b[1;33m*\u001b[0m \u001b[0mepsilon\u001b[0m \u001b[1;33m*\u001b[0m \u001b[0md\u001b[0m\u001b[1;33m)\u001b[0m\u001b[1;33m\u001b[0m\u001b[0m\n\u001b[0m\u001b[0;32m     22\u001b[0m     \u001b[1;32mreturn\u001b[0m  \u001b[0mEint\u001b[0m\u001b[1;33m\u001b[0m\u001b[0m\n\u001b[0;32m     23\u001b[0m \u001b[1;33m\u001b[0m\u001b[0m\n",
        "\u001b[1;31mKeyboardInterrupt\u001b[0m: "
       ]
      },
      {
       "metadata": {},
       "output_type": "display_data",
       "png": "[encoded data removed]",
       "text": [
        "<matplotlib.figure.Figure at 0x7f89e6b4ba10>"
       ]
      }
     ],
     "prompt_number": 28
    },
    {
     "cell_type": "code",
     "collapsed": false,
     "input": [
      "def squeeze_crystal(max_assy = 1.3, N_ions = 6, starting_ions = None):\n",
      "    timestamp = str(datetime.datetime.now())\n",
      "    prev_ions = None\n",
      "    assy_step = (max_assy - 1 )/100\n",
      "    path =  str(N_ions) + '_Ions/' + timestamp + '/'\n",
      "    if not os.path.isdir(path): os.makedirs(path)\n",
      "    plt.ion()\n",
      "    xlims = [-40,40]\n",
      "    ylims = [-30,30]\n",
      "    plt.show()\n",
      "    \n",
      "    x = []\n",
      "    y = []\n",
      "    E, ions = make_crystal(N_ions = N_ions, starting_ions = prev_ions,assy = 1,\n",
      "                            iterations = 2000, progress = False)\n",
      "    prev_ions = ions\n",
      "    for i in range(100):\n",
      "        assymetry = 1 + i*assy_step\n",
      "        E, ions = make_crystal(N_ions = N_ions, starting_ions = prev_ions,assy = assymetry,\n",
      "                               iterations = 200, progress = False)\n",
      "        prev_ions = ions\n",
      "        x=[]\n",
      "        y=[]\n",
      "        for particle in ions:\n",
      "            x.append(particle.x * 1e6)\n",
      "            y.append(particle.y * 1e6)\n",
      "        \n",
      "        plt.clf()\n",
      "        plt.scatter(x,y)\n",
      "        plt.xlim(xlims)\n",
      "        plt.ylim(ylims)\n",
      "        plt.savefig(path + 'Frame_' + str(i) + '.png' )\n",
      "        plt.text(0,0,str(assymetry))\n",
      "        display.clear_output(wait=True)\n",
      "        display.display(plt.gcf())\n",
      "        plt.draw()\n",
      "\n",
      "    for i in range(101):\n",
      "        assymetry = max_assy - i*assy_step\n",
      "        E, ions = make_crystal(N_ions = 6, starting_ions = prev_ions,assy = assymetry, \n",
      "                               iterations = 200, progress = False)\n",
      "        prev_ions = ions\n",
      "        x=[]\n",
      "        y=[]\n",
      "        for particle in ions:\n",
      "            x.append(particle.x * 1e6)\n",
      "            y.append(particle.y * 1e6)\n",
      "        \n",
      "        plt.clf()\n",
      "        plt.scatter(x,y) \n",
      "        plt.xlim(xlims)\n",
      "        plt.ylim(ylims)\n",
      "        plt.savefig(path + 'Frame_' + str(i + 100) + '.png' )\n",
      "        plt.text(0,0,str(assymetry))\n",
      "        display.clear_output(wait=True)\n",
      "        display.display(plt.gcf())\n",
      "        plt.draw()"
     ],
     "language": "python",
     "metadata": {},
     "outputs": [],
     "prompt_number": 79
    },
    {
     "cell_type": "code",
     "collapsed": false,
     "input": [
      "def drag_ion(pinned_ions = [0], initpos = [(0,0)], finalpos = [(0,1e-6)], \n",
      "             crystal = symmetric_6(6e-6), steps = 200, iters = 500, plotevery=10):\n",
      "\n",
      "    plt.ion()\n",
      "    xlims = [-40,40]\n",
      "    ylims = [-30,30]\n",
      "    plt.show()\n",
      "    \n",
      "    N = len(crystal)\n",
      "    ions = []\n",
      "    Eprofile = []\n",
      "    Rdistance = []\n",
      "    xsteps = []\n",
      "    ysteps = []\n",
      "    \n",
      "    for ion in crystal:\n",
      "        xsteps.append([])\n",
      "        ysteps.append([])\n",
      "\n",
      "    for i, pos in enumerate(initpos):\n",
      "        xsteps[i] = np.linspace(pos[0], finalpos[i][0],steps)\n",
      "        ysteps[i] = np.linspace(pos[1], finalpos[i][1],steps)\n",
      "        \n",
      "    for i in range(steps):\n",
      "        for ion in pinned_ions:\n",
      "            crystal[ion].x = xsteps[ion][i]\n",
      "            crystal[ion].y = ysteps[ion][i]\n",
      "        E, ions = make_crystal(N_ions = N, starting_ions = crystal, \n",
      "                               iterations = iters, constant_ion=pinned_ions, progress = False)\n",
      "        Eprofile.append(E)\n",
      "        x=[]\n",
      "        y=[]\n",
      "        for particle in ions:\n",
      "            x.append(particle.x * 1e6)\n",
      "            y.append(particle.y * 1e6)\n",
      "        plt.clf()\n",
      "        plt.scatter(x,y, c = ['r','b','g','y','purple','k','brown'])\n",
      "        plt.xlim(xlims)\n",
      "        plt.ylim(ylims)\n",
      "        display.clear_output(wait=True)\n",
      "        display.display(plt.gcf())\n",
      "        plt.draw()\n",
      "    return [xsteps, ysteps], np.array(Eprofile)"
     ],
     "language": "python",
     "metadata": {},
     "outputs": [],
     "prompt_number": 88
    },
    {
     "cell_type": "code",
     "collapsed": false,
     "input": [
      "#E, crystal = make_crystal(6, iterations = 2000)\n",
      "E, crystal = make_crystal(9)\n",
      "steps1, prof1 = drag_ion(crystal = crystal, initpos=[(0,0)], finalpos = [(0,7e-6)])\n",
      "steps2, prof2 = drag_ion(crystal = crystal, initpos=[(0,7e-6)], finalpos = [(0,0)])"
     ],
     "language": "python",
     "metadata": {},
     "outputs": [
      {
       "metadata": {},
       "output_type": "display_data",
       "png": "[encoded data removed]",
       "text": [
        "<matplotlib.figure.Figure at 0x7f89e6128950>"
       ]
      },
      {
       "output_type": "stream",
       "stream": "stdout",
       "text": [
        "\n"
       ]
      },
      {
       "metadata": {},
       "output_type": "display_data",
       "png": "[encoded data removed]",
       "text": [
        "<matplotlib.figure.Figure at 0x7f89e6128950>"
       ]
      }
     ],
     "prompt_number": 120
    },
    {
     "cell_type": "code",
     "collapsed": false,
     "input": [
      "newx1 = steps1[1][0]*1e6\n",
      "newx2 = steps2[1][0]*1e6\n",
      "newy1 = (prof1 - np.min(prof1))/6.626e-34/1e9\n",
      "newy2 = (prof2 - np.min(prof2))/6.626e-34/1e9\n",
      "plt.plot(newx1,newy1,newx2,newy2)"
     ],
     "language": "python",
     "metadata": {},
     "outputs": [
      {
       "metadata": {},
       "output_type": "pyout",
       "prompt_number": 119,
       "text": [
        "[<matplotlib.lines.Line2D at 0x7f89e58d5090>,\n",
        " <matplotlib.lines.Line2D at 0x7f89e58d5450>]"
       ]
      },
      {
       "metadata": {},
       "output_type": "display_data",
       "png": "[encoded data removed]",
       "text": [
        "<matplotlib.figure.Figure at 0x7f89e5b510d0>"
       ]
      }
     ],
     "prompt_number": 119
    },
    {
     "cell_type": "code",
     "collapsed": false,
     "input": [
      "plt.plot((prof2 - np.min(prof2))/6.626e-34/1e9)"
     ],
     "language": "python",
     "metadata": {},
     "outputs": [
      {
       "metadata": {},
       "output_type": "pyout",
       "prompt_number": 108,
       "text": [
        "[<matplotlib.lines.Line2D at 0x7f89e64757d0>]"
       ]
      },
      {
       "metadata": {},
       "output_type": "display_data",
       "png": "[encoded data removed]",
       "text": [
        "<matplotlib.figure.Figure at 0x7f89e5e55750>"
       ]
      }
     ],
     "prompt_number": 108
    },
    {
     "cell_type": "code",
     "collapsed": false,
     "input": [
      "def symmetric_6(radius):\n",
      "    ions = []\n",
      "    ions.append(ion(0,radius))\n",
      "    ions.append(ion(0,-radius))\n",
      "    x = radius * np.cos(np.pi/6)\n",
      "    y = radius * np.sin(np.pi/6)\n",
      "    ions.append(ion(x,y))\n",
      "    ions.append(ion(-x,-y))\n",
      "    ions.append(ion(-x,y))\n",
      "    ions.append(ion(x,-y))\n",
      "    return ions\n",
      "    \n",
      "def symmetric_4(radius):\n",
      "    ions = []\n",
      "    ions.append(ion(0,radius))\n",
      "    ions.append(ion(radius,0))\n",
      "    ions.append(ion(0,-radius))\n",
      "    ions.append(ion(-radius,0))\n",
      "    return ions\n",
      "    \n",
      "def triangle_4(radius):\n",
      "    ions = []\n",
      "    theta = np.pi/6.0\n",
      "    x = radius * np.cos(theta)\n",
      "    y = radius * np.sin(theta)\n",
      "    ions.append(ion(0,0))\n",
      "    ions.append(ion(0,radius))\n",
      "    ions.append(ion(x,-y))\n",
      "    ions.append(ion(-x,-y))\n",
      "    return ions\n",
      "    \n",
      "def cross_5(radius):\n",
      "    ions = []\n",
      "    ions.append(ion(0,0))\n",
      "    ions.append(ion(0,radius))\n",
      "    ions.append(ion(radius,0))\n",
      "    ions.append(ion(0,-radius))\n",
      "    ions.append(ion(-radius,0))\n",
      "    return ionsions.append(ion(0,radius))\n",
      "    \n",
      "def one_ion(radius):\n",
      "    ions = []\n",
      "    ions.append(ion(0,radius))\n",
      "    return ions\n",
      "    \n",
      "def two_ion(radius):\n",
      "    ions = []\n",
      "    ions.append(ion(0,radius))\n",
      "    ions.append(ion(0,-radius))\n",
      "    return ions\n",
      "    \n",
      "def three_line(radius):\n",
      "    ions = []\n",
      "    ions.append(ion(0,radius))\n",
      "    ions.append(ion(0,0))\n",
      "    ions.append(ion(0,-radius))\n",
      "    return ions "
     ],
     "language": "python",
     "metadata": {},
     "outputs": [],
     "prompt_number": 22
    }
   ],
   "metadata": {}
  }
 ]
}