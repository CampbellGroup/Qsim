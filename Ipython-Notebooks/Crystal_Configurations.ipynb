{
 "cells": [
  {
   "cell_type": "code",
   "execution_count": 1,
   "metadata": {
    "collapsed": false
   },
   "outputs": [
    {
     "name": "stderr",
     "output_type": "stream",
     "text": [
      "/usr/lib/pymodules/python2.7/matplotlib/__init__.py:907: UserWarning: Duplicate key in file \"/etc/matplotlibrc\", line #469\n",
      "  (fname, cnt))\n"
     ]
    }
   ],
   "source": [
    "%matplotlib inline\n",
    "import numpy as np\n",
    "import matplotlib.pyplot as plt\n",
    "import time"
   ]
  },
  {
   "cell_type": "markdown",
   "metadata": {},
   "source": [
    "# $U(x_1, x_2, x_3) = \\frac{q^2 V^2}{m \\Omega_{RF}^2 r_0^4}(x_1^2 + x_2^2 + 4 x_3^2)$"
   ]
  },
  {
   "cell_type": "code",
   "execution_count": 2,
   "metadata": {
    "collapsed": false
   },
   "outputs": [
    {
     "name": "stdout",
     "output_type": "stream",
     "text": [
      "Secular freq =  378274.863649\n"
     ]
    }
   ],
   "source": [
    "q = 1.6e-19\n",
    "V = 200\n",
    "m = 2.89e-25\n",
    "omegaRF = 2*np.pi*40e6\n",
    "rnot = 512e-6\n",
    "A = q**2 * V**2/(m * omegaRF**2 * rnot**4)\n",
    "wsec = np.sqrt(2*A/m)\n",
    "print 'Secular freq = ', wsec/2/np.pi"
   ]
  },
  {
   "cell_type": "code",
   "execution_count": 3,
   "metadata": {
    "collapsed": false
   },
   "outputs": [
    {
     "data": {
      "image/png": "[encoded data removed]",
      "text/plain": [
       "<matplotlib.figure.Figure at 0x7ff91fc0bd10>"
      ]
     },
     "metadata": {},
     "output_type": "display_data"
    }
   ],
   "source": [
    "x = np.linspace(-100e-6,100e-6,100)\n",
    "y = np.linspace(100e-6,-100e-6,100)\n",
    "xx, yy = np.meshgrid(x,y)\n",
    "phi = A*(xx**2 + 1 * yy**2)\n",
    "plt.plot(x, A/q*x**2)\n",
    "#plt.plot(y, A/q*x**2)\n",
    "plt.ylabel('Pseudopotential (Volts)')\n",
    "plt.xlabel('Displacement(microns)')\n",
    "plt.show()\n"
   ]
  },
  {
   "cell_type": "code",
   "execution_count": 4,
   "metadata": {
    "collapsed": false
   },
   "outputs": [],
   "source": [
    "epsilon = 8.85e-12\n",
    "\n",
    "def ion_distance(ion1, ion2):\n",
    "    d = np.sqrt((ion1.x - ion2.x)**2 + (ion1.y - ion2.y)**2)\n",
    "    return d\n",
    "\n",
    "def interaction_energy(particle, otherions):\n",
    "    Eint = 0\n",
    "    for otherion in otherions:\n",
    "        x_sep = otherion.x - particle.x\n",
    "        y_sep = otherion.y - particle.y\n",
    "        d = np.sqrt(x_sep**2 + y_sep**2)\n",
    "        Eint += q**2/(4 * np.pi * epsilon * d)\n",
    "    return 0.5 * Eint\n",
    "\n",
    "def pos_energy(particle, assy = 1):\n",
    "    pos_E = A * (assy * particle.x**2 + particle.y**2/assy ) \n",
    "    return pos_E\n",
    "\n",
    "def total_energy(ions, assy):\n",
    "    E_tot = 0\n",
    "    for i, particle in enumerate(ions):\n",
    "        otherions = ions[:i] + ions[i+1 :]\n",
    "        E_tot += interaction_energy(particle, otherions)\n",
    "        E_tot += pos_energy(particle, assy)\n",
    "    return E_tot\n",
    "    \n",
    "\n",
    "def plot_ions(ions, colors = None, initial = False):\n",
    "    x = []\n",
    "    y = []\n",
    "    if initial:\n",
    "        for i, particle in enumerate(ions):\n",
    "            x.append(particle.x0 * 1e6)\n",
    "            y.append(particle.y0 * 1e6)        \n",
    "    else:\n",
    "        for i, particle in enumerate(ions):\n",
    "            x.append(particle.x * 1e6)\n",
    "            y.append(particle.y * 1e6)\n",
    "    plt.axis('equal')\n",
    "    #plt.axis([-25e-6, 25e-6, -25e-6, 25e-6])\n",
    "    if colors:\n",
    "        plt.scatter(x,y, c = colors) # in microns\n",
    "    else: \n",
    "        plt.scatter(x,y)\n",
    "    \n",
    "class ion():\n",
    "    def __init__(self, x0 = 0, y0= 0, ax0=0,ay0=0, constant = False):\n",
    "        self.x0= x0\n",
    "        self.x = self.x0\n",
    "        self.y0 = y0\n",
    "        self.y = self.y0\n",
    "        self.constant = constant"
   ]
  },
  {
   "cell_type": "markdown",
   "metadata": {},
   "source": [
    "# $$\\ddot{\\vec{x}}_{ij} = \\frac{-2qA}{m}x_{ij} - \\frac{q^2}{4 \\pi \\epsilon_0}\\sum_{k\\neq j}^{N} \\frac{\\hat{x}_{ij}\\cdot \\hat{r}}{|\\vec{x}_k-\\vec{x}_j|^2}$$"
   ]
  },
  {
   "cell_type": "code",
   "execution_count": 26,
   "metadata": {
    "collapsed": false
   },
   "outputs": [],
   "source": [
    "def make_crystal(N_ions = 6, pos_spread = 160e-6, iterations = 800, \n",
    "                 step_size = 1e-6, starting_ions = None, assy = 1):\n",
    "    '''\n",
    "    This function iterates random steps in postion and recalculates the energy of the configuration of N ions,\n",
    "    if the energy is decreased it accepts the move and repeats\n",
    "    '''\n",
    "\n",
    "    N = N_ions\n",
    "    ions = []\n",
    "    if starting_ions == None:\n",
    "        for i in range(N):\n",
    "            x0 = (np.random.rand() - 0.5)*pos_spread # initiate ions in random position\n",
    "            y0 = (np.random.rand() - 0.5)*pos_spread\n",
    "            ions.append(ion(x0,y0))\n",
    "    else:\n",
    "        for i, starting_ion in enumerate(starting_ions): # initiate ions in specified starting positions\n",
    "            ions.append(ion(starting_ion.x,starting_ion.y))\n",
    "    E0 = total_energy(ions, assy)\n",
    "    \n",
    "    iters = 0\n",
    "    E = [E0]\n",
    "    last_E = E0\n",
    "    ions[0].constant = True\n",
    "    while iters < iterations:\n",
    "        iters +=1\n",
    "        for i, particle in enumerate(ions):\n",
    "            if particle.constant == False: # Checks if ion is movable\n",
    "                particle.lastx = particle.x\n",
    "                particle.x = particle.x + (np.random.rand() - 0.5)*step_size\n",
    "                particle.lasty = particle.y\n",
    "                particle.y = particle.y + (np.random.rand() - 0.5)*step_size\n",
    "                tot_E = total_energy(ions, assy)\n",
    "                if tot_E < last_E: # Check to take the position step or not\n",
    "                    E.append(tot_E)\n",
    "                    last_E = tot_E\n",
    "                else:\n",
    "                    particle.x = particle.lastx\n",
    "                    particle.y = particle.lasty\n",
    "                    \n",
    "    return E[-1], ions\n"
   ]
  },
  {
   "cell_type": "code",
   "execution_count": 227,
   "metadata": {
    "collapsed": false
   },
   "outputs": [
    {
     "name": "stdout",
     "output_type": "stream",
     "text": [
      "1.31600093414e-07\n",
      "5.14140959605e-06\n"
     ]
    }
   ],
   "source": [
    "print ions[1].x\n",
    "print ions[1].y"
   ]
  },
  {
   "cell_type": "code",
   "execution_count": 24,
   "metadata": {
    "collapsed": false
   },
   "outputs": [
    {
     "data": {
      "text/plain": [
       "<matplotlib.figure.Figure at 0x7ff91d9f62d0>"
      ]
     },
     "metadata": {},
     "output_type": "display_data"
    }
   ],
   "source": [
    "#fig, axs = plt.subplots(3,5, figsize=(15, 15), facecolor='w', edgecolor='k')\n",
    "#fig.subplots_adjust(hspace = .5, wspace=.001)\n",
    "#axs = axs.ravel()\n",
    "prev_ions = None\n",
    "for i in range(100):\n",
    "    assymetry = 1 + i*0.0035\n",
    "    E, ions = make_crystal(N_ions = 6, starting_ions = prev_ions,assy = assymetry, iterations = 2000)\n",
    "    prev_ions = ions\n",
    "    x=[]\n",
    "    y=[]\n",
    "    for particle in ions:\n",
    "        x.append(particle.x * 1e6)\n",
    "        y.append(particle.y * 1e6)\n",
    "    #plt.axis('equal')\n",
    "    plt.axis([-23,23,-15,15])\n",
    "    #axs[i].set_ylim([-15,15])\n",
    "    #axs[i].set_xlim([-15,15])\n",
    "    #axs[i].set_ylim([-10,10])\n",
    "    #plt.xlim([-10,10])\n",
    "    plt.scatter(x,y)\n",
    "    plt.text(-20, 13, 'Assymetry = ' + str(assymetry), fontsize=8)\n",
    "    plt1e6 *.text(-20, 9, 'Step Number = ' + str(i), fontsize=6)\n",
    "    plt.xlabel('Distance from trap center (um)')\n",
    "    plt.ylabel('Distance from trap center (um)')\n",
    "    #axs[i].scatter(x,y)\n",
    "    #axs[i].text(-3, 1, 'Assymetry = ' + str(assymetry), fontsize=6)\n",
    "    #axs[i].text(-3, -1, 'Step Number = ' + str(i), fontsize=6)\n",
    "    plt.savefig('gif_transition/frame_%s.pdf' % str(i))\n",
    "    plt.clf()\n",
    "for i in range(101):\n",
    "    assymetry = (1.35)- i*0.0035\n",
    "    E, ions = make_crystal(N_ions = 6, starting_ions = prev_ions,assy = assymetry, iterations = 2000)\n",
    "    prev_ions = ions\n",
    "    x=[]\n",
    "    y=[]\n",
    "    for particle in ions:\n",
    "        x.append(particle.x * 1e6)\n",
    "        y.append(particle.y * 1e6)\n",
    "    plt.axis([-23,23,-15,15])\n",
    "    #plt.axis('equal')\n",
    "    #axs[i].set_ylim([-15,15])\n",
    "    #axs[i].set_xlim([-15,15])\n",
    "    #axs[7 + i].scatter(x,y)\n",
    "    #axs[i].set_ylim([-10,10])\n",
    "    #plt.xlim([-10,10])\n",
    "    plt.scatter(x,y)\n",
    "    plt.text(-20, 13, 'Assymetry = ' + str(assymetry), fontsize=8)\n",
    "    plt.text(-20, 9, 'Step Number = ' + str(100 + i), fontsize=6)\n",
    "    plt.xlabel('Distance from trap center (um)')\n",
    "    plt.ylabel('Distance from trap center (um)')\n",
    "    plt.savefig('gif_transition/frame_%s.pdf' % str(100 + i))\n",
    "    plt.clf()\n",
    "#plt.savefig('N=6transition_assymetry.pdf')"
   ]
  },
  {
   "cell_type": "code",
   "execution_count": 27,
   "metadata": {
    "collapsed": false
   },
   "outputs": [
    {
     "name": "stdout",
     "output_type": "stream",
     "text": [
      "0.0\n",
      "0.0\n"
     ]
    },
    {
     "data": {
      "image/png": "[encoded data removed]",
      "text/plain": [
       "<matplotlib.figure.Figure at 0x7ff91d31a5d0>"
      ]
     },
     "metadata": {},
     "output_type": "display_data"
    },
    {
     "name": "stdout",
     "output_type": "stream",
     "text": [
      "8.16286380734e-27\n",
      "1e-07\n"
     ]
    },
    {
     "data": {
      "image/png": "[encoded data removed]",
      "text/plain": [
       "<matplotlib.figure.Figure at 0x7ff94c480790>"
      ]
     },
     "metadata": {},
     "output_type": "display_data"
    },
    {
     "name": "stdout",
     "output_type": "stream",
     "text": [
      "3.26514552294e-26\n",
      "2e-07\n"
     ]
    },
    {
     "data": {
      "image/png": "[encoded data removed]",
      "text/plain": [
       "<matplotlib.figure.Figure at 0x7ff91cc94d50>"
      ]
     },
     "metadata": {},
     "output_type": "display_data"
    },
    {
     "name": "stdout",
     "output_type": "stream",
     "text": [
      "7.34657742661e-26\n",
      "3e-07\n"
     ]
    },
    {
     "data": {
      "image/png": "[encoded data removed]",
      "text/plain": [
       "<matplotlib.figure.Figure at 0x7ff91c4d6490>"
      ]
     },
     "metadata": {},
     "output_type": "display_data"
    },
    {
     "name": "stdout",
     "output_type": "stream",
     "text": [
      "1.30605820917e-25\n",
      "4e-07\n"
     ]
    },
    {
     "data": {
      "image/png": "[encoded data removed]",
      "text/plain": [
       "<matplotlib.figure.Figure at 0x7ff91c3cb510>"
      ]
     },
     "metadata": {},
     "output_type": "display_data"
    },
    {
     "name": "stdout",
     "output_type": "stream",
     "text": [
      "2.04071595184e-25\n",
      "5e-07\n"
     ]
    },
    {
     "data": {
      "image/png": "[encoded data removed]",
      "text/plain": [
       "<matplotlib.figure.Figure at 0x7ff91d2c4a10>"
      ]
     },
     "metadata": {},
     "output_type": "display_data"
    },
    {
     "name": "stdout",
     "output_type": "stream",
     "text": [
      "2.93863097064e-25\n",
      "6e-07\n"
     ]
    },
    {
     "data": {
      "image/png": "[encoded data removed]",
      "text/plain": [
       "<matplotlib.figure.Figure at 0x7ff91cf46750>"
      ]
     },
     "metadata": {},
     "output_type": "display_data"
    },
    {
     "name": "stdout",
     "output_type": "stream",
     "text": [
      "3.9998032656e-25\n",
      "7e-07\n"
     ]
    },
    {
     "data": {
      "image/png": "[encoded data removed]",
      "text/plain": [
       "<matplotlib.figure.Figure at 0x7ff91d8206d0>"
      ]
     },
     "metadata": {},
     "output_type": "display_data"
    },
    {
     "name": "stdout",
     "output_type": "stream",
     "text": [
      "5.2242328367e-25\n",
      "8e-07\n"
     ]
    },
    {
     "data": {
      "image/png": "[encoded data removed]",
      "text/plain": [
       "<matplotlib.figure.Figure at 0x7ff91c58add0>"
      ]
     },
     "metadata": {},
     "output_type": "display_data"
    },
    {
     "name": "stdout",
     "output_type": "stream",
     "text": [
      "6.61191968395e-25\n",
      "9e-07\n"
     ]
    },
    {
     "data": {
      "image/png": "[encoded data removed]",
      "text/plain": [
       "<matplotlib.figure.Figure at 0x7ff91c7e0c10>"
      ]
     },
     "metadata": {},
     "output_type": "display_data"
    }
   ],
   "source": [
    "Eprofile = []\n",
    "Ydistance = []\n",
    "for i in range(1000):\n",
    "    starting_ions = one_ion(0)\n",
    "    starting_ions[0].y = starting_ions[0].y + 1e-9*i\n",
    "    Ydistance.append(starting_ions[0].y)\n",
    "    ions[0].constant = True\n",
    "    E, ions = make_crystal(1, starting_ions = starting_ions, iterations = 2000, pos_spread = 20e-6)\n",
    "    Eprofile.append(E)\n",
    "    if i % 100 == 0:\n",
    "        print E\n",
    "        print starting_ions[0].y\n",
    "        plt.show()\n",
    "        plot_ions(ions)\n",
    "        plt.savefig('simulated_%s_ion_.pdf' % str(len(ions)))\n",
    "        plt.show() "
   ]
  },
  {
   "cell_type": "code",
   "execution_count": 198,
   "metadata": {
    "collapsed": false
   },
   "outputs": [
    {
     "name": "stdout",
     "output_type": "stream",
     "text": [
      "-1.39460847654e-07\n",
      "1.39153189928e-07\n",
      "5.44357895282e-06\n",
      "-5.41623549361e-06\n",
      "-5.62309756839e-06\n",
      "5.59195537286e-06\n"
     ]
    }
   ],
   "source": [
    "for particle in ions:\n",
    "    print particle.x"
   ]
  },
  {
   "cell_type": "code",
   "execution_count": 199,
   "metadata": {
    "collapsed": false
   },
   "outputs": [],
   "source": [
    "meta_6_ions = ions"
   ]
  },
  {
   "cell_type": "code",
   "execution_count": 309,
   "metadata": {
    "collapsed": false
   },
   "outputs": [
    {
     "ename": "AttributeError",
     "evalue": "'numpy.float64' object has no attribute 'x'",
     "output_type": "error",
     "traceback": [
      "\u001b[1;31m---------------------------------------------------------------------------\u001b[0m",
      "\u001b[1;31mAttributeError\u001b[0m                            Traceback (most recent call last)",
      "\u001b[1;32m<ipython-input-309-d7ef021c9b67>\u001b[0m in \u001b[0;36m<module>\u001b[1;34m()\u001b[0m\n\u001b[1;32m----> 1\u001b[1;33m \u001b[0mplot_ions\u001b[0m\u001b[1;33m(\u001b[0m\u001b[0mmake_crystal\u001b[0m\u001b[1;33m(\u001b[0m\u001b[1;36m6\u001b[0m\u001b[1;33m)\u001b[0m\u001b[1;33m)\u001b[0m\u001b[1;33m\u001b[0m\u001b[0m\n\u001b[0m",
      "\u001b[1;32m<ipython-input-194-c98e79283cc6>\u001b[0m in \u001b[0;36mplot_ions\u001b[1;34m(ions, colors, initial)\u001b[0m\n\u001b[0;32m     36\u001b[0m     \u001b[1;32melse\u001b[0m\u001b[1;33m:\u001b[0m\u001b[1;33m\u001b[0m\u001b[0m\n\u001b[0;32m     37\u001b[0m         \u001b[1;32mfor\u001b[0m \u001b[0mi\u001b[0m\u001b[1;33m,\u001b[0m \u001b[0mparticle\u001b[0m \u001b[1;32min\u001b[0m \u001b[0menumerate\u001b[0m\u001b[1;33m(\u001b[0m\u001b[0mions\u001b[0m\u001b[1;33m)\u001b[0m\u001b[1;33m:\u001b[0m\u001b[1;33m\u001b[0m\u001b[0m\n\u001b[1;32m---> 38\u001b[1;33m             \u001b[0mx\u001b[0m\u001b[1;33m.\u001b[0m\u001b[0mappend\u001b[0m\u001b[1;33m(\u001b[0m\u001b[0mparticle\u001b[0m\u001b[1;33m.\u001b[0m\u001b[0mx\u001b[0m \u001b[1;33m*\u001b[0m \u001b[1;36m1e6\u001b[0m\u001b[1;33m)\u001b[0m\u001b[1;33m\u001b[0m\u001b[0m\n\u001b[0m\u001b[0;32m     39\u001b[0m             \u001b[0my\u001b[0m\u001b[1;33m.\u001b[0m\u001b[0mappend\u001b[0m\u001b[1;33m(\u001b[0m\u001b[0mparticle\u001b[0m\u001b[1;33m.\u001b[0m\u001b[0my\u001b[0m \u001b[1;33m*\u001b[0m \u001b[1;36m1e6\u001b[0m\u001b[1;33m)\u001b[0m\u001b[1;33m\u001b[0m\u001b[0m\n\u001b[0;32m     40\u001b[0m     \u001b[0mplt\u001b[0m\u001b[1;33m.\u001b[0m\u001b[0maxis\u001b[0m\u001b[1;33m(\u001b[0m\u001b[1;34m'equal'\u001b[0m\u001b[1;33m)\u001b[0m\u001b[1;33m\u001b[0m\u001b[0m\n",
      "\u001b[1;31mAttributeError\u001b[0m: 'numpy.float64' object has no attribute 'x'"
     ]
    }
   ],
   "source": [
    "plot_ions(make_crystal(6))"
   ]
  },
  {
   "cell_type": "code",
   "execution_count": 202,
   "metadata": {
    "collapsed": false
   },
   "outputs": [],
   "source": [
    "def symmetric_6(radius):\n",
    "    ions = []\n",
    "    ions.append(ion(0,radius))\n",
    "    ions.append(ion(0,-radius))\n",
    "    x = radius * np.cos(np.pi/6)\n",
    "    y = radius * np.sin(np.pi/6)\n",
    "    ions.append(ion(x,y))\n",
    "    ions.append(ion(-x,-y))\n",
    "    ions.append(ion(-x,y))\n",
    "    ions.append(ion(x,-y))\n",
    "    return ions"
   ]
  },
  {
   "cell_type": "code",
   "execution_count": 203,
   "metadata": {
    "collapsed": false
   },
   "outputs": [],
   "source": [
    "def symmetric_4(radius):\n",
    "    ions = []\n",
    "    ions.append(ion(0,radius))\n",
    "    ions.append(ion(radius,0))\n",
    "    ions.append(ion(0,-radius))\n",
    "    ions.append(ion(-radius,0))\n",
    "    return ions"
   ]
  },
  {
   "cell_type": "code",
   "execution_count": 207,
   "metadata": {
    "collapsed": true
   },
   "outputs": [],
   "source": [
    "1e6 *def triangle_4(radius):\n",
    "    ions = []\n",
    "    theta = np.pi/6.0\n",
    "    x = radius * np.cos(theta)\n",
    "    y = radius * np.sin(theta)\n",
    "    ions.append(ion(0,0))\n",
    "    ions.append(ion(0,radius))\n",
    "    ions.append(ion(x,-y))\n",
    "    ions.append(ion(-x,-y))\n",
    "    return ions"
   ]
  },
  {
   "cell_type": "code",
   "execution_count": 234,
   "metadata": {
    "collapsed": true
   },
   "outputs": [],
   "source": [
    "def cross_5(radius):\n",
    "    ions = []\n",
    "    ions.append(ion(0,0))\n",
    "    ions.append(ion(0,radius))\n",
    "    ions.append(ion(radius,0))\n",
    "    ions.append(ion(0,-radius))\n",
    "    ions.append(ion(-radius,0))\n",
    "    return ions"
   ]
  },
  {
   "cell_type": "code",
   "execution_count": 25,
   "metadata": {
    "collapsed": true
   },
   "outputs": [],
   "source": [
    "def one_ion(radius):\n",
    "    ions = []\n",
    "    ions.append(ion(0,radius))\n",
    "    return ions"
   ]
  },
  {
   "cell_type": "code",
   "execution_count": null,
   "metadata": {
    "collapsed": false
   },
   "outputs": [],
   "source": [
    "Eprofile = np.array(Eprofile)\n",
    "Ydistance = np.array(Ydistance)"
   ]
  },
  {
   "cell_type": "code",
   "execution_count": null,
   "metadata": {
    "collapsed": false
   },
   "outputs": [],
   "source": [
    "print np.min(Eprofile)\n",
    "freq = (Eprofile - np.min(Eprofile))/6.6e-34\n",
    "print freq"
   ]
  },
  {
   "cell_type": "code",
   "execution_count": 55,
   "metadata": {
    "collapsed": false
   },
   "outputs": [
    {
     "name": "stdout",
     "output_type": "stream",
     "text": [
      "[  1.23679755e+21   1.30471771e-01  -9.78048766e-08]\n"
     ]
    },
    {
     "data": {
      "image/png": "[encoded data removed]",
      "text/plain": [
       "<matplotlib.figure.Figure at 0x7ff91d1fbc50>"
      ]
     },
     "metadata": {},
     "output_type": "display_data"
    }
   ],
   "source": [
    "Eprofile = np.array(Eprofile)\n",
    "Ydistance = np.array(Ydistance)\n",
    "freq = (Eprofile - np.min(Eprofile))/6.6e-34\n",
    "plt.plot(Ydistance*1e6 , freq/1e9)\n",
    "z = np.polyfit(Ydistance , freq, 2)\n",
    "print z\n",
    "plt.title('N=1 ions from center to 1um')\n",
    "#plt.plot(Ydistance * 1e6, z[0]*(Ydistance*1e6)**2, 'g--')\n",
    "plt.xlabel(r'pinned ion distance from center ($\\mu \\mathrm{m}$)')\n",
    "plt.ylabel('Energy (GHz)')\n",
    "plt.savefig('1_ion_dragged.pdf')"
   ]
  },
  {
   "cell_type": "code",
   "execution_count": 66,
   "metadata": {
    "collapsed": false
   },
   "outputs": [],
   "source": [
    "np.savetxt('one_ion_data.csv', np.c_[Ydistance*1e6, freq/1e9], delimiter = ',')"
   ]
  },
  {
   "cell_type": "code",
   "execution_count": null,
   "metadata": {
    "collapsed": false
   },
   "outputs": [],
   "source": [
    "Eprofile = np.array(Eprofile)\n",
    "Ydistance = np.array(Ydistance)10\n",
    "freq = (Eprofile - np.min(Eprofile))/6.6e-34\n",
    "plt.plot(Ydistance * 1e6, freq/1e9)\n",
    "plt.title('N=6 ions from ring to 5-1 configuration')\n",
    "plt.xlabel('pinned ion distance from center (um)')\n",
    "plt.ylabel('Energy (GHz)')\n",
    "plt.savefig('6ring-5_1_transition.pdf')"
   ]
  },
  {
   "cell_type": "code",
   "execution_count": null,
   "metadata": {
    "collapsed": true
   },
   "outputs": [],
   "source": [
    "Eprofile = np.array(Eprofile)\n",
    "Ydistance = np.array(Ydistance)\n",
    "freq = (Eprofile - np.min(Eprofile))/6.6e-34\n",
    "plt.plot(Ydistance * 1e6, freq/1e9)\n",
    "plt.title('N=6 ions from ring to 5-1 configuration')\n",
    "plt.xlabel('pinned ion distance from center (um)')\n",
    "plt.ylabel('Energy (GHz)')\n",
    "plt.savefig('6ring-5_1_transition.pdf')"
   ]
  }
 ],
 "metadata": {
  "kernelspec": {
   "display_name": "Python 2",
   "language": "python",
   "name": "python2"
  },
  "language_info": {
   "codemirror_mode": {
    "name": "ipython",
    "version": 2
   },
   "file_extension": ".py",
   "mimetype": "text/x-python",
   "name": "python",
   "nbconvert_exporter": "python",
   "pygments_lexer": "ipython2",
   "version": "2.7.6"
  }
 },
 "nbformat": 4,
 "nbformat_minor": 0
}
