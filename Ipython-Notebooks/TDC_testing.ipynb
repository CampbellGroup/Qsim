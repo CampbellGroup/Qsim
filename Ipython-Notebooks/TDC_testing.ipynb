{
 "cells": [
  {
   "cell_type": "code",
   "execution_count": 35,
   "metadata": {
    "collapsed": false
   },
   "outputs": [],
   "source": [
    "import time\n",
    "import numpy as np\n",
    "import matplotlib.pyplot as plt\n",
    "from scipy.optimize import curve_fit\n",
    "%matplotlib notebook"
   ]
  },
  {
   "cell_type": "code",
   "execution_count": 36,
   "metadata": {
    "collapsed": true
   },
   "outputs": [],
   "source": [
    "import labrad\n",
    "cxn = labrad.connect()"
   ]
  },
  {
   "cell_type": "code",
   "execution_count": 37,
   "metadata": {
    "collapsed": true
   },
   "outputs": [],
   "source": [
    "ss = cxn.mj_serial_server"
   ]
  },
  {
   "cell_type": "code",
   "execution_count": 39,
   "metadata": {
    "collapsed": false
   },
   "outputs": [
    {
     "data": {
      "text/plain": [
       "'/dev/ttyACM4'"
      ]
     },
     "execution_count": 39,
     "metadata": {},
     "output_type": "execute_result"
    }
   ],
   "source": [
    "ss.open('/dev/ttyACM4')"
   ]
  },
  {
   "cell_type": "code",
   "execution_count": 40,
   "metadata": {
    "collapsed": false
   },
   "outputs": [
    {
     "data": {
      "text/plain": [
       "115200"
      ]
     },
     "execution_count": 40,
     "metadata": {},
     "output_type": "execute_result"
    }
   ],
   "source": [
    "ss.baudrate(115200)"
   ]
  },
  {
   "cell_type": "code",
   "execution_count": 42,
   "metadata": {
    "collapsed": false
   },
   "outputs": [
    {
     "data": {
      "text/plain": [
       "''"
      ]
     },
     "execution_count": 42,
     "metadata": {},
     "output_type": "execute_result"
    }
   ],
   "source": [
    "ss.read()"
   ]
  },
  {
   "cell_type": "code",
   "execution_count": 33,
   "metadata": {
    "collapsed": false
   },
   "outputs": [
    {
     "name": "stdout",
     "output_type": "stream",
     "text": [
      "num_clicks= 99\n",
      "mean:  -4.12781790379e-10\n",
      "sigma:  -9.28026299044e-11\n"
     ]
    },
    {
     "data": {
      "image/png": "[encoded data removed]",
      "text/plain": [
       "<matplotlib.figure.Figure at 0x7fe18f26b410>"
      ]
     },
     "metadata": {},
     "output_type": "display_data"
    }
   ],
   "source": [
    "%matplotlib inline\n",
    "data_set = []\n",
    "ss.read()\n",
    "for i in range(100):\n",
    "    data = ss.read_line()\n",
    "    try:\n",
    "        data_set.append(float(data[0:14]))\n",
    "    except:\n",
    "        continue\n",
    "    time.sleep(0.05)\n",
    "n, bins, patches = plt.hist(np.array(data_set), 60)\n",
    "bin_centers = bins[:-1] + 0.5 * (bins[1:] - bins[:-1])\n",
    "popt, pcov = curve_fit(func, bin_centers, n, p0 = [np.max(n), bins[np.argmax(n)]/5., bins[np.argmax(n)]])\n",
    "plt.scatter(bin_centers, func(bin_centers, *popt), color='red', marker='.')\n",
    "mean = popt[2]\n",
    "sigma = popt[1]\n",
    "print 'num_clicks=', len(data_set)\n",
    "print 'mean: ', mean\n",
    "print 'sigma: ', sigma"
   ]
  },
  {
   "cell_type": "code",
   "execution_count": 7,
   "metadata": {
    "collapsed": false
   },
   "outputs": [],
   "source": [
    "def func(x_values, A, sigma, x0):\n",
    "    return A/(sigma*np.sqrt(2*np.pi))*np.exp(-(x_values-x0)**2/(2*sigma**2))"
   ]
  },
  {
   "cell_type": "code",
   "execution_count": 45,
   "metadata": {
    "collapsed": false
   },
   "outputs": [
    {
     "name": "stdout",
     "output_type": "stream",
     "text": [
      "num_clicks= 98\n",
      "mean:  -5.0656249162e-10\n",
      "sigma:  -1.04977931343e-10\n"
     ]
    },
    {
     "data": {
      "image/png": "[encoded data removed]",
      "text/plain": [
       "<matplotlib.figure.Figure at 0x7fe18ea3c910>"
      ]
     },
     "metadata": {},
     "output_type": "display_data"
    }
   ],
   "source": [
    "%matplotlib inline\n",
    "data_set = []\n",
    "ss.read()\n",
    "for i in range(100):\n",
    "    data = ss.read_line()\n",
    "    try:\n",
    "        data_set.append(float(data[0:14]))\n",
    "    except:\n",
    "        continue\n",
    "    time.sleep(0.05)\n",
    "n, bins, patches = plt.hist(np.array(data_set), 60)\n",
    "bin_centers = bins[:-1] + 0.5 * (bins[1:] - bins[:-1])\n",
    "popt, pcov = curve_fit(func, bin_centers, n, p0 = [np.max(n), bins[np.argmax(n)]/5., bins[np.argmax(n)]])\n",
    "plt.scatter(bin_centers, func(bin_centers, *popt), color='red', marker='.')\n",
    "mean = popt[2]\n",
    "sigma = popt[1]\n",
    "print 'num_clicks=', len(data_set)\n",
    "print 'mean: ', mean\n",
    "print 'sigma: ', sigma"
   ]
  },
  {
   "cell_type": "code",
   "execution_count": null,
   "metadata": {
    "collapsed": false
   },
   "outputs": [],
   "source": []
  }
 ],
 "metadata": {
  "kernelspec": {
   "display_name": "Python 2",
   "language": "python",
   "name": "python2"
  },
  "language_info": {
   "codemirror_mode": {
    "name": "ipython",
    "version": 2
   },
   "file_extension": ".py",
   "mimetype": "text/x-python",
   "name": "python",
   "nbconvert_exporter": "python",
   "pygments_lexer": "ipython2",
   "version": "2.7.6"
  }
 },
 "nbformat": 4,
 "nbformat_minor": 0
}
