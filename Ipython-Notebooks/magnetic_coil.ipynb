{
 "cells": [
  {
   "cell_type": "code",
   "execution_count": 8,
   "metadata": {},
   "outputs": [],
   "source": [
    "import matplotlib.pyplot as plt\n",
    "import numpy as np\n",
    "%matplotlib inline"
   ]
  },
  {
   "cell_type": "code",
   "execution_count": 40,
   "metadata": {},
   "outputs": [
    {
     "name": "stdout",
     "output_type": "stream",
     "text": [
      "max R 0.111111111111\n"
     ]
    },
    {
     "data": {
      "image/png": "[encoded data removed]",
      "text/plain": [
       "<matplotlib.figure.Figure at 0x7f4b80c97790>"
      ]
     },
     "metadata": {},
     "output_type": "display_data"
    }
   ],
   "source": [
    "u0 = 4*np.pi*10**(-7)\n",
    "N = 100\n",
    "R = 0.05\n",
    "I = np.linspace(0, 10, 100)\n",
    "z = 0.08\n",
    "B = 10**4 * N*u0*I*R**2/(2*np.pi*(z**2 + R**2)**(1.5))\n",
    "plt.plot(I, B)\n",
    "I = 2.5\n",
    "R = np.linspace(0, .5, 100)\n",
    "B = 10**4 * N*u0*I*R**2/(2*np.pi*(z**2 + R**2)**(1.5))\n",
    "#plt.plot(1000*R, B)\n",
    "np.argmax(B)\n",
    "print 'max R', R[22]\n",
    "R = 0.110\n",
    "z = np.linspace(0, .5, 100)\n",
    "B = 10**4 * N*u0*I*R**2/(2*np.pi*(z**2 + R**2)**(1.5))\n",
    "#plt.plot(1000*z, B)"
   ]
  },
  {
   "cell_type": "code",
   "execution_count": null,
   "metadata": {},
   "outputs": [],
   "source": []
  }
 ],
 "metadata": {
  "kernelspec": {
   "display_name": "Python 2",
   "language": "python",
   "name": "python2"
  },
  "language_info": {
   "codemirror_mode": {
    "name": "ipython",
    "version": 2
   },
   "file_extension": ".py",
   "mimetype": "text/x-python",
   "name": "python",
   "nbconvert_exporter": "python",
   "pygments_lexer": "ipython2",
   "version": "2.7.6"
  }
 },
 "nbformat": 4,
 "nbformat_minor": 1
}
