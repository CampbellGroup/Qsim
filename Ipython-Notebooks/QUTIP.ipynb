{
 "cells": [
  {
   "cell_type": "code",
   "execution_count": 1,
   "metadata": {
    "collapsed": false
   },
   "outputs": [],
   "source": [
    "%matplotlib inline\n",
    "import matplotlib.pyplot as plt\n",
    "import numpy as np\n",
    "from IPython.display import Image"
   ]
  },
  {
   "cell_type": "code",
   "execution_count": 2,
   "metadata": {
    "collapsed": false
   },
   "outputs": [],
   "source": [
    "from qutip import *"
   ]
  },
  {
   "cell_type": "code",
   "execution_count": 3,
   "metadata": {
    "collapsed": false
   },
   "outputs": [],
   "source": [
    "q = Qobj([[1], [0]])"
   ]
  },
  {
   "cell_type": "code",
   "execution_count": 4,
   "metadata": {
    "collapsed": false
   },
   "outputs": [
    {
     "data": {
      "text/latex": [
       "\\begin{equation}\\text{Quantum object: dims = [[2], [1]], shape = [2, 1], type = ket}\\\\[1em]\\begin{pmatrix}1.0\\\\0.0\\\\\\end{pmatrix}\\end{equation}"
      ],
      "text/plain": [
       "Quantum object: dims = [[2], [1]], shape = [2, 1], type = ket\n",
       "Qobj data =\n",
       "[[ 1.]\n",
       " [ 0.]]"
      ]
     },
     "execution_count": 4,
     "metadata": {},
     "output_type": "execute_result"
    }
   ],
   "source": [
    "q"
   ]
  },
  {
   "cell_type": "code",
   "execution_count": 5,
   "metadata": {
    "collapsed": false
   },
   "outputs": [
    {
     "data": {
      "text/plain": [
       "[[2], [1]]"
      ]
     },
     "execution_count": 5,
     "metadata": {},
     "output_type": "execute_result"
    }
   ],
   "source": [
    "# the dimension, or composite Hilbert state space structure\n",
    "q.dims"
   ]
  },
  {
   "cell_type": "code",
   "execution_count": 6,
   "metadata": {
    "collapsed": false
   },
   "outputs": [
    {
     "data": {
      "text/plain": [
       "[2, 1]"
      ]
     },
     "execution_count": 6,
     "metadata": {},
     "output_type": "execute_result"
    }
   ],
   "source": [
    "# the shape of the matrix data representation\n",
    "q.shape"
   ]
  },
  {
   "cell_type": "code",
   "execution_count": 7,
   "metadata": {
    "collapsed": false
   },
   "outputs": [
    {
     "data": {
      "text/plain": [
       "<2x1 sparse matrix of type '<type 'numpy.complex128'>'\n",
       "\twith 1 stored elements in Compressed Sparse Row format>"
      ]
     },
     "execution_count": 7,
     "metadata": {},
     "output_type": "execute_result"
    }
   ],
   "source": [
    "# the matrix data itself. in sparse matrix format. \n",
    "q.data"
   ]
  },
  {
   "cell_type": "code",
   "execution_count": 8,
   "metadata": {
    "collapsed": false
   },
   "outputs": [
    {
     "data": {
      "text/plain": [
       "array([[ 1.+0.j],\n",
       "       [ 0.+0.j]])"
      ]
     },
     "execution_count": 8,
     "metadata": {},
     "output_type": "execute_result"
    }
   ],
   "source": [
    "# get the dense matrix representation\n",
    "q.full()"
   ]
  },
  {
   "cell_type": "code",
   "execution_count": 9,
   "metadata": {
    "collapsed": false
   },
   "outputs": [
    {
     "data": {
      "text/latex": [
       "\\begin{equation}\\text{Quantum object: dims = [[2], [2]], shape = [2, 2], type = oper, isHerm = True}\\\\[1em]\\begin{pmatrix}0.0 & -1j\\\\1j & 0.0\\\\\\end{pmatrix}\\end{equation}"
      ],
      "text/plain": [
       "Quantum object: dims = [[2], [2]], shape = [2, 2], type = oper, isherm = True\n",
       "Qobj data =\n",
       "[[ 0.+0.j  0.-1.j]\n",
       " [ 0.+1.j  0.+0.j]]"
      ]
     },
     "execution_count": 9,
     "metadata": {},
     "output_type": "execute_result"
    }
   ],
   "source": [
    "sy = Qobj([[0,-1j], [1j,0]])  # the sigma-y Pauli operator\n",
    "\n",
    "sy"
   ]
  },
  {
   "cell_type": "code",
   "execution_count": 10,
   "metadata": {
    "collapsed": false
   },
   "outputs": [
    {
     "data": {
      "text/latex": [
       "\\begin{equation}\\text{Quantum object: dims = [[2], [2]], shape = [2, 2], type = oper, isHerm = True}\\\\[1em]\\begin{pmatrix}1.0 & 0.0\\\\0.0 & -1.0\\\\\\end{pmatrix}\\end{equation}"
      ],
      "text/plain": [
       "Quantum object: dims = [[2], [2]], shape = [2, 2], type = oper, isherm = True\n",
       "Qobj data =\n",
       "[[ 1.  0.]\n",
       " [ 0. -1.]]"
      ]
     },
     "execution_count": 10,
     "metadata": {},
     "output_type": "execute_result"
    }
   ],
   "source": [
    "sz = Qobj([[1,0], [0,-1]]) # the sigma-z Pauli operator\n",
    "\n",
    "sz"
   ]
  },
  {
   "cell_type": "code",
   "execution_count": 11,
   "metadata": {
    "collapsed": false
   },
   "outputs": [
    {
     "name": "stdout",
     "output_type": "stream",
     "text": [
      "Qubit Hamiltonian = \n",
      "\n"
     ]
    },
    {
     "data": {
      "text/latex": [
       "\\begin{equation}\\text{Quantum object: dims = [[2], [2]], shape = [2, 2], type = oper, isHerm = True}\\\\[1em]\\begin{pmatrix}1.0 & -0.1j\\\\0.1j & -1.0\\\\\\end{pmatrix}\\end{equation}"
      ],
      "text/plain": [
       "Quantum object: dims = [[2], [2]], shape = [2, 2], type = oper, isherm = True\n",
       "Qobj data =\n",
       "[[ 1.+0.j   0.-0.1j]\n",
       " [ 0.+0.1j -1.+0.j ]]"
      ]
     },
     "execution_count": 11,
     "metadata": {},
     "output_type": "execute_result"
    }
   ],
   "source": [
    "# some arithmetic with quantum objects\n",
    "\n",
    "H = 1.0 * sz + 0.1 * sy\n",
    "\n",
    "print(\"Qubit Hamiltonian = \\n\")\n",
    "H"
   ]
  },
  {
   "cell_type": "code",
   "execution_count": 12,
   "metadata": {
    "collapsed": false
   },
   "outputs": [
    {
     "data": {
      "text/latex": [
       "\\begin{equation}\\text{Quantum object: dims = [[2], [2]], shape = [2, 2], type = oper, isHerm = True}\\\\[1em]\\begin{pmatrix}0.0 & -1j\\\\1j & 0.0\\\\\\end{pmatrix}\\end{equation}"
      ],
      "text/plain": [
       "Quantum object: dims = [[2], [2]], shape = [2, 2], type = oper, isherm = True\n",
       "Qobj data =\n",
       "[[ 0.+0.j  0.-1.j]\n",
       " [ 0.+1.j  0.+0.j]]"
      ]
     },
     "execution_count": 12,
     "metadata": {},
     "output_type": "execute_result"
    }
   ],
   "source": [
    "# The hermitian conjugate\n",
    "sy.dag()"
   ]
  },
  {
   "cell_type": "code",
   "execution_count": 13,
   "metadata": {
    "collapsed": false
   },
   "outputs": [
    {
     "data": {
      "text/plain": [
       "0.0"
      ]
     },
     "execution_count": 13,
     "metadata": {},
     "output_type": "execute_result"
    }
   ],
   "source": [
    "# The trace$\n",
    "H.tr()"
   ]
  },
  {
   "cell_type": "code",
   "execution_count": 14,
   "metadata": {
    "collapsed": false
   },
   "outputs": [
    {
     "data": {
      "text/plain": [
       "array([-1.00498756,  1.00498756])"
      ]
     },
     "execution_count": 14,
     "metadata": {},
     "output_type": "execute_result"
    }
   ],
   "source": [
    "# Eigen energies\n",
    "H.eigenenergies()"
   ]
  },
  {
   "cell_type": "code",
   "execution_count": 15,
   "metadata": {
    "collapsed": false
   },
   "outputs": [
    {
     "data": {
      "text/latex": [
       "\\begin{equation}\\text{Quantum object: dims = [[2], [1]], shape = [2, 1], type = ket}\\\\[1em]\\begin{pmatrix}0.0\\\\1.0\\\\\\end{pmatrix}\\end{equation}"
      ],
      "text/plain": [
       "Quantum object: dims = [[2], [1]], shape = [2, 1], type = ket\n",
       "Qobj data =\n",
       "[[ 0.]\n",
       " [ 1.]]"
      ]
     },
     "execution_count": 15,
     "metadata": {},
     "output_type": "execute_result"
    }
   ],
   "source": [
    "# Fundamental basis states (Fock states of oscillator modes)\n",
    "\n",
    "N = 2 # number of states in the Hilbert space\n",
    "n = 1 # the state that will be occupied\n",
    "\n",
    "basis(N, n)    # equivalent to fock(N, n)"
   ]
  },
  {
   "cell_type": "code",
   "execution_count": null,
   "metadata": {
    "collapsed": false
   },
   "outputs": [],
   "source": []
  },
  {
   "cell_type": "code",
   "execution_count": 16,
   "metadata": {
    "collapsed": false
   },
   "outputs": [
    {
     "data": {
      "text/latex": [
       "\\begin{equation}\\text{Quantum object: dims = [[4], [1]], shape = [4, 1], type = ket}\\\\[1em]\\begin{pmatrix}0.0\\\\0.0\\\\1.0\\\\0.0\\\\\\end{pmatrix}\\end{equation}"
      ],
      "text/plain": [
       "Quantum object: dims = [[4], [1]], shape = [4, 1], type = ket\n",
       "Qobj data =\n",
       "[[ 0.]\n",
       " [ 0.]\n",
       " [ 1.]\n",
       " [ 0.]]"
      ]
     },
     "execution_count": 16,
     "metadata": {},
     "output_type": "execute_result"
    }
   ],
   "source": [
    "fock(4, 2) # another example"
   ]
  },
  {
   "cell_type": "code",
   "execution_count": 17,
   "metadata": {
    "collapsed": false
   },
   "outputs": [
    {
     "data": {
      "text/latex": [
       "\\begin{equation}\\text{Quantum object: dims = [[100], [1]], shape = [100, 1], type = ket}\\\\[1em]\\begin{pmatrix}0.606530659713\\\\0.606530659713\\\\0.42888194248\\\\0.247615104942\\\\0.123807552471\\\\0.0553684206905\\\\0.0226040630926\\\\0.00854353279466\\\\0.0030205949872\\\\0.00100686499573\\\\0.000318398668281\\\\9.60008105851e-05\\\\2.77130469169e-05\\\\7.68621628139e-06\\\\2.05422770897e-06\\\\5.30399313745e-07\\\\1.32599828436e-07\\\\3.21601822695e-08\\\\7.58022765565e-09\\\\1.73902349053e-09\\\\3.88857473929e-10\\\\8.48556575632e-11\\\\1.80912869793e-11\\\\3.77229410403e-12\\\\7.70016309548e-13\\\\0.0\\\\0.0\\\\0.0\\\\0.0\\\\0.0\\\\0.0\\\\0.0\\\\0.0\\\\0.0\\\\0.0\\\\0.0\\\\0.0\\\\0.0\\\\0.0\\\\0.0\\\\0.0\\\\0.0\\\\0.0\\\\0.0\\\\0.0\\\\0.0\\\\0.0\\\\0.0\\\\0.0\\\\0.0\\\\0.0\\\\0.0\\\\0.0\\\\0.0\\\\0.0\\\\0.0\\\\0.0\\\\0.0\\\\0.0\\\\0.0\\\\0.0\\\\0.0\\\\0.0\\\\0.0\\\\0.0\\\\0.0\\\\0.0\\\\0.0\\\\0.0\\\\0.0\\\\0.0\\\\0.0\\\\0.0\\\\0.0\\\\0.0\\\\0.0\\\\0.0\\\\0.0\\\\0.0\\\\0.0\\\\0.0\\\\0.0\\\\0.0\\\\0.0\\\\0.0\\\\0.0\\\\0.0\\\\0.0\\\\0.0\\\\0.0\\\\0.0\\\\0.0\\\\0.0\\\\0.0\\\\0.0\\\\0.0\\\\0.0\\\\0.0\\\\0.0\\\\0.0\\\\\\end{pmatrix}\\end{equation}"
      ],
      "text/plain": [
       "Quantum object: dims = [[100], [1]], shape = [100, 1], type = ket\n",
       "Qobj data =\n",
       "[[  6.06530660e-01]\n",
       " [  6.06530660e-01]\n",
       " [  4.28881942e-01]\n",
       " [  2.47615105e-01]\n",
       " [  1.23807552e-01]\n",
       " [  5.53684207e-02]\n",
       " [  2.26040631e-02]\n",
       " [  8.54353279e-03]\n",
       " [  3.02059499e-03]\n",
       " [  1.00686500e-03]\n",
       " [  3.18398668e-04]\n",
       " [  9.60008106e-05]\n",
       " [  2.77130469e-05]\n",
       " [  7.68621628e-06]\n",
       " [  2.05422771e-06]\n",
       " [  5.30399314e-07]\n",
       " [  1.32599828e-07]\n",
       " [  3.21601823e-08]\n",
       " [  7.58022766e-09]\n",
       " [  1.73902349e-09]\n",
       " [  3.88857474e-10]\n",
       " [  8.48556576e-11]\n",
       " [  1.80912870e-11]\n",
       " [  3.77229410e-12]\n",
       " [  7.70016310e-13]\n",
       " [  0.00000000e+00]\n",
       " [  0.00000000e+00]\n",
       " [  0.00000000e+00]\n",
       " [  0.00000000e+00]\n",
       " [  0.00000000e+00]\n",
       " [  0.00000000e+00]\n",
       " [  0.00000000e+00]\n",
       " [  0.00000000e+00]\n",
       " [  0.00000000e+00]\n",
       " [  0.00000000e+00]\n",
       " [  0.00000000e+00]\n",
       " [  0.00000000e+00]\n",
       " [  0.00000000e+00]\n",
       " [  0.00000000e+00]\n",
       " [  0.00000000e+00]\n",
       " [  0.00000000e+00]\n",
       " [  0.00000000e+00]\n",
       " [  0.00000000e+00]\n",
       " [  0.00000000e+00]\n",
       " [  0.00000000e+00]\n",
       " [  0.00000000e+00]\n",
       " [  0.00000000e+00]\n",
       " [  0.00000000e+00]\n",
       " [  0.00000000e+00]\n",
       " [  0.00000000e+00]\n",
       " [  0.00000000e+00]\n",
       " [  0.00000000e+00]\n",
       " [  0.00000000e+00]\n",
       " [  0.00000000e+00]\n",
       " [  0.00000000e+00]\n",
       " [  0.00000000e+00]\n",
       " [  0.00000000e+00]\n",
       " [  0.00000000e+00]\n",
       " [  0.00000000e+00]\n",
       " [  0.00000000e+00]\n",
       " [  0.00000000e+00]\n",
       " [  0.00000000e+00]\n",
       " [  0.00000000e+00]\n",
       " [  0.00000000e+00]\n",
       " [  0.00000000e+00]\n",
       " [  0.00000000e+00]\n",
       " [  0.00000000e+00]\n",
       " [  0.00000000e+00]\n",
       " [  0.00000000e+00]\n",
       " [  0.00000000e+00]\n",
       " [  0.00000000e+00]\n",
       " [  0.00000000e+00]\n",
       " [  0.00000000e+00]\n",
       " [  0.00000000e+00]\n",
       " [  0.00000000e+00]\n",
       " [  0.00000000e+00]\n",
       " [  0.00000000e+00]\n",
       " [  0.00000000e+00]\n",
       " [  0.00000000e+00]\n",
       " [  0.00000000e+00]\n",
       " [  0.00000000e+00]\n",
       " [  0.00000000e+00]\n",
       " [  0.00000000e+00]\n",
       " [  0.00000000e+00]\n",
       " [  0.00000000e+00]\n",
       " [  0.00000000e+00]\n",
       " [  0.00000000e+00]\n",
       " [  0.00000000e+00]\n",
       " [  0.00000000e+00]\n",
       " [  0.00000000e+00]\n",
       " [  0.00000000e+00]\n",
       " [  0.00000000e+00]\n",
       " [  0.00000000e+00]\n",
       " [  0.00000000e+00]\n",
       " [  0.00000000e+00]\n",
       " [  0.00000000e+00]\n",
       " [  0.00000000e+00]\n",
       " [  0.00000000e+00]\n",
       " [  0.00000000e+00]\n",
       " [  0.00000000e+00]]"
      ]
     },
     "execution_count": 17,
     "metadata": {},
     "output_type": "execute_result"
    }
   ],
   "source": [
    "# a coherent state\n",
    "coh = coherent(N=100, alpha=1)\n",
    "coh"
   ]
  },
  {
   "cell_type": "code",
   "execution_count": 18,
   "metadata": {
    "collapsed": false
   },
   "outputs": [
    {
     "data": {
      "text/latex": [
       "\\begin{equation}\\text{Quantum object: dims = [[100], [100]], shape = [100, 100], type = oper, isHerm = False}\\\\[1em]\\begin{pmatrix}0.0 & 1.0 & 0.0 & 0.0 & 0.0 & \\cdots & 0.0 & 0.0 & 0.0 & 0.0 & 0.0\\\\0.0 & 0.0 & 1.41421356237 & 0.0 & 0.0 & \\cdots & 0.0 & 0.0 & 0.0 & 0.0 & 0.0\\\\0.0 & 0.0 & 0.0 & 1.73205080757 & 0.0 & \\cdots & 0.0 & 0.0 & 0.0 & 0.0 & 0.0\\\\0.0 & 0.0 & 0.0 & 0.0 & 2.0 & \\cdots & 0.0 & 0.0 & 0.0 & 0.0 & 0.0\\\\0.0 & 0.0 & 0.0 & 0.0 & 0.0 & \\cdots & 0.0 & 0.0 & 0.0 & 0.0 & 0.0\\\\\\vdots & \\vdots & \\vdots & \\vdots & \\vdots & \\ddots & \\vdots & \\vdots & \\vdots & \\vdots & \\vdots\\\\0.0 & 0.0 & 0.0 & 0.0 & 0.0 & \\cdots & 0.0 & 9.79795897113 & 0.0 & 0.0 & 0.0\\\\0.0 & 0.0 & 0.0 & 0.0 & 0.0 & \\cdots & 0.0 & 0.0 & 9.8488578018 & 0.0 & 0.0\\\\0.0 & 0.0 & 0.0 & 0.0 & 0.0 & \\cdots & 0.0 & 0.0 & 0.0 & 9.89949493661 & 0.0\\\\0.0 & 0.0 & 0.0 & 0.0 & 0.0 & \\cdots & 0.0 & 0.0 & 0.0 & 0.0 & 9.94987437107\\\\0.0 & 0.0 & 0.0 & 0.0 & 0.0 & \\cdots & 0.0 & 0.0 & 0.0 & 0.0 & 0.0\\\\\\end{pmatrix}\\end{equation}"
      ],
      "text/plain": [
       "Quantum object: dims = [[100], [100]], shape = [100, 100], type = oper, isherm = False\n",
       "Qobj data =\n",
       "[[ 0.          1.          0.         ...,  0.          0.          0.        ]\n",
       " [ 0.          0.          1.41421356 ...,  0.          0.          0.        ]\n",
       " [ 0.          0.          0.         ...,  0.          0.          0.        ]\n",
       " ..., \n",
       " [ 0.          0.          0.         ...,  0.          9.89949494  0.        ]\n",
       " [ 0.          0.          0.         ...,  0.          0.          9.94987437]\n",
       " [ 0.          0.          0.         ...,  0.          0.          0.        ]]"
      ]
     },
     "execution_count": 18,
     "metadata": {},
     "output_type": "execute_result"
    }
   ],
   "source": [
    "a = destroy(100)\n",
    "a \n"
   ]
  },
  {
   "cell_type": "code",
   "execution_count": 19,
   "metadata": {
    "collapsed": false
   },
   "outputs": [
    {
     "data": {
      "text/latex": [
       "\\begin{equation}\\text{Quantum object: dims = [[100], [100]], shape = [100, 100], type = oper, isHerm = False}\\\\[1em]\\begin{pmatrix}0.0 & 0.0 & 0.0 & 0.0 & 0.0 & \\cdots & 0.0 & 0.0 & 0.0 & 0.0 & 0.0\\\\1.0 & 0.0 & 0.0 & 0.0 & 0.0 & \\cdots & 0.0 & 0.0 & 0.0 & 0.0 & 0.0\\\\0.0 & 1.41421356237 & 0.0 & 0.0 & 0.0 & \\cdots & 0.0 & 0.0 & 0.0 & 0.0 & 0.0\\\\0.0 & 0.0 & 1.73205080757 & 0.0 & 0.0 & \\cdots & 0.0 & 0.0 & 0.0 & 0.0 & 0.0\\\\0.0 & 0.0 & 0.0 & 2.0 & 0.0 & \\cdots & 0.0 & 0.0 & 0.0 & 0.0 & 0.0\\\\\\vdots & \\vdots & \\vdots & \\vdots & \\vdots & \\ddots & \\vdots & \\vdots & \\vdots & \\vdots & \\vdots\\\\0.0 & 0.0 & 0.0 & 0.0 & 0.0 & \\cdots & 0.0 & 0.0 & 0.0 & 0.0 & 0.0\\\\0.0 & 0.0 & 0.0 & 0.0 & 0.0 & \\cdots & 9.79795897113 & 0.0 & 0.0 & 0.0 & 0.0\\\\0.0 & 0.0 & 0.0 & 0.0 & 0.0 & \\cdots & 0.0 & 9.8488578018 & 0.0 & 0.0 & 0.0\\\\0.0 & 0.0 & 0.0 & 0.0 & 0.0 & \\cdots & 0.0 & 0.0 & 9.89949493661 & 0.0 & 0.0\\\\0.0 & 0.0 & 0.0 & 0.0 & 0.0 & \\cdots & 0.0 & 0.0 & 0.0 & 9.94987437107 & 0.0\\\\\\end{pmatrix}\\end{equation}"
      ],
      "text/plain": [
       "Quantum object: dims = [[100], [100]], shape = [100, 100], type = oper, isherm = False\n",
       "Qobj data =\n",
       "[[ 0.          0.          0.         ...,  0.          0.          0.        ]\n",
       " [ 1.          0.          0.         ...,  0.          0.          0.        ]\n",
       " [ 0.          1.41421356  0.         ...,  0.          0.          0.        ]\n",
       " ..., \n",
       " [ 0.          0.          0.         ...,  0.          0.          0.        ]\n",
       " [ 0.          0.          0.         ...,  9.89949494  0.          0.        ]\n",
       " [ 0.          0.          0.         ...,  0.          9.94987437  0.        ]]"
      ]
     },
     "execution_count": 19,
     "metadata": {},
     "output_type": "execute_result"
    }
   ],
   "source": [
    "create = a.dag()\n",
    "create"
   ]
  },
  {
   "cell_type": "code",
   "execution_count": 20,
   "metadata": {
    "collapsed": false
   },
   "outputs": [
    {
     "data": {
      "text/latex": [
       "\\begin{equation}\\text{Quantum object: dims = [[100], [1]], shape = [100, 1], type = ket}\\\\[1em]\\begin{pmatrix}0.606530659713\\\\0.606530659713\\\\0.42888194248\\\\0.247615104942\\\\0.123807552471\\\\0.0553684206905\\\\0.0226040630926\\\\0.00854353279466\\\\0.0030205949872\\\\0.00100686499573\\\\0.000318398668281\\\\9.60008105851e-05\\\\2.77130469169e-05\\\\7.68621628139e-06\\\\2.05422770897e-06\\\\5.30399313745e-07\\\\1.32599828436e-07\\\\3.21601822695e-08\\\\7.58022765565e-09\\\\1.73902349053e-09\\\\3.88857473929e-10\\\\8.48556575632e-11\\\\1.80912869793e-11\\\\3.77229410403e-12\\\\0.0\\\\0.0\\\\0.0\\\\0.0\\\\0.0\\\\0.0\\\\0.0\\\\0.0\\\\0.0\\\\0.0\\\\0.0\\\\0.0\\\\0.0\\\\0.0\\\\0.0\\\\0.0\\\\0.0\\\\0.0\\\\0.0\\\\0.0\\\\0.0\\\\0.0\\\\0.0\\\\0.0\\\\0.0\\\\0.0\\\\0.0\\\\0.0\\\\0.0\\\\0.0\\\\0.0\\\\0.0\\\\0.0\\\\0.0\\\\0.0\\\\0.0\\\\0.0\\\\0.0\\\\0.0\\\\0.0\\\\0.0\\\\0.0\\\\0.0\\\\0.0\\\\0.0\\\\0.0\\\\0.0\\\\0.0\\\\0.0\\\\0.0\\\\0.0\\\\0.0\\\\0.0\\\\0.0\\\\0.0\\\\0.0\\\\0.0\\\\0.0\\\\0.0\\\\0.0\\\\0.0\\\\0.0\\\\0.0\\\\0.0\\\\0.0\\\\0.0\\\\0.0\\\\0.0\\\\0.0\\\\0.0\\\\0.0\\\\0.0\\\\0.0\\\\0.0\\\\0.0\\\\0.0\\\\\\end{pmatrix}\\end{equation}"
      ],
      "text/plain": [
       "Quantum object: dims = [[100], [1]], shape = [100, 1], type = ket\n",
       "Qobj data =\n",
       "[[  6.06530660e-01]\n",
       " [  6.06530660e-01]\n",
       " [  4.28881942e-01]\n",
       " [  2.47615105e-01]\n",
       " [  1.23807552e-01]\n",
       " [  5.53684207e-02]\n",
       " [  2.26040631e-02]\n",
       " [  8.54353279e-03]\n",
       " [  3.02059499e-03]\n",
       " [  1.00686500e-03]\n",
       " [  3.18398668e-04]\n",
       " [  9.60008106e-05]\n",
       " [  2.77130469e-05]\n",
       " [  7.68621628e-06]\n",
       " [  2.05422771e-06]\n",
       " [  5.30399314e-07]\n",
       " [  1.32599828e-07]\n",
       " [  3.21601823e-08]\n",
       " [  7.58022766e-09]\n",
       " [  1.73902349e-09]\n",
       " [  3.88857474e-10]\n",
       " [  8.48556576e-11]\n",
       " [  1.80912870e-11]\n",
       " [  3.77229410e-12]\n",
       " [  0.00000000e+00]\n",
       " [  0.00000000e+00]\n",
       " [  0.00000000e+00]\n",
       " [  0.00000000e+00]\n",
       " [  0.00000000e+00]\n",
       " [  0.00000000e+00]\n",
       " [  0.00000000e+00]\n",
       " [  0.00000000e+00]\n",
       " [  0.00000000e+00]\n",
       " [  0.00000000e+00]\n",
       " [  0.00000000e+00]\n",
       " [  0.00000000e+00]\n",
       " [  0.00000000e+00]\n",
       " [  0.00000000e+00]\n",
       " [  0.00000000e+00]\n",
       " [  0.00000000e+00]\n",
       " [  0.00000000e+00]\n",
       " [  0.00000000e+00]\n",
       " [  0.00000000e+00]\n",
       " [  0.00000000e+00]\n",
       " [  0.00000000e+00]\n",
       " [  0.00000000e+00]\n",
       " [  0.00000000e+00]\n",
       " [  0.00000000e+00]\n",
       " [  0.00000000e+00]\n",
       " [  0.00000000e+00]\n",
       " [  0.00000000e+00]\n",
       " [  0.00000000e+00]\n",
       " [  0.00000000e+00]\n",
       " [  0.00000000e+00]\n",
       " [  0.00000000e+00]\n",
       " [  0.00000000e+00]\n",
       " [  0.00000000e+00]\n",
       " [  0.00000000e+00]\n",
       " [  0.00000000e+00]\n",
       " [  0.00000000e+00]\n",
       " [  0.00000000e+00]\n",
       " [  0.00000000e+00]\n",
       " [  0.00000000e+00]\n",
       " [  0.00000000e+00]\n",
       " [  0.00000000e+00]\n",
       " [  0.00000000e+00]\n",
       " [  0.00000000e+00]\n",
       " [  0.00000000e+00]\n",
       " [  0.00000000e+00]\n",
       " [  0.00000000e+00]\n",
       " [  0.00000000e+00]\n",
       " [  0.00000000e+00]\n",
       " [  0.00000000e+00]\n",
       " [  0.00000000e+00]\n",
       " [  0.00000000e+00]\n",
       " [  0.00000000e+00]\n",
       " [  0.00000000e+00]\n",
       " [  0.00000000e+00]\n",
       " [  0.00000000e+00]\n",
       " [  0.00000000e+00]\n",
       " [  0.00000000e+00]\n",
       " [  0.00000000e+00]\n",
       " [  0.00000000e+00]\n",
       " [  0.00000000e+00]\n",
       " [  0.00000000e+00]\n",
       " [  0.00000000e+00]\n",
       " [  0.00000000e+00]\n",
       " [  0.00000000e+00]\n",
       " [  0.00000000e+00]\n",
       " [  0.00000000e+00]\n",
       " [  0.00000000e+00]\n",
       " [  0.00000000e+00]\n",
       " [  0.00000000e+00]\n",
       " [  0.00000000e+00]\n",
       " [  0.00000000e+00]\n",
       " [  0.00000000e+00]\n",
       " [  0.00000000e+00]\n",
       " [  0.00000000e+00]\n",
       " [  0.00000000e+00]\n",
       " [  0.00000000e+00]]"
      ]
     },
     "execution_count": 20,
     "metadata": {},
     "output_type": "execute_result"
    }
   ],
   "source": [
    "a * coh"
   ]
  },
  {
   "cell_type": "code",
   "execution_count": 21,
   "metadata": {
    "collapsed": false
   },
   "outputs": [
    {
     "data": {
      "text/latex": [
       "\\begin{equation}\\text{Quantum object: dims = [[100], [1]], shape = [100, 1], type = ket}\\\\[1em]\\begin{pmatrix}0.0\\\\0.606530659713\\\\0.857763884961\\\\0.742845314825\\\\0.495230209883\\\\0.276842103453\\\\0.135624378556\\\\0.0598047295626\\\\0.0241647598976\\\\0.00906178496159\\\\0.00318398668281\\\\0.00105600891644\\\\0.000332556563002\\\\9.99208116581e-05\\\\2.87591879256e-05\\\\7.95598970617e-06\\\\2.12159725498e-06\\\\5.46723098581e-07\\\\1.36444097802e-07\\\\3.304144632e-08\\\\7.77714947857e-09\\\\1.78196880883e-09\\\\3.98008313545e-10\\\\8.67627643926e-11\\\\1.84803914292e-11\\\\3.85008154774e-12\\\\0.0\\\\0.0\\\\0.0\\\\0.0\\\\0.0\\\\0.0\\\\0.0\\\\0.0\\\\0.0\\\\0.0\\\\0.0\\\\0.0\\\\0.0\\\\0.0\\\\0.0\\\\0.0\\\\0.0\\\\0.0\\\\0.0\\\\0.0\\\\0.0\\\\0.0\\\\0.0\\\\0.0\\\\0.0\\\\0.0\\\\0.0\\\\0.0\\\\0.0\\\\0.0\\\\0.0\\\\0.0\\\\0.0\\\\0.0\\\\0.0\\\\0.0\\\\0.0\\\\0.0\\\\0.0\\\\0.0\\\\0.0\\\\0.0\\\\0.0\\\\0.0\\\\0.0\\\\0.0\\\\0.0\\\\0.0\\\\0.0\\\\0.0\\\\0.0\\\\0.0\\\\0.0\\\\0.0\\\\0.0\\\\0.0\\\\0.0\\\\0.0\\\\0.0\\\\0.0\\\\0.0\\\\0.0\\\\0.0\\\\0.0\\\\0.0\\\\0.0\\\\0.0\\\\0.0\\\\0.0\\\\0.0\\\\0.0\\\\0.0\\\\0.0\\\\0.0\\\\\\end{pmatrix}\\end{equation}"
      ],
      "text/plain": [
       "Quantum object: dims = [[100], [1]], shape = [100, 1], type = ket\n",
       "Qobj data =\n",
       "[[  0.00000000e+00]\n",
       " [  6.06530660e-01]\n",
       " [  8.57763885e-01]\n",
       " [  7.42845315e-01]\n",
       " [  4.95230210e-01]\n",
       " [  2.76842103e-01]\n",
       " [  1.35624379e-01]\n",
       " [  5.98047296e-02]\n",
       " [  2.41647599e-02]\n",
       " [  9.06178496e-03]\n",
       " [  3.18398668e-03]\n",
       " [  1.05600892e-03]\n",
       " [  3.32556563e-04]\n",
       " [  9.99208117e-05]\n",
       " [  2.87591879e-05]\n",
       " [  7.95598971e-06]\n",
       " [  2.12159725e-06]\n",
       " [  5.46723099e-07]\n",
       " [  1.36444098e-07]\n",
       " [  3.30414463e-08]\n",
       " [  7.77714948e-09]\n",
       " [  1.78196881e-09]\n",
       " [  3.98008314e-10]\n",
       " [  8.67627644e-11]\n",
       " [  1.84803914e-11]\n",
       " [  3.85008155e-12]\n",
       " [  0.00000000e+00]\n",
       " [  0.00000000e+00]\n",
       " [  0.00000000e+00]\n",
       " [  0.00000000e+00]\n",
       " [  0.00000000e+00]\n",
       " [  0.00000000e+00]\n",
       " [  0.00000000e+00]\n",
       " [  0.00000000e+00]\n",
       " [  0.00000000e+00]\n",
       " [  0.00000000e+00]\n",
       " [  0.00000000e+00]\n",
       " [  0.00000000e+00]\n",
       " [  0.00000000e+00]\n",
       " [  0.00000000e+00]\n",
       " [  0.00000000e+00]\n",
       " [  0.00000000e+00]\n",
       " [  0.00000000e+00]\n",
       " [  0.00000000e+00]\n",
       " [  0.00000000e+00]\n",
       " [  0.00000000e+00]\n",
       " [  0.00000000e+00]\n",
       " [  0.00000000e+00]\n",
       " [  0.00000000e+00]\n",
       " [  0.00000000e+00]\n",
       " [  0.00000000e+00]\n",
       " [  0.00000000e+00]\n",
       " [  0.00000000e+00]\n",
       " [  0.00000000e+00]\n",
       " [  0.00000000e+00]\n",
       " [  0.00000000e+00]\n",
       " [  0.00000000e+00]\n",
       " [  0.00000000e+00]\n",
       " [  0.00000000e+00]\n",
       " [  0.00000000e+00]\n",
       " [  0.00000000e+00]\n",
       " [  0.00000000e+00]\n",
       " [  0.00000000e+00]\n",
       " [  0.00000000e+00]\n",
       " [  0.00000000e+00]\n",
       " [  0.00000000e+00]\n",
       " [  0.00000000e+00]\n",
       " [  0.00000000e+00]\n",
       " [  0.00000000e+00]\n",
       " [  0.00000000e+00]\n",
       " [  0.00000000e+00]\n",
       " [  0.00000000e+00]\n",
       " [  0.00000000e+00]\n",
       " [  0.00000000e+00]\n",
       " [  0.00000000e+00]\n",
       " [  0.00000000e+00]\n",
       " [  0.00000000e+00]\n",
       " [  0.00000000e+00]\n",
       " [  0.00000000e+00]\n",
       " [  0.00000000e+00]\n",
       " [  0.00000000e+00]\n",
       " [  0.00000000e+00]\n",
       " [  0.00000000e+00]\n",
       " [  0.00000000e+00]\n",
       " [  0.00000000e+00]\n",
       " [  0.00000000e+00]\n",
       " [  0.00000000e+00]\n",
       " [  0.00000000e+00]\n",
       " [  0.00000000e+00]\n",
       " [  0.00000000e+00]\n",
       " [  0.00000000e+00]\n",
       " [  0.00000000e+00]\n",
       " [  0.00000000e+00]\n",
       " [  0.00000000e+00]\n",
       " [  0.00000000e+00]\n",
       " [  0.00000000e+00]\n",
       " [  0.00000000e+00]\n",
       " [  0.00000000e+00]\n",
       " [  0.00000000e+00]\n",
       " [  0.00000000e+00]]"
      ]
     },
     "execution_count": 21,
     "metadata": {},
     "output_type": "execute_result"
    }
   ],
   "source": [
    "create * coh"
   ]
  },
  {
   "cell_type": "code",
   "execution_count": 22,
   "metadata": {
    "collapsed": false
   },
   "outputs": [
    {
     "data": {
      "text/latex": [
       "\\begin{equation}\\text{Quantum object: dims = [[2], [2]], shape = [2, 2], type = oper, isHerm = True}\\\\[1em]\\begin{pmatrix}0.0 & 1.0\\\\1.0 & 0.0\\\\\\end{pmatrix}\\end{equation}"
      ],
      "text/plain": [
       "Quantum object: dims = [[2], [2]], shape = [2, 2], type = oper, isherm = True\n",
       "Qobj data =\n",
       "[[ 0.  1.]\n",
       " [ 1.  0.]]"
      ]
     },
     "execution_count": 22,
     "metadata": {},
     "output_type": "execute_result"
    }
   ],
   "source": [
    "# Pauli sigma x\n",
    "sigmax()"
   ]
  },
  {
   "cell_type": "code",
   "execution_count": 23,
   "metadata": {
    "collapsed": false
   },
   "outputs": [
    {
     "data": {
      "text/latex": [
       "\\begin{equation}\\text{Quantum object: dims = [[2], [2]], shape = [2, 2], type = oper, isHerm = True}\\\\[1em]\\begin{pmatrix}0.0 & -1j\\\\1j & 0.0\\\\\\end{pmatrix}\\end{equation}"
      ],
      "text/plain": [
       "Quantum object: dims = [[2], [2]], shape = [2, 2], type = oper, isherm = True\n",
       "Qobj data =\n",
       "[[ 0.+0.j  0.-1.j]\n",
       " [ 0.+1.j  0.+0.j]]"
      ]
     },
     "execution_count": 23,
     "metadata": {},
     "output_type": "execute_result"
    }
   ],
   "source": [
    "# Pauli sigma y\n",
    "sigmay()"
   ]
  },
  {
   "cell_type": "code",
   "execution_count": 24,
   "metadata": {
    "collapsed": false
   },
   "outputs": [
    {
     "data": {
      "text/latex": [
       "\\begin{equation}\\text{Quantum object: dims = [[2], [2]], shape = [2, 2], type = oper, isHerm = True}\\\\[1em]\\begin{pmatrix}1.0 & 0.0\\\\0.0 & -1.0\\\\\\end{pmatrix}\\end{equation}"
      ],
      "text/plain": [
       "Quantum object: dims = [[2], [2]], shape = [2, 2], type = oper, isherm = True\n",
       "Qobj data =\n",
       "[[ 1.  0.]\n",
       " [ 0. -1.]]"
      ]
     },
     "execution_count": 24,
     "metadata": {},
     "output_type": "execute_result"
    }
   ],
   "source": [
    "# Pauli sigma z\n",
    "sigmaz()"
   ]
  },
  {
   "cell_type": "code",
   "execution_count": 25,
   "metadata": {
    "collapsed": false
   },
   "outputs": [
    {
     "data": {
      "text/latex": [
       "\\begin{equation}\\text{Quantum object: dims = [[5], [5]], shape = [5, 5], type = oper, isHerm = False}\\\\[1em]\\begin{pmatrix}0.0 & 1.0 & 0.0 & 0.0 & 0.0\\\\0.0 & 0.0 & 1.41421356237 & 0.0 & 0.0\\\\0.0 & 0.0 & 0.0 & 1.73205080757 & 0.0\\\\0.0 & 0.0 & 0.0 & 0.0 & 2.0\\\\0.0 & 0.0 & 0.0 & 0.0 & 0.0\\\\\\end{pmatrix}\\end{equation}"
      ],
      "text/plain": [
       "Quantum object: dims = [[5], [5]], shape = [5, 5], type = oper, isherm = False\n",
       "Qobj data =\n",
       "[[ 0.          1.          0.          0.          0.        ]\n",
       " [ 0.          0.          1.41421356  0.          0.        ]\n",
       " [ 0.          0.          0.          1.73205081  0.        ]\n",
       " [ 0.          0.          0.          0.          2.        ]\n",
       " [ 0.          0.          0.          0.          0.        ]]"
      ]
     },
     "execution_count": 25,
     "metadata": {},
     "output_type": "execute_result"
    }
   ],
   "source": [
    "#  annihilation operator\n",
    "\n",
    "ann = destroy(N=5) # N = number of fock states included in the Hilbert space\n",
    "ann"
   ]
  },
  {
   "cell_type": "code",
   "execution_count": 26,
   "metadata": {
    "collapsed": false
   },
   "outputs": [],
   "source": [
    "def commutator(op1, op2):\n",
    "    return op1 * op2 - op2 * op1"
   ]
  },
  {
   "cell_type": "code",
   "execution_count": 27,
   "metadata": {
    "collapsed": false
   },
   "outputs": [
    {
     "data": {
      "text/latex": [
       "\\begin{equation}\\text{Quantum object: dims = [[5], [5]], shape = [5, 5], type = oper, isHerm = True}\\\\[1em]\\begin{pmatrix}1.0 & 0.0 & 0.0 & 0.0 & 0.0\\\\0.0 & 1.0 & 0.0 & 0.0 & 0.0\\\\0.0 & 0.0 & 1.0 & 0.0 & 0.0\\\\0.0 & 0.0 & 0.0 & 1.0 & 0.0\\\\0.0 & 0.0 & 0.0 & 0.0 & -4.0\\\\\\end{pmatrix}\\end{equation}"
      ],
      "text/plain": [
       "Quantum object: dims = [[5], [5]], shape = [5, 5], type = oper, isherm = True\n",
       "Qobj data =\n",
       "[[ 1.  0.  0.  0.  0.]\n",
       " [ 0.  1.  0.  0.  0.]\n",
       " [ 0.  0.  1.  0.  0.]\n",
       " [ 0.  0.  0.  1.  0.]\n",
       " [ 0.  0.  0.  0. -4.]]"
      ]
     },
     "execution_count": 27,
     "metadata": {},
     "output_type": "execute_result"
    }
   ],
   "source": [
    "a = destroy(5)\n",
    "\n",
    "commutator(a, a.dag())"
   ]
  },
  {
   "cell_type": "code",
   "execution_count": 28,
   "metadata": {
    "collapsed": false
   },
   "outputs": [],
   "source": [
    "x =       (a + a.dag())/np.sqrt(2)\n",
    "p = -1j * (a - a.dag())/np.sqrt(2)"
   ]
  },
  {
   "cell_type": "code",
   "execution_count": 29,
   "metadata": {
    "collapsed": false
   },
   "outputs": [
    {
     "data": {
      "text/latex": [
       "\\begin{equation}\\text{Quantum object: dims = [[5], [5]], shape = [5, 5], type = oper, isHerm = False}\\\\[1em]\\begin{pmatrix}1j & 0.0 & 0.0 & 0.0 & 0.0\\\\0.0 & 1j & 0.0 & 0.0 & 0.0\\\\0.0 & 0.0 & 1j & 0.0 & 0.0\\\\0.0 & 0.0 & 0.0 & 1j & 0.0\\\\0.0 & 0.0 & 0.0 & 0.0 & -4j\\\\\\end{pmatrix}\\end{equation}"
      ],
      "text/plain": [
       "Quantum object: dims = [[5], [5]], shape = [5, 5], type = oper, isherm = False\n",
       "Qobj data =\n",
       "[[ 0.+1.j  0.+0.j  0.+0.j  0.+0.j  0.+0.j]\n",
       " [ 0.+0.j  0.+1.j  0.+0.j  0.+0.j  0.+0.j]\n",
       " [ 0.+0.j  0.+0.j  0.+1.j  0.+0.j  0.+0.j]\n",
       " [ 0.+0.j  0.+0.j  0.+0.j  0.+1.j  0.+0.j]\n",
       " [ 0.+0.j  0.+0.j  0.+0.j  0.+0.j  0.-4.j]]"
      ]
     },
     "execution_count": 29,
     "metadata": {},
     "output_type": "execute_result"
    }
   ],
   "source": [
    "commutator(x, p)"
   ]
  },
  {
   "cell_type": "code",
   "execution_count": 30,
   "metadata": {
    "collapsed": false
   },
   "outputs": [
    {
     "data": {
      "text/latex": [
       "\\begin{equation}\\text{Quantum object: dims = [[2], [2]], shape = [2, 2], type = oper, isHerm = False}\\\\[1em]\\begin{pmatrix}2j & 0.0\\\\0.0 & -2j\\\\\\end{pmatrix}\\end{equation}"
      ],
      "text/plain": [
       "Quantum object: dims = [[2], [2]], shape = [2, 2], type = oper, isherm = False\n",
       "Qobj data =\n",
       "[[ 0.+2.j  0.+0.j]\n",
       " [ 0.+0.j  0.-2.j]]"
      ]
     },
     "execution_count": 30,
     "metadata": {},
     "output_type": "execute_result"
    }
   ],
   "source": [
    "commutator(sigmax(), sigmay())"
   ]
  },
  {
   "cell_type": "code",
   "execution_count": 31,
   "metadata": {
    "collapsed": false
   },
   "outputs": [
    {
     "data": {
      "text/latex": [
       "\\begin{equation}\\text{Quantum object: dims = [[2, 2], [2, 2]], shape = [4, 4], type = oper, isHerm = True}\\\\[1em]\\begin{pmatrix}1.0 & 0.0 & 0.0 & 0.0\\\\0.0 & 1.0 & 0.0 & 0.0\\\\0.0 & 0.0 & -1.0 & 0.0\\\\0.0 & 0.0 & 0.0 & -1.0\\\\\\end{pmatrix}\\end{equation}"
      ],
      "text/plain": [
       "Quantum object: dims = [[2, 2], [2, 2]], shape = [4, 4], type = oper, isherm = True\n",
       "Qobj data =\n",
       "[[ 1.  0.  0.  0.]\n",
       " [ 0.  1.  0.  0.]\n",
       " [ 0.  0. -1.  0.]\n",
       " [ 0.  0.  0. -1.]]"
      ]
     },
     "execution_count": 31,
     "metadata": {},
     "output_type": "execute_result"
    }
   ],
   "source": [
    "\n",
    "\n",
    "sz1 = tensor(sigmaz(), qeye(2))\n",
    "\n",
    "sz1"
   ]
  },
  {
   "cell_type": "code",
   "execution_count": 32,
   "metadata": {
    "collapsed": false
   },
   "outputs": [
    {
     "data": {
      "text/latex": [
       "\\begin{equation}\\text{Quantum object: dims = [[2, 2], [2, 2]], shape = [4, 4], type = oper, isHerm = True}\\\\[1em]\\begin{pmatrix}1.0 & 0.0 & 0.0 & 0.0\\\\0.0 & -1.0 & 0.0 & 0.0\\\\0.0 & 0.0 & 1.0 & 0.0\\\\0.0 & 0.0 & 0.0 & -1.0\\\\\\end{pmatrix}\\end{equation}"
      ],
      "text/plain": [
       "Quantum object: dims = [[2, 2], [2, 2]], shape = [4, 4], type = oper, isherm = True\n",
       "Qobj data =\n",
       "[[ 1.  0.  0.  0.]\n",
       " [ 0. -1.  0.  0.]\n",
       " [ 0.  0.  1.  0.]\n",
       " [ 0.  0.  0. -1.]]"
      ]
     },
     "execution_count": 32,
     "metadata": {},
     "output_type": "execute_result"
    }
   ],
   "source": [
    "sz2 = tensor(qeye(2), sigmaz())\n",
    "\n",
    "sz2"
   ]
  },
  {
   "cell_type": "code",
   "execution_count": 33,
   "metadata": {
    "collapsed": false
   },
   "outputs": [
    {
     "data": {
      "text/latex": [
       "\\begin{equation}\\text{Quantum object: dims = [[2, 2], [1, 1]], shape = [4, 1], type = ket}\\\\[1em]\\begin{pmatrix}0.0\\\\0.0\\\\1.0\\\\0.0\\\\\\end{pmatrix}\\end{equation}"
      ],
      "text/plain": [
       "Quantum object: dims = [[2, 2], [1, 1]], shape = [4, 1], type = ket\n",
       "Qobj data =\n",
       "[[ 0.]\n",
       " [ 0.]\n",
       " [ 1.]\n",
       " [ 0.]]"
      ]
     },
     "execution_count": 33,
     "metadata": {},
     "output_type": "execute_result"
    }
   ],
   "source": [
    "psi1 = tensor(basis(2,1), basis(2,0)) # excited first qubit\n",
    "psi2 = tensor(basis(2,0), basis(2,1)) # excited second qubit\n",
    "psi1"
   ]
  },
  {
   "cell_type": "code",
   "execution_count": 34,
   "metadata": {
    "collapsed": false
   },
   "outputs": [
    {
     "data": {
      "text/latex": [
       "\\begin{equation}\\text{Quantum object: dims = [[2, 2], [2, 2]], shape = [4, 4], type = oper, isHerm = True}\\\\[1em]\\begin{pmatrix}0.0 & 0.0 & 0.0 & 1.0\\\\0.0 & 0.0 & 1.0 & 0.0\\\\0.0 & 1.0 & 0.0 & 0.0\\\\1.0 & 0.0 & 0.0 & 0.0\\\\\\end{pmatrix}\\end{equation}"
      ],
      "text/plain": [
       "Quantum object: dims = [[2, 2], [2, 2]], shape = [4, 4], type = oper, isherm = True\n",
       "Qobj data =\n",
       "[[ 0.  0.  0.  1.]\n",
       " [ 0.  0.  1.  0.]\n",
       " [ 0.  1.  0.  0.]\n",
       " [ 1.  0.  0.  0.]]"
      ]
     },
     "execution_count": 34,
     "metadata": {},
     "output_type": "execute_result"
    }
   ],
   "source": [
    "tensor(sigmax(), sigmax())"
   ]
  },
  {
   "cell_type": "markdown",
   "metadata": {},
   "source": [
    "# $H = \\epsilon_1\\sigma_z^{(1)} + \\epsilon_2\\sigma_z^{(2)} + g\\sigma_x^{(1)}\\otimes\\sigma_x^{(2)}$"
   ]
  },
  {
   "cell_type": "code",
   "execution_count": 35,
   "metadata": {
    "collapsed": false
   },
   "outputs": [
    {
     "data": {
      "text/latex": [
       "\\begin{equation}\\text{Quantum object: dims = [[2, 2], [2, 2]], shape = [4, 4], type = oper, isHerm = True}\\\\[1em]\\begin{pmatrix}2.25 & 0.0 & 0.0 & 0.05\\\\0.0 & 0.05 & 0.05 & 0.0\\\\0.0 & 0.05 & -0.05 & 0.0\\\\0.05 & 0.0 & 0.0 & -2.25\\\\\\end{pmatrix}\\end{equation}"
      ],
      "text/plain": [
       "Quantum object: dims = [[2, 2], [2, 2]], shape = [4, 4], type = oper, isherm = True\n",
       "Qobj data =\n",
       "[[ 2.25  0.    0.    0.05]\n",
       " [ 0.    0.05  0.05  0.  ]\n",
       " [ 0.    0.05 -0.05  0.  ]\n",
       " [ 0.05  0.    0.   -2.25]]"
      ]
     },
     "execution_count": 35,
     "metadata": {},
     "output_type": "execute_result"
    }
   ],
   "source": [
    "epsilon = [1.15, 1.1]\n",
    "g = .05\n",
    "\n",
    "sz1 = tensor(sigmaz(), qeye(2))\n",
    "sz2 = tensor(qeye(2), sigmaz())\n",
    "\n",
    "H = epsilon[0] * sz1 + epsilon[1] * sz2 + g * tensor(sigmax(), sigmax())\n",
    "\n",
    "H"
   ]
  },
  {
   "cell_type": "code",
   "execution_count": 36,
   "metadata": {
    "collapsed": false
   },
   "outputs": [
    {
     "data": {
      "text/plain": [
       "array([-2.25055549, -0.07071068,  0.07071068,  2.25055549])"
      ]
     },
     "execution_count": 36,
     "metadata": {},
     "output_type": "execute_result"
    }
   ],
   "source": [
    "H.eigenenergies()"
   ]
  },
  {
   "cell_type": "code",
   "execution_count": 37,
   "metadata": {
    "collapsed": false
   },
   "outputs": [
    {
     "data": {
      "text/plain": [
       "Odedata object with mesolve data.\n",
       "---------------------------------\n",
       "states = True\n",
       "num_collapse = 0"
      ]
     },
     "execution_count": 37,
     "metadata": {},
     "output_type": "execute_result"
    }
   ],
   "source": [
    "tlist = np.linspace(0, 100, 100)\n",
    "\n",
    "result = mesolve(H, psi1, tlist, [], [])\n",
    "result"
   ]
  },
  {
   "cell_type": "code",
   "execution_count": 38,
   "metadata": {
    "collapsed": false
   },
   "outputs": [
    {
     "data": {
      "text/plain": [
       "-0.497534307970121"
      ]
     },
     "execution_count": 38,
     "metadata": {},
     "output_type": "execute_result"
    }
   ],
   "source": [
    "expect(sz1, result.states[-1])"
   ]
  },
  {
   "cell_type": "code",
   "execution_count": 39,
   "metadata": {
    "collapsed": false
   },
   "outputs": [
    {
     "data": {
      "text/plain": [
       "array([  1.00000000e+00,   9.94907151e-01,   9.79732360e-01,\n",
       "         9.54784766e-01,   9.20572596e-01,   8.77792807e-01,\n",
       "         8.27316890e-01,   7.70173112e-01,   7.07525572e-01,\n",
       "         6.40650486e-01,   5.70910187e-01,   4.99725373e-01,\n",
       "         4.28546166e-01,   3.58822573e-01,   2.91974947e-01,\n",
       "         2.29365053e-01,   1.72268333e-01,   1.21847917e-01,\n",
       "         7.91309322e-02,   4.49875781e-02,   2.01133995e-02,\n",
       "         5.01511607e-03,   3.00162809e-07,   5.17111042e-03,\n",
       "         2.04222108e-02,   4.54429163e-02,   7.97235223e-02,\n",
       "         1.22565688e-01,   1.73096664e-01,   2.30287069e-01,\n",
       "         2.92971863e-01,   3.59874081e-01,   4.29630841e-01,\n",
       "         5.00821116e-01,   5.71994672e-01,   6.41701619e-01,\n",
       "         7.08521939e-01,   7.71094416e-01,   8.28144365e-01,\n",
       "         8.78509600e-01,   9.21164108e-01,   9.55238953e-01,\n",
       "         9.80039974e-01,   9.95061932e-01,   9.99998800e-01,\n",
       "         9.94749997e-01,   9.79422453e-01,   9.54328421e-01,\n",
       "         9.19979109e-01,   8.77074268e-01,   8.26487936e-01,\n",
       "         7.69250631e-01,   7.06528356e-01,   6.39598850e-01,\n",
       "         5.69825553e-01,   4.98629837e-01,   4.27462046e-01,\n",
       "         3.57771953e-01,   2.90979229e-01,   2.28444522e-01,\n",
       "         1.71441741e-01,   1.21132103e-01,   7.85404775e-02,\n",
       "         4.45345115e-02,   1.98069505e-02,   4.86152748e-03,\n",
       "         2.70079064e-06,   5.32945136e-03,   2.07332664e-02,\n",
       "         4.59003500e-02,   8.03180156e-02,   1.23285131e-01,\n",
       "         1.73926399e-01,   2.31210195e-01,   2.93969574e-01,\n",
       "         3.60926052e-01,   4.30715643e-01,   5.01916649e-01,\n",
       "         5.73078620e-01,   6.42751900e-01,   7.09517158e-01,\n",
       "         7.72014298e-01,   8.28970172e-01,   8.79224508e-01,\n",
       "         9.21753554e-01,   9.55690929e-01,   9.80345272e-01,\n",
       "         9.95214333e-01,   9.99995199e-01,   9.94590468e-01,\n",
       "         9.79110246e-01,   9.53869895e-01,   9.19383605e-01,\n",
       "         8.76353919e-01,   8.25657415e-01,   7.68326857e-01,\n",
       "         7.05530148e-01,   6.38546543e-01,   5.68740584e-01,\n",
       "         4.97534308e-01])"
      ]
     },
     "execution_count": 39,
     "metadata": {},
     "output_type": "execute_result"
    }
   ],
   "source": [
    "expect(sz2, result.states)"
   ]
  },
  {
   "cell_type": "code",
   "execution_count": 40,
   "metadata": {
    "collapsed": false
   },
   "outputs": [],
   "source": [
    "sx1 = tensor(sigmax(), qeye(2))\n",
    "sx2 = tensor(qeye(2), sigmax())\n",
    "\n",
    "sy1 = tensor(sigmay(), qeye(2))\n",
    "sy2 = tensor(qeye(2), sigmay())"
   ]
  },
  {
   "cell_type": "code",
   "execution_count": 41,
   "metadata": {
    "collapsed": false
   },
   "outputs": [
    {
     "data": {
      "text/plain": [
       "(array([ -1.00000000e+00+0.j,  -9.94907151e-01+0.j,  -9.79732360e-01+0.j,\n",
       "         -9.54784766e-01+0.j,  -9.20572596e-01+0.j,  -8.77792807e-01+0.j,\n",
       "         -8.27316890e-01+0.j,  -7.70173112e-01+0.j,  -7.07525572e-01+0.j,\n",
       "         -6.40650486e-01+0.j,  -5.70910187e-01+0.j,  -4.99725373e-01+0.j,\n",
       "         -4.28546166e-01+0.j,  -3.58822573e-01+0.j,  -2.91974947e-01+0.j,\n",
       "         -2.29365053e-01+0.j,  -1.72268333e-01+0.j,  -1.21847917e-01+0.j,\n",
       "         -7.91309322e-02+0.j,  -4.49875781e-02+0.j,  -2.01133995e-02+0.j,\n",
       "         -5.01511607e-03+0.j,  -3.00162809e-07+0.j,  -5.17111042e-03+0.j,\n",
       "         -2.04222108e-02+0.j,  -4.54429163e-02+0.j,  -7.97235223e-02+0.j,\n",
       "         -1.22565688e-01+0.j,  -1.73096664e-01+0.j,  -2.30287069e-01+0.j,\n",
       "         -2.92971863e-01+0.j,  -3.59874081e-01+0.j,  -4.29630841e-01+0.j,\n",
       "         -5.00821116e-01+0.j,  -5.71994672e-01+0.j,  -6.41701619e-01+0.j,\n",
       "         -7.08521939e-01+0.j,  -7.71094416e-01+0.j,  -8.28144365e-01+0.j,\n",
       "         -8.78509600e-01+0.j,  -9.21164108e-01+0.j,  -9.55238953e-01+0.j,\n",
       "         -9.80039974e-01+0.j,  -9.95061932e-01+0.j,  -9.99998800e-01+0.j,\n",
       "         -9.94749997e-01+0.j,  -9.79422453e-01+0.j,  -9.54328421e-01+0.j,\n",
       "         -9.19979109e-01+0.j,  -8.77074268e-01+0.j,  -8.26487936e-01+0.j,\n",
       "         -7.69250631e-01+0.j,  -7.06528356e-01+0.j,  -6.39598850e-01+0.j,\n",
       "         -5.69825553e-01+0.j,  -4.98629837e-01+0.j,  -4.27462046e-01+0.j,\n",
       "         -3.57771953e-01+0.j,  -2.90979229e-01+0.j,  -2.28444522e-01+0.j,\n",
       "         -1.71441741e-01+0.j,  -1.21132103e-01+0.j,  -7.85404775e-02+0.j,\n",
       "         -4.45345115e-02+0.j,  -1.98069505e-02+0.j,  -4.86152748e-03+0.j,\n",
       "         -2.70079064e-06+0.j,  -5.32945136e-03+0.j,  -2.07332664e-02+0.j,\n",
       "         -4.59003500e-02+0.j,  -8.03180156e-02+0.j,  -1.23285131e-01+0.j,\n",
       "         -1.73926399e-01+0.j,  -2.31210195e-01+0.j,  -2.93969574e-01+0.j,\n",
       "         -3.60926052e-01+0.j,  -4.30715643e-01+0.j,  -5.01916649e-01+0.j,\n",
       "         -5.73078620e-01+0.j,  -6.42751900e-01+0.j,  -7.09517158e-01+0.j,\n",
       "         -7.72014298e-01+0.j,  -8.28970172e-01+0.j,  -8.79224508e-01+0.j,\n",
       "         -9.21753554e-01+0.j,  -9.55690929e-01+0.j,  -9.80345272e-01+0.j,\n",
       "         -9.95214333e-01+0.j,  -9.99995199e-01+0.j,  -9.94590468e-01+0.j,\n",
       "         -9.79110246e-01+0.j,  -9.53869895e-01+0.j,  -9.19383605e-01+0.j,\n",
       "         -8.76353919e-01+0.j,  -8.25657415e-01+0.j,  -7.68326857e-01+0.j,\n",
       "         -7.05530148e-01+0.j,  -6.38546543e-01+0.j,  -5.68740584e-01+0.j,\n",
       "         -4.97534308e-01+0.j]),\n",
       " array([  1.00000000e+00+0.j,   9.94907151e-01+0.j,   9.79732360e-01+0.j,\n",
       "          9.54784766e-01+0.j,   9.20572596e-01+0.j,   8.77792807e-01+0.j,\n",
       "          8.27316890e-01+0.j,   7.70173112e-01+0.j,   7.07525572e-01+0.j,\n",
       "          6.40650486e-01+0.j,   5.70910187e-01+0.j,   4.99725373e-01+0.j,\n",
       "          4.28546166e-01+0.j,   3.58822573e-01+0.j,   2.91974947e-01+0.j,\n",
       "          2.29365053e-01+0.j,   1.72268333e-01+0.j,   1.21847917e-01+0.j,\n",
       "          7.91309322e-02+0.j,   4.49875781e-02+0.j,   2.01133995e-02+0.j,\n",
       "          5.01511607e-03+0.j,   3.00162809e-07+0.j,   5.17111042e-03+0.j,\n",
       "          2.04222108e-02+0.j,   4.54429163e-02+0.j,   7.97235223e-02+0.j,\n",
       "          1.22565688e-01+0.j,   1.73096664e-01+0.j,   2.30287069e-01+0.j,\n",
       "          2.92971863e-01+0.j,   3.59874081e-01+0.j,   4.29630841e-01+0.j,\n",
       "          5.00821116e-01+0.j,   5.71994672e-01+0.j,   6.41701619e-01+0.j,\n",
       "          7.08521939e-01+0.j,   7.71094416e-01+0.j,   8.28144365e-01+0.j,\n",
       "          8.78509600e-01+0.j,   9.21164108e-01+0.j,   9.55238953e-01+0.j,\n",
       "          9.80039974e-01+0.j,   9.95061932e-01+0.j,   9.99998800e-01+0.j,\n",
       "          9.94749997e-01+0.j,   9.79422453e-01+0.j,   9.54328421e-01+0.j,\n",
       "          9.19979109e-01+0.j,   8.77074268e-01+0.j,   8.26487936e-01+0.j,\n",
       "          7.69250631e-01+0.j,   7.06528356e-01+0.j,   6.39598850e-01+0.j,\n",
       "          5.69825553e-01+0.j,   4.98629837e-01+0.j,   4.27462046e-01+0.j,\n",
       "          3.57771953e-01+0.j,   2.90979229e-01+0.j,   2.28444522e-01+0.j,\n",
       "          1.71441741e-01+0.j,   1.21132103e-01+0.j,   7.85404775e-02+0.j,\n",
       "          4.45345115e-02+0.j,   1.98069505e-02+0.j,   4.86152748e-03+0.j,\n",
       "          2.70079064e-06+0.j,   5.32945136e-03+0.j,   2.07332664e-02+0.j,\n",
       "          4.59003500e-02+0.j,   8.03180156e-02+0.j,   1.23285131e-01+0.j,\n",
       "          1.73926399e-01+0.j,   2.31210195e-01+0.j,   2.93969574e-01+0.j,\n",
       "          3.60926052e-01+0.j,   4.30715643e-01+0.j,   5.01916649e-01+0.j,\n",
       "          5.73078620e-01+0.j,   6.42751900e-01+0.j,   7.09517158e-01+0.j,\n",
       "          7.72014298e-01+0.j,   8.28970172e-01+0.j,   8.79224508e-01+0.j,\n",
       "          9.21753554e-01+0.j,   9.55690929e-01+0.j,   9.80345272e-01+0.j,\n",
       "          9.95214333e-01+0.j,   9.99995199e-01+0.j,   9.94590468e-01+0.j,\n",
       "          9.79110246e-01+0.j,   9.53869895e-01+0.j,   9.19383605e-01+0.j,\n",
       "          8.76353919e-01+0.j,   8.25657415e-01+0.j,   7.68326857e-01+0.j,\n",
       "          7.05530148e-01+0.j,   6.38546543e-01+0.j,   5.68740584e-01+0.j,\n",
       "          4.97534308e-01+0.j]))"
      ]
     },
     "execution_count": 41,
     "metadata": {},
     "output_type": "execute_result"
    }
   ],
   "source": [
    "psi1 = tensor(basis(2,1), basis(2,0)) # excited first qubit\n",
    "psi2 = tensor(basis(2,0), basis(2,1)) # excited second qubit\n",
    "result = mesolve(H, psi1, tlist, [], [sz1,sz2])\n",
    "result.expect[0], result.expect[1]"
   ]
  },
  {
   "cell_type": "code",
   "execution_count": 42,
   "metadata": {
    "collapsed": false
   },
   "outputs": [
    {
     "name": "stderr",
     "output_type": "stream",
     "text": [
      "/home/qsimexpcontrol/.virtualenvs/labrad/local/lib/python2.7/site-packages/numpy/core/numeric.py:482: ComplexWarning: Casting complex values to real discards the imaginary part\n",
      "  return array(a, dtype, copy=False, order=order)\n"
     ]
    },
    {
     "data": {
      "image/png": "[encoded data removed]",
      "text/plain": [
       "<matplotlib.figure.Figure at 0x7fbf404384d0>"
      ]
     },
     "metadata": {},
     "output_type": "display_data"
    }
   ],
   "source": [
    "fig, axes = plt.subplots(1,1)\n",
    "\n",
    "#axes.plot(tlist, result.expect[2], label=r'$\\left<\\sigma_z\\right>$')\n",
    "axes.plot(tlist, result.expect[0], label=r'$\\left<\\sigma_z^{(1)}\\right>$')\n",
    "axes.plot(tlist, result.expect[1], label=r'$\\left<\\sigma_z^{(2)}\\right>$')\n",
    "\n",
    "axes.set_xlabel(r'$t$', fontsize=20)\n",
    "axes.legend(loc=2);"
   ]
  },
  {
   "cell_type": "markdown",
   "metadata": {},
   "source": [
    "Transverse Ising Hamiltonian\n",
    "$\\left|\\uparrow \\uparrow ; n\\right\\rangle_z   \\left|\\downarrow \\downarrow ;n\\right\\rangle_z\n",
    "\\left|\\uparrow \\downarrow ;n - 1\\right\\rangle_z\n",
    "\\left|\\uparrow \\downarrow ;n +1\\right\\rangle_z\n",
    "\\left|\\downarrow \\uparrow ;n - 1\\right\\rangle_z\n",
    "\\left|\\downarrow \\uparrow ;n +1\\right\\rangle_z\n",
    "\\left|\\uparrow \\downarrow ;n\\right\\rangle_z\n",
    "\\left|\\downarrow \\uparrow ;n\\right\\rangle_z\n",
    "$\n",
    "\n",
    "\n",
    "$${\\cal H} = \\sum_{i=1}^{N}\\sum_{j=1}^{i-1} J_{i,j} \\sigma_x^i \\sigma_x^j + B\\sum_{i=1}^{N}\\sigma_y^i$$\n",
    "\n"
   ]
  },
  {
   "cell_type": "markdown",
   "metadata": {},
   "source": [
    "$\\left|\\Psi \\right\\rangle_{ground} = c_1\\left|\\downarrow \\uparrow \\uparrow \\right\\rangle + \n",
    "c_2\\left|\\uparrow \\downarrow \\uparrow \\right\\rangle + \n",
    "c_3\\left|\\uparrow \\uparrow \\downarrow \\right\\rangle + \n",
    "c_4\\left|\\uparrow \\downarrow \\downarrow \\right\\rangle + \n",
    "c_5\\left|\\downarrow \\uparrow \\downarrow \\right\\rangle + \n",
    "c_6\\left|\\downarrow \\downarrow \\uparrow \\right\\rangle$"
   ]
  },
  {
   "cell_type": "markdown",
   "metadata": {},
   "source": [
    "$J_{i,j} = \\frac{(\\eta\\Omega)^2\\omega_m}{\\mu^2 - \\omega_m^2}$"
   ]
  }
 ],
 "metadata": {
  "kernelspec": {
   "display_name": "Python 2",
   "language": "python",
   "name": "python2"
  },
  "language_info": {
   "codemirror_mode": {
    "name": "ipython",
    "version": 2
   },
   "file_extension": ".py",
   "mimetype": "text/x-python",
   "name": "python",
   "nbconvert_exporter": "python",
   "pygments_lexer": "ipython2",
   "version": "2.7.6"
  }
 },
 "nbformat": 4,
 "nbformat_minor": 0
}
