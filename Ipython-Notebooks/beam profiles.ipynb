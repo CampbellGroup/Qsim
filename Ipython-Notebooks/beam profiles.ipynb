{
 "cells": [
  {
   "cell_type": "markdown",
   "metadata": {},
   "source": [
    "## 399 nm waist with S&k microfocuser "
   ]
  },
  {
   "cell_type": "code",
   "execution_count": 1,
   "metadata": {
    "collapsed": false
   },
   "outputs": [
    {
     "name": "stderr",
     "output_type": "stream",
     "text": [
      "/home/qsimexpcontrol/.virtualenvs/labrad/local/lib/python2.7/site-packages/matplotlib/font_manager.py:273: UserWarning: Matplotlib is building the font cache using fc-list. This may take a moment.\n",
      "  warnings.warn('Matplotlib is building the font cache using fc-list. This may take a moment.')\n"
     ]
    }
   ],
   "source": [
    "%matplotlib inline\n",
    "import numpy as np\n",
    "import matplotlib.pyplot as plt\n",
    "from scipy.optimize import curve_fit"
   ]
  },
  {
   "cell_type": "code",
   "execution_count": 2,
   "metadata": {
    "collapsed": false
   },
   "outputs": [
    {
     "name": "stdout",
     "output_type": "stream",
     "text": [
      "sigma=  0.0155587292844\n"
     ]
    },
    {
     "data": {
      "text/plain": [
       "[<matplotlib.lines.Line2D at 0x7f01e7f65c10>]"
      ]
     },
     "execution_count": 2,
     "metadata": {},
     "output_type": "execute_result"
    },
    {
     "data": {
      "image/png": "[encoded data removed]",
      "text/plain": [
       "<matplotlib.figure.Figure at 0x7f01e7f65b90>"
      ]
     },
     "metadata": {},
     "output_type": "display_data"
    }
   ],
   "source": [
    "pos = np.array([10.9,10.85,10.8,10.79,10.78,10.77,10.765]) #micrometer position in mm\n",
    "pos = -1*pos+10.765\n",
    "refpos =  -1*pos[::-1]\n",
    "totpos = np.concatenate((pos,refpos[1:]))\n",
    "inten = np.array([170,169,158,151,132,114,85])# intensity in micro watts\n",
    "inten = -1*(inten - 170)/90.0\n",
    "refinten = inten[::-1]\n",
    "totinten = np.concatenate((inten,refinten[1:]))\n",
    "\n",
    "def func(x, a, x0, sigma):\n",
    "    return a*np.exp(-(x-x0)**2/(2*sigma**2))\n",
    "\n",
    "# Executing curve_fit on noisy data\n",
    "popt, pcov = curve_fit(func, totpos, totinten,p0=[1,0,1])\n",
    "\n",
    "xdata = np.linspace(-0.15,0.15,100)\n",
    "#popt returns the best fit values for parameters of the given model (func)\n",
    "ym = func(xdata, popt[0], popt[1], popt[2])\n",
    "ycust = func(xdata, .9, 0, 0.02)\n",
    "print 'sigma= ',popt[2]\n",
    "plt.plot(totpos,totinten)\n",
    "plt.plot(xdata,ycust)"
   ]
  },
  {
   "cell_type": "code",
   "execution_count": null,
   "metadata": {
    "collapsed": false
   },
   "outputs": [],
   "source": []
  }
 ],
 "metadata": {
  "kernelspec": {
   "display_name": "Python 2",
   "language": "python",
   "name": "python2"
  },
  "language_info": {
   "codemirror_mode": {
    "name": "ipython",
    "version": 2
   },
   "file_extension": ".py",
   "mimetype": "text/x-python",
   "name": "python",
   "nbconvert_exporter": "python",
   "pygments_lexer": "ipython2",
   "version": "2.7.6"
  }
 },
 "nbformat": 4,
 "nbformat_minor": 0
}
