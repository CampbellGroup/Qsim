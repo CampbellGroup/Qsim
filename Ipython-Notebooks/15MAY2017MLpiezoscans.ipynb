{
 "cells": [
  {
   "cell_type": "code",
   "execution_count": 15,
   "metadata": {
    "collapsed": false
   },
   "outputs": [
    {
     "name": "stdout",
     "output_type": "stream",
     "text": [
      "Populating the interactive namespace from numpy and matplotlib\n"
     ]
    }
   ],
   "source": [
    "import numpy as np\n",
    "import matplotlib.pyplot as plt\n",
    "%matplotlib inline\n",
    "%pylab inline\n",
    "pylab.rcParams['figure.figsize'] = (10, 6)"
   ]
  },
  {
   "cell_type": "code",
   "execution_count": 19,
   "metadata": {
    "collapsed": false
   },
   "outputs": [
    {
     "ename": "SyntaxError",
     "evalue": "invalid syntax (<ipython-input-19-4f1749b6b18d>, line 7)",
     "output_type": "error",
     "traceback": [
      "\u001b[1;36m  File \u001b[1;32m\"<ipython-input-19-4f1749b6b18d>\"\u001b[1;36m, line \u001b[1;32m7\u001b[0m\n\u001b[1;33m    if i != 0:tt:\u001b[0m\n\u001b[1;37m                ^\u001b[0m\n\u001b[1;31mSyntaxError\u001b[0m\u001b[1;31m:\u001b[0m invalid syntax\n"
     ]
    }
   ],
   "source": [
    "def data_average(preamble, experiment, datasets):\n",
    "    for i, item in enumerate(datasets):\n",
    "        item = str(item)\n",
    "        if len(item) < 5:\n",
    "            item = (5 -len(item))*'0' + item\n",
    "        temp = np.loadtxt(preamble + item  + ' - ' + experiment + '.csv', delimiter=',')\n",
    "        if i != 0:tt\n",
    "            prev_y = temp[:,1] + prev_y\n",
    "        else:\n",
    "            x_values = temp[:,0]\n",
    "            prev_y = temp[:,1]\n",
    "            y_values = prev_y/len(datasets)\n",
    "    return [x_values, y_values]"
   ]
  },
  {
   "cell_type": "code",
   "execution_count": 17,
   "metadata": {
    "collapsed": false
   },
   "outputs": [
    {
     "ename": "SyntaxError",
     "evalue": "invalid syntax (<ipython-input-17-15d96a889d34>, line 1)",
     "output_type": "error",
     "traceback": [
      "\u001b[1;36m  File \u001b[1;32m\"<ipython-input-17-15d96a889d34>\"\u001b[1;36m, line \u001b[1;32m1\u001b[0m\n\u001b[1;33m    ttdef dataset_contrast(preamble, experiment, datasets):\u001b[0m\n\u001b[1;37m                         ^\u001b[0m\n\u001b[1;31mSyntaxError\u001b[0m\u001b[1;31m:\u001b[0m invalid syntax\n"
     ]
    }
   ],
   "source": [
    "ttdef dataset_contrast(preamble, experiment, datasets):\n",
    "    for item in datasets:\n",
    "        item = str(item)\n",
    "        if len(item) < 5:\n",
    "            item = (5 -len(item))*'0' + itemp\n",
    "        temp = np.loadtxt(preamble + item  + ' - ' + experiment + '.csv', delimiter=',')\n",
    "        y_values = temp[:,1]\n",
    "        contrast = np.amax(y_values[1:]) - np.amin(y_values[1:])\n",
    "        print item, contrast\n",
    "        \n",
    "def crystalized_set(preamble, experiment, datasets, min_contrast):\n",
    "    keep = []\n",
    "    trash = []\n",
    "    for item in datasets:\n",
    "        item = str(item)\n",
    "        if len(item) < 5:\n",
    "            item = (5 -len(item))*'0' + item\n",
    "        temp1 = np.loadtxt(preamble + item  + ' - ' + experiment + '.csv', delimiter=',')\n",
    "        y_value = temp1[:,1]\n",
    "        contrast = np.amax(y_value[1:]) - np.amin(y_value[1:])\n",
    "        if contrast > min_contrast:\n",
    "            keep.append(int(item))\n",
    "            print item, contrast\n",
    "        else: \n",
    "            trash.append(int(item))\n",
    "    print keep, trash\n",
    "    return keep, trash"
   ]
  },
  {
   "cell_type": "code",
   "execution_count": 4,
   "metadata": {
    "collapsed": false
   },
   "outputs": [
    {
     "ename": "IOError",
     "evalue": "[Errno 2] No such file or directory: '/home/cromes/Documents/Research/Data/00750 - MLpiezoscan.csv'",
     "output_type": "error",
     "traceback": [
      "\u001b[1;31m---------------------------------------------------------------------------\u001b[0m",
      "\u001b[1;31mIOError\u001b[0m                                   Traceback (most recent call last)",
      "\u001b[1;32m<ipython-input-4-1097acb45e36>\u001b[0m in \u001b[0;36m<module>\u001b[1;34m()\u001b[0m\n\u001b[1;32m----> 1\u001b[1;33m \u001b[0mcrystal\u001b[0m\u001b[1;33m,\u001b[0m \u001b[0mmelt\u001b[0m \u001b[1;33m=\u001b[0m \u001b[0mcrystalized_set\u001b[0m\u001b[1;33m(\u001b[0m\u001b[1;34m'/home/cromes/Documents/Research/Data/'\u001b[0m\u001b[1;33m,\u001b[0m \u001b[1;34m'MLpiezoscan'\u001b[0m\u001b[1;33m,\u001b[0m \u001b[0mrange\u001b[0m\u001b[1;33m(\u001b[0m\u001b[1;36m750\u001b[0m\u001b[1;33m,\u001b[0m\u001b[1;36m819\u001b[0m\u001b[1;33m)\u001b[0m\u001b[1;33m,\u001b[0m \u001b[1;36m8.5\u001b[0m\u001b[1;33m)\u001b[0m\u001b[1;33m\u001b[0m\u001b[0m\n\u001b[0m\u001b[0;32m      2\u001b[0m \u001b[0mxc\u001b[0m\u001b[1;33m,\u001b[0m \u001b[0myc\u001b[0m \u001b[1;33m=\u001b[0m \u001b[0mdata_average\u001b[0m\u001b[1;33m(\u001b[0m\u001b[1;34m'/home/cromes/Documents/Research/Data/'\u001b[0m\u001b[1;33m,\u001b[0m \u001b[1;34m'MLpiezoscan'\u001b[0m\u001b[1;33m,\u001b[0m \u001b[0mcrystal\u001b[0m\u001b[1;33m)\u001b[0m\u001b[1;33m\u001b[0m\u001b[0m\n\u001b[0;32m      3\u001b[0m \u001b[0mxm\u001b[0m\u001b[1;33m,\u001b[0m \u001b[0mym\u001b[0m \u001b[1;33m=\u001b[0m \u001b[0mdata_average\u001b[0m\u001b[1;33m(\u001b[0m\u001b[1;34m'/home/cromes/Documents/Research/Data/'\u001b[0m\u001b[1;33m,\u001b[0m \u001b[1;34m'MLpiezoscan'\u001b[0m\u001b[1;33m,\u001b[0m \u001b[0mmelt\u001b[0m\u001b[1;33m)\u001b[0m\u001b[1;33m\u001b[0m\u001b[0m\n\u001b[0;32m      4\u001b[0m \u001b[0mxt\u001b[0m\u001b[1;33m,\u001b[0m \u001b[0myt\u001b[0m \u001b[1;33m=\u001b[0m \u001b[0mdata_average\u001b[0m\u001b[1;33m(\u001b[0m\u001b[1;34m'/home/cromes/Documents/Research/Data/'\u001b[0m\u001b[1;33m,\u001b[0m \u001b[1;34m'MLpiezoscan'\u001b[0m\u001b[1;33m,\u001b[0m \u001b[0mrange\u001b[0m\u001b[1;33m(\u001b[0m\u001b[1;36m750\u001b[0m\u001b[1;33m,\u001b[0m\u001b[1;36m819\u001b[0m\u001b[1;33m)\u001b[0m\u001b[1;33m)\u001b[0m\u001b[1;33m\u001b[0m\u001b[0m\n\u001b[0;32m      5\u001b[0m \u001b[0mplt\u001b[0m\u001b[1;33m.\u001b[0m\u001b[0mplot\u001b[0m\u001b[1;33m(\u001b[0m\u001b[0mxc\u001b[0m\u001b[1;33m[\u001b[0m\u001b[1;36m1\u001b[0m\u001b[1;33m:\u001b[0m\u001b[1;33m]\u001b[0m\u001b[1;33m,\u001b[0m \u001b[0myc\u001b[0m\u001b[1;33m[\u001b[0m\u001b[1;36m1\u001b[0m\u001b[1;33m:\u001b[0m\u001b[1;33m]\u001b[0m\u001b[1;33m,\u001b[0m \u001b[0mlabel\u001b[0m \u001b[1;33m=\u001b[0m \u001b[1;34m'Crystalized (contrast limit 8.5 kCounts)'\u001b[0m\u001b[1;33m)\u001b[0m\u001b[1;33m\u001b[0m\u001b[0m\n",
      "\u001b[1;32m<ipython-input-3-12d01ad8e047>\u001b[0m in \u001b[0;36mcrystalized_set\u001b[1;34m(preamble, experiment, datasets, min_contrast)\u001b[0m\n\u001b[0;32m     16\u001b[0m         \u001b[1;32mif\u001b[0m \u001b[0mlen\u001b[0m\u001b[1;33m(\u001b[0m\u001b[0mitem\u001b[0m\u001b[1;33m)\u001b[0m \u001b[1;33m<\u001b[0m \u001b[1;36m5\u001b[0m\u001b[1;33m:\u001b[0m\u001b[1;33m\u001b[0m\u001b[0m\n\u001b[0;32m     17\u001b[0m             \u001b[0mitem\u001b[0m \u001b[1;33m=\u001b[0m \u001b[1;33m(\u001b[0m\u001b[1;36m5\u001b[0m \u001b[1;33m-\u001b[0m\u001b[0mlen\u001b[0m\u001b[1;33m(\u001b[0m\u001b[0mitem\u001b[0m\u001b[1;33m)\u001b[0m\u001b[1;33m)\u001b[0m\u001b[1;33m*\u001b[0m\u001b[1;34m'0'\u001b[0m \u001b[1;33m+\u001b[0m \u001b[0mitem\u001b[0m\u001b[1;33m\u001b[0m\u001b[0m\n\u001b[1;32m---> 18\u001b[1;33m         \u001b[0mtemp1\u001b[0m \u001b[1;33m=\u001b[0m \u001b[0mnp\u001b[0m\u001b[1;33m.\u001b[0m\u001b[0mloadtxt\u001b[0m\u001b[1;33m(\u001b[0m\u001b[0mpreamble\u001b[0m \u001b[1;33m+\u001b[0m \u001b[0mitem\u001b[0m  \u001b[1;33m+\u001b[0m \u001b[1;34m' - '\u001b[0m \u001b[1;33m+\u001b[0m \u001b[0mexperiment\u001b[0m \u001b[1;33m+\u001b[0m \u001b[1;34m'.csv'\u001b[0m\u001b[1;33m,\u001b[0m \u001b[0mdelimiter\u001b[0m\u001b[1;33m=\u001b[0m\u001b[1;34m','\u001b[0m\u001b[1;33m)\u001b[0m\u001b[1;33m\u001b[0m\u001b[0m\n\u001b[0m\u001b[0;32m     19\u001b[0m         \u001b[0my_value\u001b[0m \u001b[1;33m=\u001b[0m \u001b[0mtemp1\u001b[0m\u001b[1;33m[\u001b[0m\u001b[1;33m:\u001b[0m\u001b[1;33m,\u001b[0m\u001b[1;36m1\u001b[0m\u001b[1;33m]\u001b[0m\u001b[1;33m\u001b[0m\u001b[0m\n\u001b[0;32m     20\u001b[0m         \u001b[0mcontrast\u001b[0m \u001b[1;33m=\u001b[0m \u001b[0mnp\u001b[0m\u001b[1;33m.\u001b[0m\u001b[0mamax\u001b[0m\u001b[1;33m(\u001b[0m\u001b[0my_value\u001b[0m\u001b[1;33m[\u001b[0m\u001b[1;36m1\u001b[0m\u001b[1;33m:\u001b[0m\u001b[1;33m]\u001b[0m\u001b[1;33m)\u001b[0m \u001b[1;33m-\u001b[0m \u001b[0mnp\u001b[0m\u001b[1;33m.\u001b[0m\u001b[0mamin\u001b[0m\u001b[1;33m(\u001b[0m\u001b[0my_value\u001b[0m\u001b[1;33m[\u001b[0m\u001b[1;36m1\u001b[0m\u001b[1;33m:\u001b[0m\u001b[1;33m]\u001b[0m\u001b[1;33m)\u001b[0m\u001b[1;33m\u001b[0m\u001b[0m\n",
      "\u001b[1;32m/home/qsimexpcontrol/.virtualenvs/labrad/local/lib/python2.7/site-packages/numpy/lib/npyio.pyc\u001b[0m in \u001b[0;36mloadtxt\u001b[1;34m(fname, dtype, comments, delimiter, converters, skiprows, usecols, unpack, ndmin)\u001b[0m\n\u001b[0;32m    856\u001b[0m                 \u001b[0mfh\u001b[0m \u001b[1;33m=\u001b[0m \u001b[0miter\u001b[0m\u001b[1;33m(\u001b[0m\u001b[0mbz2\u001b[0m\u001b[1;33m.\u001b[0m\u001b[0mBZ2File\u001b[0m\u001b[1;33m(\u001b[0m\u001b[0mfname\u001b[0m\u001b[1;33m)\u001b[0m\u001b[1;33m)\u001b[0m\u001b[1;33m\u001b[0m\u001b[0m\n\u001b[0;32m    857\u001b[0m             \u001b[1;32melif\u001b[0m \u001b[0msys\u001b[0m\u001b[1;33m.\u001b[0m\u001b[0mversion_info\u001b[0m\u001b[1;33m[\u001b[0m\u001b[1;36m0\u001b[0m\u001b[1;33m]\u001b[0m \u001b[1;33m==\u001b[0m \u001b[1;36m2\u001b[0m\u001b[1;33m:\u001b[0m\u001b[1;33m\u001b[0m\u001b[0m\n\u001b[1;32m--> 858\u001b[1;33m                 \u001b[0mfh\u001b[0m \u001b[1;33m=\u001b[0m \u001b[0miter\u001b[0m\u001b[1;33m(\u001b[0m\u001b[0mopen\u001b[0m\u001b[1;33m(\u001b[0m\u001b[0mfname\u001b[0m\u001b[1;33m,\u001b[0m \u001b[1;34m'U'\u001b[0m\u001b[1;33m)\u001b[0m\u001b[1;33m)\u001b[0m\u001b[1;33m\u001b[0m\u001b[0m\n\u001b[0m\u001b[0;32m    859\u001b[0m             \u001b[1;32melse\u001b[0m\u001b[1;33m:\u001b[0m\u001b[1;33m\u001b[0m\u001b[0m\n\u001b[0;32m    860\u001b[0m                 \u001b[0mfh\u001b[0m \u001b[1;33m=\u001b[0m \u001b[0miter\u001b[0m\u001b[1;33m(\u001b[0m\u001b[0mopen\u001b[0m\u001b[1;33m(\u001b[0m\u001b[0mfname\u001b[0m\u001b[1;33m)\u001b[0m\u001b[1;33m)\u001b[0m\u001b[1;33m\u001b[0m\u001b[0m\n",
      "\u001b[1;31mIOError\u001b[0m: [Errno 2] No such file or directory: '/home/cromes/Documents/Research/Data/00750 - MLpiezoscan.csv'"
     ]
    }
   ],
   "source": [
    "crystal, melt = crystalized_set('/home/cromes/Documents/Research/Data/', 'MLpiezoscan', range(750,819), 8.5)\n",
    "xc, yc = data_average('/home/cromes/Documents/Research/Data/', 'MLpiezoscan', crystal)\n",
    "xm, ym = data_average('/home/cromes/Documents/Research/Data/', 'MLpiezoscan', melt)\n",
    "xt, yt = data_average('/home/cromes/Documents/Research/Data/', 'MLpiezoscan', range(750,819))\n",
    "plt.plot(xc[1:], yc[1:], label = 'Crystalized (contrast limit 8.5 kCounts)')\n",
    "plt.plot(xm[1:], ym[1:], label = 'Melted')\n",
    "plt.plot(xt[1:], yt[1:], label = 'Raw Average')\n",
    "plt.xlabel('Piezo Voltage (V)')\n",
    "plt.ylabel('Differential Intensity (kCounts/sec)')\n",
    "plt.title('ML Only Piezo Scans, 175 $\\mu$W')\n",
    "plt.legend(loc=2)"
   ]
  },
  {
   "cell_type": "markdown",
   "metadata": {},
   "source": [
    "Full MLPiezo Scans, CW on, 370 $\\mu$W ML Laser"
   ]
  },
  {
   "cell_type": "code",
   "execution_count": 4,
   "metadata": {
    "collapsed": false
   },
   "outputs": [
    {
     "ename": "IOError",
     "evalue": "[Errno 2] No such file or directory: '/home/cromes/Documents/Research/Data/00569 - MLpiezoscan.csv'",
     "output_type": "error",
     "traceback": [
      "\u001b[1;31m---------------------------------------------------------------------------\u001b[0m",
      "\u001b[1;31mIOError\u001b[0m                                   Traceback (most recent call last)",
      "\u001b[1;32m<ipython-input-4-4cbadb8a076c>\u001b[0m in \u001b[0;36m<module>\u001b[1;34m()\u001b[0m\n\u001b[1;32m----> 1\u001b[1;33m \u001b[0mx\u001b[0m\u001b[1;33m,\u001b[0m \u001b[0my\u001b[0m \u001b[1;33m=\u001b[0m \u001b[0mdata_average\u001b[0m\u001b[1;33m(\u001b[0m\u001b[1;34m'/home/cromes/Documents/Research/Data/'\u001b[0m\u001b[1;33m,\u001b[0m \u001b[1;34m'MLpiezoscan'\u001b[0m\u001b[1;33m,\u001b[0m \u001b[0mrange\u001b[0m\u001b[1;33m(\u001b[0m\u001b[1;36m569\u001b[0m\u001b[1;33m,\u001b[0m\u001b[1;36m635\u001b[0m\u001b[1;33m)\u001b[0m\u001b[1;33m)\u001b[0m\u001b[1;33m\u001b[0m\u001b[0m\n\u001b[0m\u001b[0;32m      2\u001b[0m \u001b[0ms1\u001b[0m\u001b[1;33m,\u001b[0m \u001b[0mp1\u001b[0m \u001b[1;33m=\u001b[0m \u001b[0mdata_average\u001b[0m\u001b[1;33m(\u001b[0m\u001b[1;34m'/home/cromes/Documents/Research/Data/'\u001b[0m\u001b[1;33m,\u001b[0m \u001b[1;34m'MLpiezoscan'\u001b[0m\u001b[1;33m,\u001b[0m \u001b[0mrange\u001b[0m\u001b[1;33m(\u001b[0m\u001b[1;36m569\u001b[0m\u001b[1;33m,\u001b[0m\u001b[1;36m578\u001b[0m\u001b[1;33m)\u001b[0m\u001b[1;33m)\u001b[0m\u001b[1;33m\u001b[0m\u001b[0m\n\u001b[0;32m      3\u001b[0m \u001b[0ms2\u001b[0m\u001b[1;33m,\u001b[0m \u001b[0mp2\u001b[0m \u001b[1;33m=\u001b[0m \u001b[0mdata_average\u001b[0m\u001b[1;33m(\u001b[0m\u001b[1;34m'/home/cromes/Documents/Research/Data/'\u001b[0m\u001b[1;33m,\u001b[0m \u001b[1;34m'MLpiezoscan'\u001b[0m\u001b[1;33m,\u001b[0m \u001b[0mrange\u001b[0m\u001b[1;33m(\u001b[0m\u001b[1;36m579\u001b[0m\u001b[1;33m,\u001b[0m\u001b[1;36m588\u001b[0m\u001b[1;33m)\u001b[0m\u001b[1;33m)\u001b[0m\u001b[1;33m\u001b[0m\u001b[0m\n\u001b[0;32m      4\u001b[0m \u001b[0ms3\u001b[0m\u001b[1;33m,\u001b[0m \u001b[0mp3\u001b[0m \u001b[1;33m=\u001b[0m \u001b[0mdata_average\u001b[0m\u001b[1;33m(\u001b[0m\u001b[1;34m'/home/cromes/Documents/Research/Data/'\u001b[0m\u001b[1;33m,\u001b[0m \u001b[1;34m'MLpiezoscan'\u001b[0m\u001b[1;33m,\u001b[0m \u001b[0mrange\u001b[0m\u001b[1;33m(\u001b[0m\u001b[1;36m589\u001b[0m\u001b[1;33m,\u001b[0m\u001b[1;36m598\u001b[0m\u001b[1;33m)\u001b[0m\u001b[1;33m)\u001b[0m\u001b[1;33m\u001b[0m\u001b[0m\n\u001b[0;32m      5\u001b[0m \u001b[0ms4\u001b[0m\u001b[1;33m,\u001b[0m \u001b[0mp4\u001b[0m \u001b[1;33m=\u001b[0m \u001b[0mdata_average\u001b[0m\u001b[1;33m(\u001b[0m\u001b[1;34m'/home/cromes/Documents/Research/Data/'\u001b[0m\u001b[1;33m,\u001b[0m \u001b[1;34m'MLpiezoscan'\u001b[0m\u001b[1;33m,\u001b[0m \u001b[0mrange\u001b[0m\u001b[1;33m(\u001b[0m\u001b[1;36m599\u001b[0m\u001b[1;33m,\u001b[0m\u001b[1;36m608\u001b[0m\u001b[1;33m)\u001b[0m\u001b[1;33m)\u001b[0m\u001b[1;33m\u001b[0m\u001b[0m\n",
      "\u001b[1;32m<ipython-input-2-dbc395ecd1ac>\u001b[0m in \u001b[0;36mdata_average\u001b[1;34m(preamble, experiment, datasets)\u001b[0m\n\u001b[0;32m      4\u001b[0m         \u001b[1;32mif\u001b[0m \u001b[0mlen\u001b[0m\u001b[1;33m(\u001b[0m\u001b[0mitem\u001b[0m\u001b[1;33m)\u001b[0m \u001b[1;33m<\u001b[0m \u001b[1;36m5\u001b[0m\u001b[1;33m:\u001b[0m\u001b[1;33m\u001b[0m\u001b[0m\n\u001b[0;32m      5\u001b[0m             \u001b[0mitem\u001b[0m \u001b[1;33m=\u001b[0m \u001b[1;33m(\u001b[0m\u001b[1;36m5\u001b[0m \u001b[1;33m-\u001b[0m\u001b[0mlen\u001b[0m\u001b[1;33m(\u001b[0m\u001b[0mitem\u001b[0m\u001b[1;33m)\u001b[0m\u001b[1;33m)\u001b[0m\u001b[1;33m*\u001b[0m\u001b[1;34m'0'\u001b[0m \u001b[1;33m+\u001b[0m \u001b[0mitem\u001b[0m\u001b[1;33m\u001b[0m\u001b[0m\n\u001b[1;32m----> 6\u001b[1;33m         \u001b[0mtemp\u001b[0m \u001b[1;33m=\u001b[0m \u001b[0mnp\u001b[0m\u001b[1;33m.\u001b[0m\u001b[0mloadtxt\u001b[0m\u001b[1;33m(\u001b[0m\u001b[0mpreamble\u001b[0m \u001b[1;33m+\u001b[0m \u001b[0mitem\u001b[0m  \u001b[1;33m+\u001b[0m \u001b[1;34m' - '\u001b[0m \u001b[1;33m+\u001b[0m \u001b[0mexperiment\u001b[0m \u001b[1;33m+\u001b[0m \u001b[1;34m'.csv'\u001b[0m\u001b[1;33m,\u001b[0m \u001b[0mdelimiter\u001b[0m\u001b[1;33m=\u001b[0m\u001b[1;34m','\u001b[0m\u001b[1;33m)\u001b[0m\u001b[1;33m\u001b[0m\u001b[0m\n\u001b[0m\u001b[0;32m      7\u001b[0m         \u001b[1;32mif\u001b[0m \u001b[0mi\u001b[0m \u001b[1;33m!=\u001b[0m \u001b[1;36m0\u001b[0m\u001b[1;33m:\u001b[0m\u001b[1;33m\u001b[0m\u001b[0m\n\u001b[0;32m      8\u001b[0m             \u001b[0mprev_y\u001b[0m \u001b[1;33m=\u001b[0m \u001b[0mtemp\u001b[0m\u001b[1;33m[\u001b[0m\u001b[1;33m:\u001b[0m\u001b[1;33m,\u001b[0m\u001b[1;36m1\u001b[0m\u001b[1;33m]\u001b[0m \u001b[1;33m+\u001b[0m \u001b[0mprev_y\u001b[0m\u001b[1;33m\u001b[0m\u001b[0m\n",
      "\u001b[1;32m/home/qsimexpcontrol/.virtualenvs/labrad/local/lib/python2.7/site-packages/numpy/lib/npyio.pyc\u001b[0m in \u001b[0;36mloadtxt\u001b[1;34m(fname, dtype, comments, delimiter, converters, skiprows, usecols, unpack, ndmin)\u001b[0m\n\u001b[0;32m    856\u001b[0m                 \u001b[0mfh\u001b[0m \u001b[1;33m=\u001b[0m \u001b[0miter\u001b[0m\u001b[1;33m(\u001b[0m\u001b[0mbz2\u001b[0m\u001b[1;33m.\u001b[0m\u001b[0mBZ2File\u001b[0m\u001b[1;33m(\u001b[0m\u001b[0mfname\u001b[0m\u001b[1;33m)\u001b[0m\u001b[1;33m)\u001b[0m\u001b[1;33m\u001b[0m\u001b[0m\n\u001b[0;32m    857\u001b[0m             \u001b[1;32melif\u001b[0m \u001b[0msys\u001b[0m\u001b[1;33m.\u001b[0m\u001b[0mversion_info\u001b[0m\u001b[1;33m[\u001b[0m\u001b[1;36m0\u001b[0m\u001b[1;33m]\u001b[0m \u001b[1;33m==\u001b[0m \u001b[1;36m2\u001b[0m\u001b[1;33m:\u001b[0m\u001b[1;33m\u001b[0m\u001b[0m\n\u001b[1;32m--> 858\u001b[1;33m                 \u001b[0mfh\u001b[0m \u001b[1;33m=\u001b[0m \u001b[0miter\u001b[0m\u001b[1;33m(\u001b[0m\u001b[0mopen\u001b[0m\u001b[1;33m(\u001b[0m\u001b[0mfname\u001b[0m\u001b[1;33m,\u001b[0m \u001b[1;34m'U'\u001b[0m\u001b[1;33m)\u001b[0m\u001b[1;33m)\u001b[0m\u001b[1;33m\u001b[0m\u001b[0m\n\u001b[0m\u001b[0;32m    859\u001b[0m             \u001b[1;32melse\u001b[0m\u001b[1;33m:\u001b[0m\u001b[1;33m\u001b[0m\u001b[0m\n\u001b[0;32m    860\u001b[0m                 \u001b[0mfh\u001b[0m \u001b[1;33m=\u001b[0m \u001b[0miter\u001b[0m\u001b[1;33m(\u001b[0m\u001b[0mopen\u001b[0m\u001b[1;33m(\u001b[0m\u001b[0mfname\u001b[0m\u001b[1;33m)\u001b[0m\u001b[1;33m)\u001b[0m\u001b[1;33m\u001b[0m\u001b[0m\n",
      "\u001b[1;31mIOError\u001b[0m: [Errno 2] No such file or directory: '/home/cromes/Documents/Research/Data/00569 - MLpiezoscan.csv'"
     ]
    }
   ],
   "source": [
    "x, y = data_average('/home/cromes/Documents/Research/Data/', 'MLpiezoscan', range(569,635))\n",
    "s1, p1 = data_average('/home/cromes/Documents/Research/Data/', 'MLpiezoscan', range(569,578))\n",
    "s2, p2 = data_average('/home/cromes/Documents/Research/Data/', 'MLpiezoscan', range(579,588))\n",
    "s3, p3 = data_average('/home/cromes/Documents/tResearch/Data/', 'MLpiezoscan', range(589,598))\n",
    "s4, p4 = data_average('/home/cromes/Documents/Research/Data/', 'MLpiezoscan', range(599,608))\n",
    "s5, p5 = data_average('/home/cromes/Documents/Research/Data/', 'MLpiezoscan', range(609,618))\n",
    "s6, p6 = data_average('/home/cromes/Documents/Research/Data/', 'MLpiezoscan', range(619,628))\n",
    "s7, p7 = data_average('/home/cromes/Documents/Research/Data/', 'MLpiezoscan', range(629,635))\n",
    "\n",
    "y_avg_1_4 = (p1[13:] + p2[9:196] + p3[6:193] + p4[:187])/4.0\n",
    "x_avg_1_4 = s1[:187]\n",
    "y_avg_5_7 = (p5[:187] + p6[:187] + p7[:187])/3.0\n",
    "x_avg_5_7 = s1[:187]\n"
   ]
  },
  {
   "cell_type": "code",
   "execution_count": null,
   "metadata": {
    "collapsed": false
   },
   "outputs": [],
   "source": [
    "tplt.plot(s1[1:] - 0.45,p1[1:], label='1')\n",
    "plt.plot(s2[1:] - 0.3,p2[1:], label='2')\n",
    "plt.plot(s3[1:] - 0.2,p3[1:], label='3')\n",
    "plt.plot(s4[1:],p4[1:], label='4')\n",
    "plt.plot(s5[1:],p5[1:], label='5')\n",
    "plt.plot(s6[1:],p6[1:], label='6')\n",
    "plt.plot(s7[1:],p7[1:], label='7')\n",
    "plt.legend(loc=1)\n",
    "plt.xlabel('Piezo Voltage (V)')\n",
    "plt.ylabel('Intensity (kCounts/sec)')\n",
    "plt.title('ML Piezo Scans (370 $\\mu$W ML) w/ CW in sets of 10 to show drift')\n",
    "print len(p1[:186])"
   ]
  },
  {
   "cell_type": "code",
   "execution_count": null,
   "metadata": {
    "collapsed": true
   },
   "outputs": [],
   "source": [
    "20y_avg = (p1[13:] + p2[9:196] + p3[6:193] + p4[:187] + p5[:187] + p6[:187] + p7[:187])/7.0\n",
    "x_avg = s1[:187]"
   ]
  },
  {
   "cell_type": "code",
   "execution_count": null,
   "metadata": {
    "collapsed": false
   },
   "outputs": [],
   "source": [
    "plt.plot(x_avg, y_avg, label = 'Total avg')\n",
    "plt.plot(x_avg_1_4, y_avg_1_4, label = 'Scans 1-4, avg')\n",
    "plt.plot(x_avg_5_7, y_avg_5_7, label = 'Scans 5-7, avg')\n",
    "plt.xlabel('Piezo Voltage (V)')\n",
    "plt.ylabel('Intensity (kCounts/sec)')\n",
    "plt.title('ML Piezo Scan w/ CW, 370 $\\mu$W of ML')\n",
    "plt.legend(loc = 2)"
   ]
  },
  {
   "cell_type": "markdown",
   "metadata": {},
   "source": [
    "Full MLPiezo Scans, ML Only 720 $\\mu$W"
   ]
  },
  {
   "cell_type": "code",
   "execution_count": null,
   "metadata": {
    "collapsed": true
   },
   "outputs": [],
   "source": [
    "x1, y1 = data_average('/home/cromes/Documents/Research/Data/', 'MLpiezoscan', range(646,652))"
   ]
  },
  {
   "cell_type": "code",
   "execution_count": null,
   "metadata": {
    "collapsed": false
   },
   "outputs": [],
   "source": [
    "plt.plot(x1[1:],y1[1:])"
   ]
  },
  {
   "cell_type": "markdown",
   "metadata": {},
   "source": [
    "ML Laser Only, 400 $\\mu$W"
   ]
  },
  {
   "cell_type": "code",
   "execution_count": null,
   "metadata": {
    "collapsed": false
   },
   "outputs": [],
   "source": [
    "x2, y2 = data_average('/home/cromes/Documents/Research/Data/', 'MLpiezoscan', range(661,675))\n",
    "plt.plot(x2[1:],y2[1:])"
   ]
  },
  {
   "cell_type": "markdown",
   "metadata": {},
   "source": [
    "ML Laser Only, 200 $\\mu$W"
   ]
  },
  {
   "cell_type": "code",
   "execution_count": null,
   "metadata": {
    "collapsed": false
   },
   "outputs": [],
   "source": [
    "x3, y3 = data_average('/home/cromes/Documents/Research/Data/', 'MLpiezoscan', range(678,684)) #688 \n",
    "plt.plot(x3[1:],y3[1:])"
   ]
  },
  {
   "cell_type": "markdown",
   "metadata": {},
   "source": [
    "Finer ML Piezo Scan 1, ML Only, 800 $\\mu$W"
   ]
  },
  {
   "cell_type": "code",
   "execution_count": null,
   "metadata": {
    "collapsed": false
   },
   "outputs": [],
   "source": [
    "x4, y4 = data_average('/home/cromes/Documents/Research/Data/', 'MLpiezoscan', range(697,715))\n",
    "plt.plot(x4[1:],y4[1:])"
   ]
  },
  {
   "cell_type": "code",
   "execution_count": 5,
   "metadata": {
    "collapsed": false
   },
   "outputs": [
    {
     "ename": "IOError",
     "evalue": "[Errno 2] No such file or directory: '/home/cromes/Documents/Research/Data/00697 - MLpiezoscan.csv'",
     "output_type": "error",
     "traceback": [
      "\u001b[1;31m---------------------------------------------------------------------------\u001b[0m",
      "\u001b[1;31mIOError\u001b[0m                                   Traceback (most recent call last)",
      "\u001b[1;32m<ipython-input-5-57fa53218c61>\u001b[0m in \u001b[0;36m<module>\u001b[1;34m()\u001b[0m\n\u001b[1;32m----> 1\u001b[1;33m \u001b[0mcrystal1\u001b[0m\u001b[1;33m,\u001b[0m \u001b[0mmelt1\u001b[0m \u001b[1;33m=\u001b[0m \u001b[0mcrystalized_set\u001b[0m\u001b[1;33m(\u001b[0m\u001b[1;34m'/home/cromes/Documents/Research/Data/'\u001b[0m\u001b[1;33m,\u001b[0m \u001b[1;34m'MLpiezoscan'\u001b[0m\u001b[1;33m,\u001b[0m \u001b[0mrange\u001b[0m\u001b[1;33m(\u001b[0m\u001b[1;36m697\u001b[0m\u001b[1;33m,\u001b[0m\u001b[1;36m715\u001b[0m\u001b[1;33m)\u001b[0m\u001b[1;33m,\u001b[0m \u001b[1;36m16\u001b[0m\u001b[1;33m)\u001b[0m\u001b[1;33m\u001b[0m\u001b[0m\n\u001b[0m\u001b[0;32m      2\u001b[0m \u001b[0mxc1\u001b[0m\u001b[1;33m,\u001b[0m \u001b[0myc1\u001b[0m \u001b[1;33m=\u001b[0m \u001b[0mdata_average\u001b[0m\u001b[1;33m(\u001b[0m\u001b[1;34m'/home/cromes/Documents/Research/Data/'\u001b[0m\u001b[1;33m,\u001b[0m \u001b[1;34m'MLpiezoscan'\u001b[0m\u001b[1;33m,\u001b[0m \u001b[0mcrystal1\u001b[0m\u001b[1;33m)\u001b[0m\u001b[1;33m\u001b[0m\u001b[0m\n\u001b[0;32m      3\u001b[0m \u001b[0mxm1\u001b[0m\u001b[1;33m,\u001b[0m \u001b[0mym1\u001b[0m \u001b[1;33m=\u001b[0m \u001b[0mdata_average\u001b[0m\u001b[1;33m(\u001b[0m\u001b[1;34m'/home/cromes/Documents/Research/Data/'\u001b[0m\u001b[1;33m,\u001b[0m \u001b[1;34m'MLpiezoscan'\u001b[0m\u001b[1;33m,\u001b[0m \u001b[0mmelt1\u001b[0m\u001b[1;33m)\u001b[0m\u001b[1;33m\u001b[0m\u001b[0m\n\u001b[0;32m      4\u001b[0m \u001b[0mxt1\u001b[0m\u001b[1;33m,\u001b[0m \u001b[0myt1\u001b[0m \u001b[1;33m=\u001b[0m \u001b[0mdata_average\u001b[0m\u001b[1;33m(\u001b[0m\u001b[1;34m'/home/cromes/Documents/Research/Data/'\u001b[0m\u001b[1;33m,\u001b[0m \u001b[1;34m'MLpiezoscan'\u001b[0m\u001b[1;33m,\u001b[0m \u001b[0mrange\u001b[0m\u001b[1;33m(\u001b[0m\u001b[1;36m697\u001b[0m\u001b[1;33m,\u001b[0m\u001b[1;36m715\u001b[0m\u001b[1;33m)\u001b[0m\u001b[1;33m)\u001b[0m\u001b[1;33m\u001b[0m\u001b[0m\n\u001b[0;32m      5\u001b[0m \u001b[0mplt\u001b[0m\u001b[1;33m.\u001b[0m\u001b[0mplot\u001b[0m\u001b[1;33m(\u001b[0m\u001b[0mxc1\u001b[0m\u001b[1;33m[\u001b[0m\u001b[1;36m1\u001b[0m\u001b[1;33m:\u001b[0m\u001b[1;33m]\u001b[0m\u001b[1;33m,\u001b[0m \u001b[0myc1\u001b[0m\u001b[1;33m[\u001b[0m\u001b[1;36m1\u001b[0m\u001b[1;33m:\u001b[0m\u001b[1;33m]\u001b[0m\u001b[1;33m,\u001b[0m \u001b[0mlabel\u001b[0m \u001b[1;33m=\u001b[0m \u001b[1;34m'Crystalized (contrast limit 13 kCounts)'\u001b[0m\u001b[1;33m)\u001b[0m\u001b[1;33m\u001b[0m\u001b[0m\n",
      "\u001b[1;32m<ipython-input-3-12d01ad8e047>\u001b[0m in \u001b[0;36mcrystalized_set\u001b[1;34m(preamble, experiment, datasets, min_contrast)\u001b[0m\n\u001b[0;32m     16\u001b[0m         \u001b[1;32mif\u001b[0m \u001b[0mlen\u001b[0m\u001b[1;33m(\u001b[0m\u001b[0mitem\u001b[0m\u001b[1;33m)\u001b[0m \u001b[1;33m<\u001b[0m \u001b[1;36m5\u001b[0m\u001b[1;33m:\u001b[0m\u001b[1;33m\u001b[0m\u001b[0m\n\u001b[0;32m     17\u001b[0m             \u001b[0mitem\u001b[0m \u001b[1;33m=\u001b[0m \u001b[1;33m(\u001b[0m\u001b[1;36m5\u001b[0m \u001b[1;33m-\u001b[0m\u001b[0mlen\u001b[0m\u001b[1;33m(\u001b[0m\u001b[0mitem\u001b[0m\u001b[1;33m)\u001b[0m\u001b[1;33m)\u001b[0m\u001b[1;33m*\u001b[0m\u001b[1;34m'0'\u001b[0m \u001b[1;33m+\u001b[0m \u001b[0mitem\u001b[0m\u001b[1;33m\u001b[0m\u001b[0m\n\u001b[1;32m---> 18\u001b[1;33m         \u001b[0mtemp1\u001b[0m \u001b[1;33m=\u001b[0m \u001b[0mnp\u001b[0m\u001b[1;33m.\u001b[0m\u001b[0mloadtxt\u001b[0m\u001b[1;33m(\u001b[0m\u001b[0mpreamble\u001b[0m \u001b[1;33m+\u001b[0m \u001b[0mitem\u001b[0m  \u001b[1;33m+\u001b[0m \u001b[1;34m' - '\u001b[0m \u001b[1;33m+\u001b[0m \u001b[0mexperiment\u001b[0m \u001b[1;33m+\u001b[0m \u001b[1;34m'.csv'\u001b[0m\u001b[1;33m,\u001b[0m \u001b[0mdelimiter\u001b[0m\u001b[1;33m=\u001b[0m\u001b[1;34m','\u001b[0m\u001b[1;33m)\u001b[0m\u001b[1;33m\u001b[0m\u001b[0m\n\u001b[0m\u001b[0;32m     19\u001b[0m         \u001b[0my_value\u001b[0m \u001b[1;33m=\u001b[0m \u001b[0mtemp1\u001b[0m\u001b[1;33m[\u001b[0m\u001b[1;33m:\u001b[0m\u001b[1;33m,\u001b[0m\u001b[1;36m1\u001b[0m\u001b[1;33m]\u001b[0m\u001b[1;33m\u001b[0m\u001b[0m\n\u001b[0;32m     20\u001b[0m         \u001b[0mcontrast\u001b[0m \u001b[1;33m=\u001b[0m \u001b[0mnp\u001b[0m\u001b[1;33m.\u001b[0m\u001b[0mamax\u001b[0m\u001b[1;33m(\u001b[0m\u001b[0my_value\u001b[0m\u001b[1;33m[\u001b[0m\u001b[1;36m1\u001b[0m\u001b[1;33m:\u001b[0m\u001b[1;33m]\u001b[0m\u001b[1;33m)\u001b[0m \u001b[1;33m-\u001b[0m \u001b[0mnp\u001b[0m\u001b[1;33m.\u001b[0m\u001b[0mamin\u001b[0m\u001b[1;33m(\u001b[0m\u001b[0my_value\u001b[0m\u001b[1;33m[\u001b[0m\u001b[1;36m1\u001b[0m\u001b[1;33m:\u001b[0m\u001b[1;33m]\u001b[0m\u001b[1;33m)\u001b[0m\u001b[1;33m\u001b[0m\u001b[0m\n",
      "\u001b[1;32m/home/qsimexpcontrol/.virtualenvs/labrad/local/lib/python2.7/site-packages/numpy/lib/npyio.pyc\u001b[0m in \u001b[0;36mloadtxt\u001b[1;34m(fname, dtype, comments, delimiter, converters, skiprows, usecols, unpack, ndmin)\u001b[0m\n\u001b[0;32m    856\u001b[0m                 \u001b[0mfh\u001b[0m \u001b[1;33m=\u001b[0m \u001b[0miter\u001b[0m\u001b[1;33m(\u001b[0m\u001b[0mbz2\u001b[0m\u001b[1;33m.\u001b[0m\u001b[0mBZ2File\u001b[0m\u001b[1;33m(\u001b[0m\u001b[0mfname\u001b[0m\u001b[1;33m)\u001b[0m\u001b[1;33m)\u001b[0m\u001b[1;33m\u001b[0m\u001b[0m\n\u001b[0;32m    857\u001b[0m             \u001b[1;32melif\u001b[0m \u001b[0msys\u001b[0m\u001b[1;33m.\u001b[0m\u001b[0mversion_info\u001b[0m\u001b[1;33m[\u001b[0m\u001b[1;36m0\u001b[0m\u001b[1;33m]\u001b[0m \u001b[1;33m==\u001b[0m \u001b[1;36m2\u001b[0m\u001b[1;33m:\u001b[0m\u001b[1;33m\u001b[0m\u001b[0m\n\u001b[1;32m--> 858\u001b[1;33m                 \u001b[0mfh\u001b[0m \u001b[1;33m=\u001b[0m \u001b[0miter\u001b[0m\u001b[1;33m(\u001b[0m\u001b[0mopen\u001b[0m\u001b[1;33m(\u001b[0m\u001b[0mfname\u001b[0m\u001b[1;33m,\u001b[0m \u001b[1;34m'U'\u001b[0m\u001b[1;33m)\u001b[0m\u001b[1;33m)\u001b[0m\u001b[1;33m\u001b[0m\u001b[0m\n\u001b[0m\u001b[0;32m    859\u001b[0m             \u001b[1;32melse\u001b[0m\u001b[1;33m:\u001b[0m\u001b[1;33m\u001b[0m\u001b[0m\n\u001b[0;32m    860\u001b[0m                 \u001b[0mfh\u001b[0m \u001b[1;33m=\u001b[0m \u001b[0miter\u001b[0m\u001b[1;33m(\u001b[0m\u001b[0mopen\u001b[0m\u001b[1;33m(\u001b[0m\u001b[0mfname\u001b[0m\u001b[1;33m)\u001b[0m\u001b[1;33m)\u001b[0m\u001b[1;33m\u001b[0m\u001b[0m\n",
      "\u001b[1;31mIOError\u001b[0m: [Errno 2] No such file or directory: '/home/cromes/Documents/Research/Data/00697 - MLpiezoscan.csv'"
     ]
    }
   ],
   "source": [
    "crystal1, melt1 = crystalized_set('/home/cromes/Documents/Research/Data/', 'MLpiezoscan', range(697,715), 16)\n",
    "xc1, yc1 = data_average('/home/cromes/Documents/Research/Data/', 'MLpiezoscan', crystal1)\n",
    "xm1, ym1 = data_average('/home/cromes/Documents/Research/Data/', 'MLpiezoscan', melt1)\n",
    "xt1, yt1 = data_average('/home/cromes/Documents/Research/Data/', 'MLpiezoscan', range(697,715))\n",
    "plt.plot(xc1[1:], yc1[1:], label = 'Crystalized (contrast limit 13 kCounts)')\n",
    "plt.plot(xm1[1:], ym1[1:], label = 'Melted')\n",
    "plt.plot(xt1[1:], yt1[1:], label = 'Raw Average')\n",
    "plt.xlabel('Piezo Voltage (V)')\n",
    "plt.ylabel('Differential Intensity (kCounts/sec)')\n",
    "plt.title('ML Only Piezo Scans, 800 $\\mu$W')\n",
    "plt.legend(loc=4)"
   ]
  },
  {
   "cell_type": "markdown",
   "metadata": {},
   "source": [
    "Finer ML Piezo Scan 2, ML Only, 800 $\\mu$W"
   ]
  },
  {
   "cell_type": "code",
   "execution_count": null,
   "metadata": {
    "collapsed": false
   },
   "outputs": [],
   "source": [
    "x6, y6 = data_average('/home/cromes/Documents/Research/Data/', 'MLpiezoscan', range(726,748))\n",
    "plt.plot(x6[1:],y6[1:])"
   ]
  },
  {
   "cell_type": "markdown",
   "metadata": {},
   "source": [
    "Finer ML Piezo Scan, ML Only, 175 $\\mu$W"
   ]
  },
  {
   "cell_type": "code",
   "execution_count": null,
   "metadata": {
    "collapsed": false
   },
   "outputs": [],
   "source": [
    "x5, y5 = data_average('/home/cromes/Documents/Research/Data/', 'MLpiezoscan', range(750,818))\n",
    "plt.plot(x5[1:],y5[1:])#, xc[1:],yc[1:])"
   ]
  }
 ],
 "metadata": {
  "kernelspec": {
   "display_name": "Python 2",
   "language": "python",
   "name": "python2"
  },
  "language_info": {
   "codemirror_mode": {
    "name": "ipython",
    "version": 2
   },
   "file_extension": ".py",
   "mimetype": "text/x-python",
   "name": "python",
   "nbconvert_exporter": "python",
   "pygments_lexer": "ipython2",
   "version": "2.7.6"
  }
 },
 "nbformat": 4,
 "nbformat_minor": 2
}
